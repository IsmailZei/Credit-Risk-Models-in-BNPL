{
 "cells": [
  {
   "cell_type": "code",
   "execution_count": 1,
   "metadata": {},
   "outputs": [],
   "source": [
    "import matplotlib.pyplot as plt\n",
    "import pandas as pd\n",
    "import numpy as np\n",
    "from sklearn.compose import ColumnTransformer\n",
    "from sklearn.preprocessing import StandardScaler, OneHotEncoder\n",
    "from sklearn.metrics import precision_recall_curve\n",
    "from sklearn.linear_model import LogisticRegression\n",
    "from sklearn.metrics import classification_report, confusion_matrix\n",
    "from sklearn.metrics import (\n",
    "    accuracy_score,\n",
    "    precision_score,\n",
    "    recall_score,\n",
    "    f1_score,\n",
    "    roc_auc_score,\n",
    "    confusion_matrix,\n",
    "    classification_report,\n",
    "    roc_curve\n",
    ")"
   ]
  },
  {
   "cell_type": "code",
   "execution_count": 46,
   "metadata": {},
   "outputs": [],
   "source": [
    "train_df = pd.read_csv(r'C:\\Users\\ixz407\\OneDrive - University of Birmingham\\Dissertation\\Machine Learning\\Dissertation\\Tables\\bnpl_train.csv')\n",
    "test_df = pd.read_csv(r'C:\\Users\\ixz407\\OneDrive - University of Birmingham\\Dissertation\\Machine Learning\\Dissertation\\Tables\\bnpl_test.csv')\n",
    "val_df = pd.read_csv(r'C:\\Users\\ixz407\\OneDrive - University of Birmingham\\Dissertation\\Machine Learning\\Dissertation\\Tables\\bnpl_val.csv')\n",
    "target_col = \"default_flag\""
   ]
  },
  {
   "cell_type": "code",
   "execution_count": 47,
   "metadata": {},
   "outputs": [
    {
     "name": "stdout",
     "output_type": "stream",
     "text": [
      "(595, 16) (199, 16) (199, 16)\n",
      "   failed_traditional_credit  external_repayment_loans  \\\n",
      "0                          1                         1   \n",
      "1                          0                         0   \n",
      "2                          0                         0   \n",
      "3                          0                         0   \n",
      "4                          0                         1   \n",
      "\n",
      "   credit_card_interest_incidence  default_flag  bnpl_usage_frequency  \\\n",
      "0                               0             0             -0.730258   \n",
      "1                               0             0              1.319109   \n",
      "2                               0             0              0.408279   \n",
      "3                               1             0             -1.641088   \n",
      "4                               1             0              0.408279   \n",
      "\n",
      "   financial_stress_score  credit_limit_utilisation  \\\n",
      "0               -1.246089                 -1.746734   \n",
      "1                0.529472                 -0.222965   \n",
      "2                1.239697                  0.805578   \n",
      "3                1.594809                 -0.184871   \n",
      "4                0.529472                 -1.556263   \n",
      "\n",
      "   payment_delinquency_count  impulsive_buying_score  \\\n",
      "0                  -1.500097               -0.528311   \n",
      "1                  -1.500097               -0.528311   \n",
      "2                   1.462180                0.160491   \n",
      "3                  -0.907642               -0.872712   \n",
      "4                  -0.907642               -0.872712   \n",
      "\n",
      "   financial_literacy_assessment  debt_accumulation_metric  \\\n",
      "0                       1.490696                  0.734593   \n",
      "1                       1.154347                 -0.311963   \n",
      "2                      -0.527394                 -1.757863   \n",
      "3                       0.481651                 -1.117536   \n",
      "4                      -0.527394                 -0.601143   \n",
      "\n",
      "   return_dispute_incidents  demographic_risk_factor  bnpl_debt_ratio  \\\n",
      "0                 -0.484419                -0.044657         1.691706   \n",
      "1                 -0.484419                 0.653109         1.604095   \n",
      "2                  1.267548                 1.350875        -0.726369   \n",
      "3                  1.267548                -1.440189        -1.357171   \n",
      "4                  0.391565                 0.653109        -1.760183   \n",
      "\n",
      "   stress_usage_interaction  adjusted_debt_interaction  \n",
      "0                  0.909966                  -2.108016  \n",
      "1                  0.698432                   0.849324  \n",
      "2                  0.506143                  -0.900477  \n",
      "3                 -2.617221                  -2.164428  \n",
      "4                  0.216173                  -0.931968      failed_traditional_credit  external_repayment_loans  \\\n",
      "0                          0                         0   \n",
      "1                          0                         0   \n",
      "2                          1                         1   \n",
      "3                          0                         0   \n",
      "4                          0                         0   \n",
      "\n",
      "   credit_card_interest_incidence  default_flag  bnpl_usage_frequency  \\\n",
      "0                               0             0              0.180572   \n",
      "1                               1             0             -1.413380   \n",
      "2                               0             0              1.546817   \n",
      "3                               0             0             -1.413380   \n",
      "4                               0             0             -0.047135   \n",
      "\n",
      "   financial_stress_score  credit_limit_utilisation  \\\n",
      "0               -0.890977                  0.005600   \n",
      "1                1.594809                  1.643651   \n",
      "2                0.174360                 -1.670546   \n",
      "3               -0.180752                 -1.327698   \n",
      "4                0.529472                  1.567463   \n",
      "\n",
      "   payment_delinquency_count  impulsive_buying_score  \\\n",
      "0                   1.462180                0.504892   \n",
      "1                  -0.315186               -0.528311   \n",
      "2                  -1.500097                0.504892   \n",
      "3                  -0.907642               -1.217113   \n",
      "4                   1.462180                0.504892   \n",
      "\n",
      "   financial_literacy_assessment  debt_accumulation_metric  \\\n",
      "0                      -0.527394                 -0.126062   \n",
      "1                       0.145302                  0.796560   \n",
      "2                       1.154347                  1.244101   \n",
      "3                      -0.191046                  0.369675   \n",
      "4                      -0.527394                 -0.112291   \n",
      "\n",
      "   return_dispute_incidents  demographic_risk_factor  bnpl_debt_ratio  \\\n",
      "0                  1.267548                 1.350875         1.516483   \n",
      "1                  1.267548                -0.742423        -1.584960   \n",
      "2                  1.267548                -0.044657         0.833114   \n",
      "3                 -0.484419                 0.653109        -0.638757   \n",
      "4                 -1.360402                -0.044657        -1.094336   \n",
      "\n",
      "   stress_usage_interaction  adjusted_debt_interaction  \n",
      "0                 -0.160885                  -1.351151  \n",
      "1                 -2.254071                  -2.527709  \n",
      "2                  0.269703                   0.145262  \n",
      "3                  0.255471                   0.115457  \n",
      "4                 -0.024957                  -0.579421      failed_traditional_credit  external_repayment_loans  \\\n",
      "0                          0                         0   \n",
      "1                          0                         0   \n",
      "2                          0                         0   \n",
      "3                          0                         1   \n",
      "4                          0                         0   \n",
      "\n",
      "   credit_card_interest_incidence  default_flag  bnpl_usage_frequency  \\\n",
      "0                               1             0             -0.502550   \n",
      "1                               0             0              0.408279   \n",
      "2                               0             0              0.635987   \n",
      "3                               0             0             -0.730258   \n",
      "4                               1             0              0.635987   \n",
      "\n",
      "   financial_stress_score  credit_limit_utilisation  \\\n",
      "0                1.239697                  0.272259   \n",
      "1               -0.535864                 -1.670546   \n",
      "2               -0.890977                  0.043694   \n",
      "3                0.884585                 -0.108683   \n",
      "4                0.529472                 -0.337248   \n",
      "\n",
      "   payment_delinquency_count  impulsive_buying_score  \\\n",
      "0                  -0.907642                0.160491   \n",
      "1                   1.462180               -0.183910   \n",
      "2                  -0.907642               -1.217113   \n",
      "3                   0.277269                1.193694   \n",
      "4                  -1.500097                0.160491   \n",
      "\n",
      "   financial_literacy_assessment  debt_accumulation_metric  \\\n",
      "0                       0.817999                  0.906724   \n",
      "1                      -1.200091                 -1.275897   \n",
      "2                      -1.200091                  0.183774   \n",
      "3                       1.154347                 -1.571962   \n",
      "4                      -1.200091                  0.803445   \n",
      "\n",
      "   return_dispute_incidents  demographic_risk_factor  bnpl_debt_ratio  \\\n",
      "0                 -1.360402                 1.350875        -0.288312   \n",
      "1                  1.267548                 1.350875         0.500191   \n",
      "2                 -0.484419                 1.350875        -1.549916   \n",
      "3                 -0.484419                -0.742423        -0.183178   \n",
      "4                 -0.484419                -0.044657         0.920726   \n",
      "\n",
      "   stress_usage_interaction  adjusted_debt_interaction  \n",
      "0                 -0.623010                  -0.357419  \n",
      "1                 -0.218782                  -0.268035  \n",
      "2                 -0.566649                   1.380939  \n",
      "3                 -0.645975                  -0.162036  \n",
      "4                  0.336737                   0.487499  \n",
      "Train nulls in target: 0\n",
      "Train class distribution:\n",
      " default_flag\n",
      "0    0.922689\n",
      "1    0.077311\n",
      "Name: proportion, dtype: float64\n"
     ]
    }
   ],
   "source": [
    "print(train_df.shape, test_df.shape, val_df.shape)\n",
    "print(train_df.head(), test_df.head(), val_df.head())\n",
    "print(\"Train nulls in target:\", train_df[\"default_flag\"].isna().sum())\n",
    "print(\"Train class distribution:\\n\", train_df[\"default_flag\"].value_counts(normalize=True))"
   ]
  },
  {
   "cell_type": "code",
   "execution_count": 48,
   "metadata": {},
   "outputs": [
    {
     "name": "stdout",
     "output_type": "stream",
     "text": [
      "X_train shape: (595, 15)    failed_traditional_credit  external_repayment_loans  \\\n",
      "0                          1                         1   \n",
      "1                          0                         0   \n",
      "2                          0                         0   \n",
      "3                          0                         0   \n",
      "4                          0                         1   \n",
      "\n",
      "   credit_card_interest_incidence  bnpl_usage_frequency  \\\n",
      "0                               0             -0.730258   \n",
      "1                               0              1.319109   \n",
      "2                               0              0.408279   \n",
      "3                               1             -1.641088   \n",
      "4                               1              0.408279   \n",
      "\n",
      "   financial_stress_score  credit_limit_utilisation  \\\n",
      "0               -1.246089                 -1.746734   \n",
      "1                0.529472                 -0.222965   \n",
      "2                1.239697                  0.805578   \n",
      "3                1.594809                 -0.184871   \n",
      "4                0.529472                 -1.556263   \n",
      "\n",
      "   payment_delinquency_count  impulsive_buying_score  \\\n",
      "0                  -1.500097               -0.528311   \n",
      "1                  -1.500097               -0.528311   \n",
      "2                   1.462180                0.160491   \n",
      "3                  -0.907642               -0.872712   \n",
      "4                  -0.907642               -0.872712   \n",
      "\n",
      "   financial_literacy_assessment  debt_accumulation_metric  \\\n",
      "0                       1.490696                  0.734593   \n",
      "1                       1.154347                 -0.311963   \n",
      "2                      -0.527394                 -1.757863   \n",
      "3                       0.481651                 -1.117536   \n",
      "4                      -0.527394                 -0.601143   \n",
      "\n",
      "   return_dispute_incidents  demographic_risk_factor  bnpl_debt_ratio  \\\n",
      "0                 -0.484419                -0.044657         1.691706   \n",
      "1                 -0.484419                 0.653109         1.604095   \n",
      "2                  1.267548                 1.350875        -0.726369   \n",
      "3                  1.267548                -1.440189        -1.357171   \n",
      "4                  0.391565                 0.653109        -1.760183   \n",
      "\n",
      "   stress_usage_interaction  adjusted_debt_interaction  \n",
      "0                  0.909966                  -2.108016  \n",
      "1                  0.698432                   0.849324  \n",
      "2                  0.506143                  -0.900477  \n",
      "3                 -2.617221                  -2.164428  \n",
      "4                  0.216173                  -0.931968  \n",
      "y_train shape: (595,) 0    0\n",
      "1    0\n",
      "2    0\n",
      "3    0\n",
      "4    0\n",
      "Name: default_flag, dtype: int64\n"
     ]
    }
   ],
   "source": [
    "X_train = train_df.drop(columns=[target_col])\n",
    "y_train = train_df[target_col]\n",
    "print(\"X_train shape:\", X_train.shape, X_train.head())\n",
    "print(\"y_train shape:\", y_train.shape, y_train.head())\n",
    "\n"
   ]
  },
  {
   "cell_type": "code",
   "execution_count": 49,
   "metadata": {},
   "outputs": [
    {
     "name": "stdout",
     "output_type": "stream",
     "text": [
      "X_test shape: (199, 15)    failed_traditional_credit  external_repayment_loans  \\\n",
      "0                          0                         0   \n",
      "1                          0                         0   \n",
      "2                          1                         1   \n",
      "3                          0                         0   \n",
      "4                          0                         0   \n",
      "\n",
      "   credit_card_interest_incidence  bnpl_usage_frequency  \\\n",
      "0                               0              0.180572   \n",
      "1                               1             -1.413380   \n",
      "2                               0              1.546817   \n",
      "3                               0             -1.413380   \n",
      "4                               0             -0.047135   \n",
      "\n",
      "   financial_stress_score  credit_limit_utilisation  \\\n",
      "0               -0.890977                  0.005600   \n",
      "1                1.594809                  1.643651   \n",
      "2                0.174360                 -1.670546   \n",
      "3               -0.180752                 -1.327698   \n",
      "4                0.529472                  1.567463   \n",
      "\n",
      "   payment_delinquency_count  impulsive_buying_score  \\\n",
      "0                   1.462180                0.504892   \n",
      "1                  -0.315186               -0.528311   \n",
      "2                  -1.500097                0.504892   \n",
      "3                  -0.907642               -1.217113   \n",
      "4                   1.462180                0.504892   \n",
      "\n",
      "   financial_literacy_assessment  debt_accumulation_metric  \\\n",
      "0                      -0.527394                 -0.126062   \n",
      "1                       0.145302                  0.796560   \n",
      "2                       1.154347                  1.244101   \n",
      "3                      -0.191046                  0.369675   \n",
      "4                      -0.527394                 -0.112291   \n",
      "\n",
      "   return_dispute_incidents  demographic_risk_factor  bnpl_debt_ratio  \\\n",
      "0                  1.267548                 1.350875         1.516483   \n",
      "1                  1.267548                -0.742423        -1.584960   \n",
      "2                  1.267548                -0.044657         0.833114   \n",
      "3                 -0.484419                 0.653109        -0.638757   \n",
      "4                 -1.360402                -0.044657        -1.094336   \n",
      "\n",
      "   stress_usage_interaction  adjusted_debt_interaction  \n",
      "0                 -0.160885                  -1.351151  \n",
      "1                 -2.254071                  -2.527709  \n",
      "2                  0.269703                   0.145262  \n",
      "3                  0.255471                   0.115457  \n",
      "4                 -0.024957                  -0.579421  \n",
      "y_test shape: (199,) 0    0\n",
      "1    0\n",
      "2    0\n",
      "3    0\n",
      "4    0\n",
      "Name: default_flag, dtype: int64\n"
     ]
    }
   ],
   "source": [
    "X_test = test_df.drop(columns=[target_col])\n",
    "y_test = test_df[target_col]\n",
    "print(\"X_test shape:\", X_test.shape, X_test.head())\n",
    "print(\"y_test shape:\", y_test.shape, y_test.head())"
   ]
  },
  {
   "cell_type": "code",
   "execution_count": 50,
   "metadata": {},
   "outputs": [
    {
     "name": "stdout",
     "output_type": "stream",
     "text": [
      "X_val shape: (199, 15)    failed_traditional_credit  external_repayment_loans  \\\n",
      "0                          0                         0   \n",
      "1                          0                         0   \n",
      "2                          0                         0   \n",
      "3                          0                         1   \n",
      "4                          0                         0   \n",
      "\n",
      "   credit_card_interest_incidence  bnpl_usage_frequency  \\\n",
      "0                               1             -0.502550   \n",
      "1                               0              0.408279   \n",
      "2                               0              0.635987   \n",
      "3                               0             -0.730258   \n",
      "4                               1              0.635987   \n",
      "\n",
      "   financial_stress_score  credit_limit_utilisation  \\\n",
      "0                1.239697                  0.272259   \n",
      "1               -0.535864                 -1.670546   \n",
      "2               -0.890977                  0.043694   \n",
      "3                0.884585                 -0.108683   \n",
      "4                0.529472                 -0.337248   \n",
      "\n",
      "   payment_delinquency_count  impulsive_buying_score  \\\n",
      "0                  -0.907642                0.160491   \n",
      "1                   1.462180               -0.183910   \n",
      "2                  -0.907642               -1.217113   \n",
      "3                   0.277269                1.193694   \n",
      "4                  -1.500097                0.160491   \n",
      "\n",
      "   financial_literacy_assessment  debt_accumulation_metric  \\\n",
      "0                       0.817999                  0.906724   \n",
      "1                      -1.200091                 -1.275897   \n",
      "2                      -1.200091                  0.183774   \n",
      "3                       1.154347                 -1.571962   \n",
      "4                      -1.200091                  0.803445   \n",
      "\n",
      "   return_dispute_incidents  demographic_risk_factor  bnpl_debt_ratio  \\\n",
      "0                 -1.360402                 1.350875        -0.288312   \n",
      "1                  1.267548                 1.350875         0.500191   \n",
      "2                 -0.484419                 1.350875        -1.549916   \n",
      "3                 -0.484419                -0.742423        -0.183178   \n",
      "4                 -0.484419                -0.044657         0.920726   \n",
      "\n",
      "   stress_usage_interaction  adjusted_debt_interaction  \n",
      "0                 -0.623010                  -0.357419  \n",
      "1                 -0.218782                  -0.268035  \n",
      "2                 -0.566649                   1.380939  \n",
      "3                 -0.645975                  -0.162036  \n",
      "4                  0.336737                   0.487499  \n",
      "y_val shape: (199,) 0    0\n",
      "1    0\n",
      "2    0\n",
      "3    0\n",
      "4    0\n",
      "Name: default_flag, dtype: int64\n"
     ]
    }
   ],
   "source": [
    "X_val = val_df.drop(columns=[target_col])\n",
    "y_val = val_df[target_col]\n",
    "print(\"X_val shape:\", X_val.shape, X_val.head())\n",
    "print(\"y_val shape:\", y_val.shape, y_val.head())"
   ]
  },
  {
   "cell_type": "code",
   "execution_count": 51,
   "metadata": {},
   "outputs": [
    {
     "name": "stdout",
     "output_type": "stream",
     "text": [
      "Features: ['failed_traditional_credit', 'external_repayment_loans', 'credit_card_interest_incidence', 'bnpl_usage_frequency', 'financial_stress_score', 'credit_limit_utilisation', 'payment_delinquency_count', 'impulsive_buying_score', 'financial_literacy_assessment', 'debt_accumulation_metric', 'return_dispute_incidents', 'demographic_risk_factor', 'bnpl_debt_ratio', 'stress_usage_interaction', 'adjusted_debt_interaction']\n",
      "Train target balance:\n",
      " default_flag\n",
      "0    0.922689\n",
      "1    0.077311\n",
      "Name: proportion, dtype: float64\n"
     ]
    }
   ],
   "source": [
    "# 4. Peek at feature names and target distribution\n",
    "print(\"Features:\", X_train.columns.tolist())\n",
    "print(\"Train target balance:\\n\", y_train.value_counts(normalize=True))"
   ]
  },
  {
   "cell_type": "markdown",
   "metadata": {},
   "source": [
    "Baseline Model"
   ]
  },
  {
   "cell_type": "code",
   "execution_count": 68,
   "metadata": {},
   "outputs": [
    {
     "name": "stdout",
     "output_type": "stream",
     "text": [
      "Validation metrics:\n",
      "   accuracy: 0.8844\n",
      "  precision: 0.4054\n",
      "     recall: 0.9375\n",
      "   f1_score: 0.5660\n",
      "    roc_auc: 0.9631\n",
      "\n",
      "Confusion matrix:\n",
      "[[161  22]\n",
      " [  1  15]]\n",
      "\n",
      "Classification report:\n",
      "              precision    recall  f1-score   support\n",
      "\n",
      "           0       0.99      0.88      0.93       183\n",
      "           1       0.41      0.94      0.57        16\n",
      "\n",
      "    accuracy                           0.88       199\n",
      "   macro avg       0.70      0.91      0.75       199\n",
      "weighted avg       0.95      0.88      0.90       199\n",
      "\n"
     ]
    },
    {
     "data": {
      "image/png": "[encoded data removed]",
      "text/plain": [
       "<Figure size 640x480 with 1 Axes>"
      ]
     },
     "metadata": {},
     "output_type": "display_data"
    }
   ],
   "source": [
    "baseline_model = LogisticRegression(random_state=42, max_iter=1000)\n",
    "baseline_model.fit(X_train, y_train)\n",
    "\n",
    "\n",
    "y_val_pred   = baseline_model.predict(X_val)\n",
    "y_val_proba  = baseline_model.predict_proba(X_val)[:, 1]\n",
    "\n",
    "# 3. Compute the core metrics\n",
    "baseline_metrics = {\n",
    "    \"accuracy\":  accuracy_score(y_val, y_val_pred),\n",
    "    \"precision\": precision_score(y_val, y_val_pred),\n",
    "    \"recall\":    recall_score(y_val, y_val_pred),\n",
    "    \"f1_score\":  f1_score(y_val, y_val_pred),\n",
    "    \"roc_auc\":   roc_auc_score(y_val, y_val_proba)\n",
    "}\n",
    "print(\"Validation metrics:\")\n",
    "for name, val in baseline_metrics.items():\n",
    "    print(f\"  {name:>9}: {val:.4f}\")\n",
    "\n",
    "# 4. Confusion matrix\n",
    "baseline_cm = confusion_matrix(y_val, y_val_pred)\n",
    "plt.savefig(r'C:\\Users\\ixz407\\OneDrive - University of Birmingham\\Dissertation\\Machine Learning\\Dissertation\\Plots\\baseline_roc_curve.png')\n"
   ]
  },
  {
   "cell_type": "markdown",
   "metadata": {},
   "source": [
    "Balanced Model"
   ]
  },
  {
   "cell_type": "code",
   "execution_count": 69,
   "metadata": {},
   "outputs": [
    {
     "name": "stdout",
     "output_type": "stream",
     "text": [
      "Validation metrics:\n",
      "   accuracy: 0.8844\n",
      "  precision: 0.4054\n",
      "     recall: 0.9375\n",
      "   f1_score: 0.5660\n",
      "    roc_auc: 0.9631\n",
      "\n",
      "Confusion matrix:\n",
      "[[161  22]\n",
      " [  1  15]]\n",
      "\n",
      "Classification report:\n",
      "              precision    recall  f1-score   support\n",
      "\n",
      "           0       0.99      0.88      0.93       183\n",
      "           1       0.41      0.94      0.57        16\n",
      "\n",
      "    accuracy                           0.88       199\n",
      "   macro avg       0.70      0.91      0.75       199\n",
      "weighted avg       0.95      0.88      0.90       199\n",
      "\n"
     ]
    },
    {
     "data": {
      "image/png": "[encoded data removed]",
      "text/plain": [
       "<Figure size 640x480 with 1 Axes>"
      ]
     },
     "metadata": {},
     "output_type": "display_data"
    }
   ],
   "source": [
    "# OPTION A: automatic balancing\n",
    "balanced_model = LogisticRegression(\n",
    "    class_weight=\"balanced\",\n",
    "    random_state=42,\n",
    "    max_iter=1000\n",
    ")\n",
    "balanced_model.fit(X_train, y_train)\n",
    "# 3. Compute the core metrics\n",
    "balanced_metrics = {\n",
    "    \"accuracy\":  accuracy_score(y_val, y_val_pred),\n",
    "    \"precision\": precision_score(y_val, y_val_pred),\n",
    "    \"recall\":    recall_score(y_val, y_val_pred),\n",
    "    \"f1_score\":  f1_score(y_val, y_val_pred),\n",
    "    \"roc_auc\":   roc_auc_score(y_val, y_val_proba)\n",
    "}\n",
    "print(\"Validation metrics:\")\n",
    "for name, val in balanced_metrics.items():\n",
    "    print(f\"  {name:>9}: {val:.4f}\")\n",
    "\n",
    "# 4. Confusion matrix\n",
    "balanced_cm = confusion_matrix(y_val, y_val_pred)\n",
    "print(\"\\nConfusion matrix:\")\n",
    "print(balanced_cm)\n",
    "# Optionally, a prettier display using classification_report:\n",
    "print(\"\\nClassification report:\")\n",
    "print(classification_report(y_val, y_val_pred))\n",
    "\n",
    "# 5. Plot the ROC curve\n",
    "fpr, tpr, thresholds = roc_curve(y_val, y_val_proba)\n",
    "plt.figure()\n",
    "plt.plot(fpr, tpr, lw=2)\n",
    "plt.plot([0, 1], [0, 1], ls=\"--\", color=\"grey\")  # diagonal\n",
    "plt.xlabel(\"False Positive Rate\")\n",
    "plt.ylabel(\"True Positive Rate\")\n",
    "plt.title(\"ROC Curve (Validation Set)\")\n",
    "plt.savefig(r\"C:\\Users\\ixz407\\OneDrive - University of Birmingham\\Dissertation\\Machine Learning\\Dissertation\\Plots\\balanced_roc_curve.png\")\n",
    "plt.show()"
   ]
  },
  {
   "cell_type": "code",
   "execution_count": 70,
   "metadata": {},
   "outputs": [
    {
     "name": "stdout",
     "output_type": "stream",
     "text": [
      "[8.36127723e-04 6.93245605e-02 5.97066805e-05 5.28470385e-03\n",
      " 8.46015387e-03 1.19935449e-03 2.95192115e-04 4.27295757e-04\n",
      " 1.37601292e-02 9.77617812e-02]\n",
      "[0.00408222 0.44695862 0.00202327 0.02086436 0.03548102 0.00307637\n",
      " 0.00099803 0.00140346 0.17769579 0.48597127]\n"
     ]
    }
   ],
   "source": [
    "probs_baseline = baseline_model.predict_proba(X_val)[:,1]\n",
    "probs_balanced = balanced_model.predict_proba(X_val)[:,1]\n",
    "\n",
    "print(probs_baseline[:10])\n",
    "print(probs_balanced[:10])"
   ]
  },
  {
   "cell_type": "markdown",
   "metadata": {},
   "source": [
    "Threshold Tuning"
   ]
  },
  {
   "cell_type": "code",
   "execution_count": 75,
   "metadata": {},
   "outputs": [
    {
     "name": "stdout",
     "output_type": "stream",
     "text": [
      "First 10 default‐probabilities: [0.004 0.447 0.002 0.021 0.035 0.003 0.001 0.001 0.178 0.486]\n",
      "Range of probs:  min = 8.780550077309836e-06  max = 0.9974735618196658\n"
     ]
    }
   ],
   "source": [
    "proba_array = balanced_model.predict_proba(X_val)\n",
    "probs = proba_array[:, 1]\n",
    "print(\"First 10 default‐probabilities:\", np.round(probs[:10], 3))\n",
    "print(\"Range of probs:  min =\", probs.min(), \" max =\", probs.max())"
   ]
  },
  {
   "cell_type": "code",
   "execution_count": 77,
   "metadata": {},
   "outputs": [],
   "source": []
  },
  {
   "cell_type": "code",
   "execution_count": 79,
   "metadata": {},
   "outputs": [
    {
     "name": "stdout",
     "output_type": "stream",
     "text": [
      "Precision array length: 200\n",
      "Recall    array length: 200\n",
      "Thresholds array length: 199\n",
      "thr=0.000 → precision=0.080, recall=1.000\n",
      "thr=0.000 → precision=0.081, recall=1.000\n",
      "thr=0.000 → precision=0.081, recall=1.000\n",
      "thr=0.000 → precision=0.082, recall=1.000\n",
      "thr=0.000 → precision=0.082, recall=1.000\n"
     ]
    }
   ],
   "source": [
    "# 2.1 Compute arrays of precision, recall, and thresholds\n",
    "precision, recall, thresholds = precision_recall_curve(y_val, probs)\n",
    "\n",
    "# 2.2 Inspect their lengths\n",
    "print(\"Precision array length:\", len(precision))\n",
    "print(\"Recall    array length:\", len(recall))\n",
    "print(\"Thresholds array length:\", len(thresholds))\n",
    "\n",
    "\n",
    "# 2.3 Peek at the first few entries\n",
    "for i in range(5):\n",
    "    print(f\"thr={thresholds[i]:.3f} → precision={precision[i]:.3f}, recall={recall[i]:.3f}\")"
   ]
  },
  {
   "cell_type": "code",
   "execution_count": 81,
   "metadata": {},
   "outputs": [
    {
     "data": {
      "image/png": "[encoded data removed]",
      "text/plain": [
       "<Figure size 600x400 with 1 Axes>"
      ]
     },
     "metadata": {},
     "output_type": "display_data"
    }
   ],
   "source": [
    "\n",
    "plt.figure(figsize=(6, 4))\n",
    "plt.plot(recall, precision, marker='.', linewidth=1)\n",
    "plt.xlabel(\"Recall\")\n",
    "plt.ylabel(\"Precision\")\n",
    "plt.title(\"Precision–Recall Curve (Validation)\")\n",
    "plt.grid(True)\n",
    "plt.savefig(r\"C:\\Users\\ixz407\\OneDrive - University of Birmingham\\Dissertation\\Machine Learning\\Dissertation\\Plots\\precision_recall_curve_validation.png\")\n",
    "plt.show()"
   ]
  },
  {
   "cell_type": "code",
   "execution_count": 83,
   "metadata": {},
   "outputs": [
    {
     "name": "stdout",
     "output_type": "stream",
     "text": [
      "Chosen threshold = 0.000 → precision=0.080, recall=1.000\n",
      "Confusion Matrix:\n",
      " [[  0 183]\n",
      " [  0  16]]\n",
      "\n",
      "Classification Report:\n",
      "               precision    recall  f1-score   support\n",
      "\n",
      "           0       0.00      0.00      0.00       183\n",
      "           1       0.08      1.00      0.15        16\n",
      "\n",
      "    accuracy                           0.08       199\n",
      "   macro avg       0.04      0.50      0.07       199\n",
      "weighted avg       0.01      0.08      0.01       199\n",
      "\n"
     ]
    },
    {
     "name": "stderr",
     "output_type": "stream",
     "text": [
      "C:\\Users\\ixz407\\AppData\\Local\\Packages\\PythonSoftwareFoundation.Python.3.11_qbz5n2kfra8p0\\LocalCache\\local-packages\\Python311\\site-packages\\sklearn\\metrics\\_classification.py:1731: UndefinedMetricWarning: Precision is ill-defined and being set to 0.0 in labels with no predicted samples. Use `zero_division` parameter to control this behavior.\n",
      "  _warn_prf(average, modifier, f\"{metric.capitalize()} is\", result.shape[0])\n",
      "C:\\Users\\ixz407\\AppData\\Local\\Packages\\PythonSoftwareFoundation.Python.3.11_qbz5n2kfra8p0\\LocalCache\\local-packages\\Python311\\site-packages\\sklearn\\metrics\\_classification.py:1731: UndefinedMetricWarning: Precision is ill-defined and being set to 0.0 in labels with no predicted samples. Use `zero_division` parameter to control this behavior.\n",
      "  _warn_prf(average, modifier, f\"{metric.capitalize()} is\", result.shape[0])\n",
      "C:\\Users\\ixz407\\AppData\\Local\\Packages\\PythonSoftwareFoundation.Python.3.11_qbz5n2kfra8p0\\LocalCache\\local-packages\\Python311\\site-packages\\sklearn\\metrics\\_classification.py:1731: UndefinedMetricWarning: Precision is ill-defined and being set to 0.0 in labels with no predicted samples. Use `zero_division` parameter to control this behavior.\n",
      "  _warn_prf(average, modifier, f\"{metric.capitalize()} is\", result.shape[0])\n"
     ]
    }
   ],
   "source": [
    "from sklearn.metrics import classification_report, confusion_matrix\n",
    "import numpy as np\n",
    "\n",
    "# 4.1 Find the threshold for recall ≥ 0.80\n",
    "idx = np.where(recall >= 0.80)[0][0]\n",
    "opt_thresh = thresholds[idx]\n",
    "print(f\"Chosen threshold = {opt_thresh:.3f} → precision={precision[idx]:.3f}, recall={recall[idx]:.3f}\")\n",
    "\n",
    "# 4.2 Apply it\n",
    "y_pred_adj = (probs >= opt_thresh).astype(int)\n",
    "\n",
    "# 4.3 Re-evaluate\n",
    "print(\"Confusion Matrix:\\n\", confusion_matrix(y_val, y_pred_adj))\n",
    "print(\"\\nClassification Report:\\n\", classification_report(y_val, y_pred_adj))\n"
   ]
  },
  {
   "cell_type": "code",
   "execution_count": 85,
   "metadata": {},
   "outputs": [
    {
     "name": "stdout",
     "output_type": "stream",
     "text": [
      "Chosen threshold = 0.729  → precision=0.520, recall=0.812\n",
      "Confusion Matrix:\n",
      " [[171  12]\n",
      " [  3  13]]\n",
      "\n",
      "Classification Report:\n",
      "               precision    recall  f1-score   support\n",
      "\n",
      "           0       0.98      0.93      0.96       183\n",
      "           1       0.52      0.81      0.63        16\n",
      "\n",
      "    accuracy                           0.92       199\n",
      "   macro avg       0.75      0.87      0.80       199\n",
      "weighted avg       0.95      0.92      0.93       199\n",
      "\n"
     ]
    }
   ],
   "source": [
    "\n",
    "target_recall = 0.80\n",
    "\n",
    "# 1. Find all indices where recall ≥ target\n",
    "valid_idxs = np.where(recall >= target_recall)[0]\n",
    "\n",
    "# 2. Pick the **last** one\n",
    "idx = valid_idxs[-1]  \n",
    "opt_thresh = thresholds[idx]\n",
    "print(f\"Chosen threshold = {opt_thresh:.3f}  → precision={precision[idx]:.3f}, recall={recall[idx]:.3f}\")\n",
    "\n",
    "# 3. Apply it\n",
    "y_pred_adj = (probs >= opt_thresh).astype(int)\n",
    "\n",
    "# 4. Re-evaluate\n",
    "print(\"Confusion Matrix:\\n\", confusion_matrix(y_val, y_pred_adj))\n",
    "print(\"\\nClassification Report:\\n\", classification_report(y_val, y_pred_adj))\n"
   ]
  },
  {
   "cell_type": "code",
   "execution_count": 87,
   "metadata": {},
   "outputs": [
    {
     "data": {
      "image/png": "[encoded data removed]",
      "text/plain": [
       "<Figure size 600x600 with 1 Axes>"
      ]
     },
     "metadata": {},
     "output_type": "display_data"
    },
    {
     "name": "stdout",
     "output_type": "stream",
     "text": [
      "ROC-AUC:  0.9631147540983607\n",
      "\n",
      "Confusion Matrix at thresh = 0.729:\n",
      " [[171  12]\n",
      " [  3  13]]\n",
      "\n",
      "Classification Report:\n",
      "              precision    recall  f1-score   support\n",
      "\n",
      "           0       0.98      0.93      0.96       183\n",
      "           1       0.52      0.81      0.63        16\n",
      "\n",
      "    accuracy                           0.92       199\n",
      "   macro avg       0.75      0.87      0.80       199\n",
      "weighted avg       0.95      0.92      0.93       199\n",
      "\n",
      "\n",
      "Summary metrics at thresh = 0.729:\n",
      "   accuracy: 0.925\n",
      "  precision: 0.520\n",
      "     recall: 0.812\n",
      "   f1_score: 0.634\n"
     ]
    }
   ],
   "source": [
    "\n",
    "# --- ROC Curve & AUC ---\n",
    "fpr, tpr, roc_th = roc_curve(y_val, probs)\n",
    "auc = roc_auc_score(y_val, probs)\n",
    "\n",
    "plt.figure(figsize=(6, 6))\n",
    "plt.plot(fpr, tpr, lw=2, label=f\"AUC = {auc:.3f}\")\n",
    "plt.plot([0, 1], [0, 1], ls=\"--\", color=\"grey\")\n",
    "plt.xlabel(\"False Positive Rate\")\n",
    "plt.ylabel(\"True Positive Rate\")\n",
    "plt.title(\"ROC Curve (Balanced Model)\")\n",
    "plt.legend(loc=\"lower right\")\n",
    "plt.savefig(r\"C:\\Users\\ixz407\\OneDrive - University of Birmingham\\Dissertation\\Machine Learning\\Dissertation\\Plots\\roc_curve_balanced_final.png\")\n",
    "plt.show()\n",
    "\n",
    "print(\"ROC-AUC: \", auc)\n",
    "\n",
    "# --- Metrics at tuned threshold ---\n",
    "opt_thresh = 0.729\n",
    "y_pred_tuned = (probs >= opt_thresh).astype(int)\n",
    "\n",
    "cm = confusion_matrix(y_val, y_pred_tuned)\n",
    "print(\"\\nConfusion Matrix at thresh = %.3f:\\n\" % opt_thresh, cm)\n",
    "\n",
    "print(\"\\nClassification Report:\")\n",
    "print(classification_report(y_val, y_pred_tuned))\n",
    "\n",
    "# Also print accuracy, precision, recall, f1 in one place\n",
    "metrics = {\n",
    "    \"accuracy\":  accuracy_score(y_val, y_pred_tuned),\n",
    "    \"precision\": precision_score(y_val, y_pred_tuned),\n",
    "    \"recall\":    recall_score(y_val, y_pred_tuned),\n",
    "    \"f1_score\":  f1_score(y_val, y_pred_tuned),\n",
    "}\n",
    "print(\"\\nSummary metrics at thresh = %.3f:\" % opt_thresh)\n",
    "for k, v in metrics.items():\n",
    "    print(f\"  {k:>9}: {v:.3f}\")\n"
   ]
  }
 ],
 "metadata": {
  "kernelspec": {
   "display_name": "Python 3",
   "language": "python",
   "name": "python3"
  },
  "language_info": {
   "codemirror_mode": {
    "name": "ipython",
    "version": 3
   },
   "file_extension": ".py",
   "mimetype": "text/x-python",
   "name": "python",
   "nbconvert_exporter": "python",
   "pygments_lexer": "ipython3",
   "version": "3.11.9"
  }
 },
 "nbformat": 4,
 "nbformat_minor": 2
}
