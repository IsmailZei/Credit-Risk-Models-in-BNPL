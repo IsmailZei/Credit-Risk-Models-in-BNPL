{
 "cells": [
  {
   "cell_type": "code",
   "execution_count": 5,
   "metadata": {},
   "outputs": [],
   "source": [
    "import pandas as pd\n",
    "import numpy as np\n",
    "from sklearn.preprocessing import StandardScaler\n",
    "import matplotlib.pyplot as plt\n",
    "from scipy.stats import pointbiserialr"
   ]
  },
  {
   "cell_type": "code",
   "execution_count": 6,
   "metadata": {},
   "outputs": [],
   "source": [
    "data=pd.read_csv('bnpl_scaled_cleaned.csv')\n",
    "new_columns = [\n",
    "    'stress_usage_interaction',\n",
    "    'debt_per_delinquency',\n",
    "    'avg_debt_per_txn',\n",
    "    'adjusted_debt_interaction'\n",
    "]"
   ]
  },
  {
   "cell_type": "code",
   "execution_count": null,
   "metadata": {},
   "outputs": [],
   "source": [
    "# concat the following stress_usage_interaction = financial_stress_score × bnpl_usage_frequency\n",
    "data['stress_usage_interaction'] = (\n",
    "    data['financial_stress_score'] * data['bnpl_usage_frequency']\n",
    ")\n",
    "# debt_per_delinquency = bnpl_debt_ratio / (payment_delinquency_count + 1)  \n",
    "data['debt_per_delinquency'] = (\n",
    "    data['bnpl_debt_ratio'] / (data['payment_delinquency_count'] + 1)\n",
    ")\n",
    "#avg_debt_per_txn = bnpl_debt_ratio / (bnpl_usage_frequency + 1)\n",
    "data['avg_debt_per_txn'] = (\n",
    "    data['bnpl_debt_ratio'] / (data['bnpl_usage_frequency'] + 1)\n",
    ")\n",
    "\n",
    "#adjusted_debt_interaction = bnpl_debt_ratio + financial_stress_score\n",
    "data['adjusted_debt_interaction'] = (\n",
    "    data['bnpl_debt_ratio'] + data['financial_stress_score']\n",
    ")\n",
    "data\n"
   ]
  },
  {
   "cell_type": "code",
   "execution_count": null,
   "metadata": {},
   "outputs": [],
   "source": [
    "results = []\n",
    "for feat in new_columns:\n",
    "    r, p = pointbiserialr(data[feat], data['default_flag'])\n",
    "    results.append({'feature': feat, 'r': r, 'p_value': p})\n",
    "\n",
    "corr_df = pd.DataFrame(results).sort_values('r', key=abs, ascending=False)\n",
    "print(corr_df)\n"
   ]
  }
 ],
 "metadata": {
  "kernelspec": {
   "display_name": "Python 3",
   "language": "python",
   "name": "python3"
  },
  "language_info": {
   "codemirror_mode": {
    "name": "ipython",
    "version": 3
   },
   "file_extension": ".py",
   "mimetype": "text/x-python",
   "name": "python",
   "nbconvert_exporter": "python",
   "pygments_lexer": "ipython3",
   "version": "3.11.9"
  }
 },
 "nbformat": 4,
 "nbformat_minor": 2
}
