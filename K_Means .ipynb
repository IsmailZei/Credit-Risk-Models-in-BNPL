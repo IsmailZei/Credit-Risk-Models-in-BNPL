{
 "cells": [
  {
   "cell_type": "code",
   "execution_count": null,
   "metadata": {},
   "outputs": [],
   "source": [
    "import numpy as np\n",
    "import pandas as pd\n",
    "import json\n",
    "from sklearn.ensemble import RandomForestClassifier\n",
    "from xgboost import XGBClassifier\n",
    "from sklearn.cluster import KMeans\n",
    "import matplotlib.pyplot as plt\n",
    "from joblib import parallel_backend\n",
    "from sklearn.model_selection import RandomizedSearchCV\n",
    "from sklearn.metrics import (\n",
    "    accuracy_score,\n",
    "    precision_score,\n",
    "    recall_score,\n",
    "    f1_score,\n",
    "    roc_auc_score,\n",
    "    confusion_matrix,\n",
    "    classification_report,\n",
    "    roc_curve,\n",
    "    precision_recall_curve,\n",
    "    ConfusionMatrixDisplay,\n",
    "    silhouette_score,\n",
    "    calinski_harabasz_score,\n",
    "    davies_bouldin_score,\n",
    ")\n",
    "SEED = 42"
   ]
  },
  {
   "cell_type": "code",
   "execution_count": 2,
   "metadata": {},
   "outputs": [],
   "source": [
    "train_df = pd.read_csv(\"Tables/bnpl_train.csv\")\n",
    "test_df = pd.read_csv(\"Tables/bnpl_test.csv\")\n",
    "val_df = pd.read_csv(\"Tables/bnpl_val.csv\")\n",
    "target_col = \"default_flag\"\n"
   ]
  },
  {
   "cell_type": "code",
   "execution_count": 3,
   "metadata": {},
   "outputs": [
    {
     "name": "stdout",
     "output_type": "stream",
     "text": [
      "(595, 14) (199, 14) (199, 14)\n",
      "   external_repayment_loans  credit_card_interest_incidence  default_flag  \\\n",
      "0                         1                               0             0   \n",
      "1                         0                               0             0   \n",
      "2                         0                               0             0   \n",
      "3                         0                               1             0   \n",
      "4                         1                               1             0   \n",
      "\n",
      "   bnpl_usage_frequency  financial_stress_score  credit_limit_utilisation  \\\n",
      "0             -0.730258               -1.246089                 -1.746734   \n",
      "1              1.319109                0.529472                 -0.222965   \n",
      "2              0.408279                1.239697                  0.805578   \n",
      "3             -1.641088                1.594809                 -0.184871   \n",
      "4              0.408279                0.529472                 -1.556263   \n",
      "\n",
      "   payment_delinquency_count  impulsive_buying_score  \\\n",
      "0                  -1.500097               -0.528311   \n",
      "1                  -1.500097               -0.528311   \n",
      "2                   1.462180                0.160491   \n",
      "3                  -0.907642               -0.872712   \n",
      "4                  -0.907642               -0.872712   \n",
      "\n",
      "   financial_literacy_assessment  debt_accumulation_metric  \\\n",
      "0                       1.490696                  0.734593   \n",
      "1                       1.154347                 -0.311963   \n",
      "2                      -0.527394                 -1.757863   \n",
      "3                       0.481651                 -1.117536   \n",
      "4                      -0.527394                 -0.601143   \n",
      "\n",
      "   return_dispute_incidents  demographic_risk_factor  bnpl_debt_ratio  \\\n",
      "0                 -0.484419                -0.044657         1.691706   \n",
      "1                 -0.484419                 0.653109         1.604095   \n",
      "2                  1.267548                 1.350875        -0.726369   \n",
      "3                  1.267548                -1.440189        -1.357171   \n",
      "4                  0.391565                 0.653109        -1.760183   \n",
      "\n",
      "   stress_usage_interaction  \n",
      "0                  0.909966  \n",
      "1                  0.698432  \n",
      "2                  0.506143  \n",
      "3                 -2.617221  \n",
      "4                  0.216173      external_repayment_loans  credit_card_interest_incidence  default_flag  \\\n",
      "0                         0                               0             0   \n",
      "1                         0                               1             0   \n",
      "2                         1                               0             0   \n",
      "3                         0                               0             0   \n",
      "4                         0                               0             0   \n",
      "\n",
      "   bnpl_usage_frequency  financial_stress_score  credit_limit_utilisation  \\\n",
      "0              0.180572               -0.890977                  0.005600   \n",
      "1             -1.413380                1.594809                  1.643651   \n",
      "2              1.546817                0.174360                 -1.670546   \n",
      "3             -1.413380               -0.180752                 -1.327698   \n",
      "4             -0.047135                0.529472                  1.567463   \n",
      "\n",
      "   payment_delinquency_count  impulsive_buying_score  \\\n",
      "0                   1.462180                0.504892   \n",
      "1                  -0.315186               -0.528311   \n",
      "2                  -1.500097                0.504892   \n",
      "3                  -0.907642               -1.217113   \n",
      "4                   1.462180                0.504892   \n",
      "\n",
      "   financial_literacy_assessment  debt_accumulation_metric  \\\n",
      "0                      -0.527394                 -0.126062   \n",
      "1                       0.145302                  0.796560   \n",
      "2                       1.154347                  1.244101   \n",
      "3                      -0.191046                  0.369675   \n",
      "4                      -0.527394                 -0.112291   \n",
      "\n",
      "   return_dispute_incidents  demographic_risk_factor  bnpl_debt_ratio  \\\n",
      "0                  1.267548                 1.350875         1.516483   \n",
      "1                  1.267548                -0.742423        -1.584960   \n",
      "2                  1.267548                -0.044657         0.833114   \n",
      "3                 -0.484419                 0.653109        -0.638757   \n",
      "4                 -1.360402                -0.044657        -1.094336   \n",
      "\n",
      "   stress_usage_interaction  \n",
      "0                 -0.160885  \n",
      "1                 -2.254071  \n",
      "2                  0.269703  \n",
      "3                  0.255471  \n",
      "4                 -0.024957      external_repayment_loans  credit_card_interest_incidence  default_flag  \\\n",
      "0                         0                               1             0   \n",
      "1                         0                               0             0   \n",
      "2                         0                               0             0   \n",
      "3                         1                               0             0   \n",
      "4                         0                               1             0   \n",
      "\n",
      "   bnpl_usage_frequency  financial_stress_score  credit_limit_utilisation  \\\n",
      "0             -0.502550                1.239697                  0.272259   \n",
      "1              0.408279               -0.535864                 -1.670546   \n",
      "2              0.635987               -0.890977                  0.043694   \n",
      "3             -0.730258                0.884585                 -0.108683   \n",
      "4              0.635987                0.529472                 -0.337248   \n",
      "\n",
      "   payment_delinquency_count  impulsive_buying_score  \\\n",
      "0                  -0.907642                0.160491   \n",
      "1                   1.462180               -0.183910   \n",
      "2                  -0.907642               -1.217113   \n",
      "3                   0.277269                1.193694   \n",
      "4                  -1.500097                0.160491   \n",
      "\n",
      "   financial_literacy_assessment  debt_accumulation_metric  \\\n",
      "0                       0.817999                  0.906724   \n",
      "1                      -1.200091                 -1.275897   \n",
      "2                      -1.200091                  0.183774   \n",
      "3                       1.154347                 -1.571962   \n",
      "4                      -1.200091                  0.803445   \n",
      "\n",
      "   return_dispute_incidents  demographic_risk_factor  bnpl_debt_ratio  \\\n",
      "0                 -1.360402                 1.350875        -0.288312   \n",
      "1                  1.267548                 1.350875         0.500191   \n",
      "2                 -0.484419                 1.350875        -1.549916   \n",
      "3                 -0.484419                -0.742423        -0.183178   \n",
      "4                 -0.484419                -0.044657         0.920726   \n",
      "\n",
      "   stress_usage_interaction  \n",
      "0                 -0.623010  \n",
      "1                 -0.218782  \n",
      "2                 -0.566649  \n",
      "3                 -0.645975  \n",
      "4                  0.336737  \n",
      "Train nulls in target: 0\n",
      "Train class distribution:\n",
      " default_flag\n",
      "0    0.922689\n",
      "1    0.077311\n",
      "Name: proportion, dtype: float64\n"
     ]
    }
   ],
   "source": [
    "print(train_df.shape, test_df.shape, val_df.shape)\n",
    "print(train_df.head(),test_df.head(), val_df.head())\n",
    "print(\"Train nulls in target:\", train_df[\"default_flag\"].isna().sum())\n",
    "print(\"Train class distribution:\\n\", train_df[\"default_flag\"].value_counts(normalize=True))"
   ]
  },
  {
   "cell_type": "code",
   "execution_count": 4,
   "metadata": {},
   "outputs": [
    {
     "name": "stdout",
     "output_type": "stream",
     "text": [
      "X_train shape: (595, 13)    external_repayment_loans  credit_card_interest_incidence  \\\n",
      "0                         1                               0   \n",
      "1                         0                               0   \n",
      "2                         0                               0   \n",
      "3                         0                               1   \n",
      "4                         1                               1   \n",
      "\n",
      "   bnpl_usage_frequency  financial_stress_score  credit_limit_utilisation  \\\n",
      "0             -0.730258               -1.246089                 -1.746734   \n",
      "1              1.319109                0.529472                 -0.222965   \n",
      "2              0.408279                1.239697                  0.805578   \n",
      "3             -1.641088                1.594809                 -0.184871   \n",
      "4              0.408279                0.529472                 -1.556263   \n",
      "\n",
      "   payment_delinquency_count  impulsive_buying_score  \\\n",
      "0                  -1.500097               -0.528311   \n",
      "1                  -1.500097               -0.528311   \n",
      "2                   1.462180                0.160491   \n",
      "3                  -0.907642               -0.872712   \n",
      "4                  -0.907642               -0.872712   \n",
      "\n",
      "   financial_literacy_assessment  debt_accumulation_metric  \\\n",
      "0                       1.490696                  0.734593   \n",
      "1                       1.154347                 -0.311963   \n",
      "2                      -0.527394                 -1.757863   \n",
      "3                       0.481651                 -1.117536   \n",
      "4                      -0.527394                 -0.601143   \n",
      "\n",
      "   return_dispute_incidents  demographic_risk_factor  bnpl_debt_ratio  \\\n",
      "0                 -0.484419                -0.044657         1.691706   \n",
      "1                 -0.484419                 0.653109         1.604095   \n",
      "2                  1.267548                 1.350875        -0.726369   \n",
      "3                  1.267548                -1.440189        -1.357171   \n",
      "4                  0.391565                 0.653109        -1.760183   \n",
      "\n",
      "   stress_usage_interaction  \n",
      "0                  0.909966  \n",
      "1                  0.698432  \n",
      "2                  0.506143  \n",
      "3                 -2.617221  \n",
      "4                  0.216173  \n",
      "y_train shape: (595,) 0    0\n",
      "1    0\n",
      "2    0\n",
      "3    0\n",
      "4    0\n",
      "Name: default_flag, dtype: int64\n",
      "X_test shape: (199, 13)    external_repayment_loans  credit_card_interest_incidence  \\\n",
      "0                         0                               0   \n",
      "1                         0                               1   \n",
      "2                         1                               0   \n",
      "3                         0                               0   \n",
      "4                         0                               0   \n",
      "\n",
      "   bnpl_usage_frequency  financial_stress_score  credit_limit_utilisation  \\\n",
      "0              0.180572               -0.890977                  0.005600   \n",
      "1             -1.413380                1.594809                  1.643651   \n",
      "2              1.546817                0.174360                 -1.670546   \n",
      "3             -1.413380               -0.180752                 -1.327698   \n",
      "4             -0.047135                0.529472                  1.567463   \n",
      "\n",
      "   payment_delinquency_count  impulsive_buying_score  \\\n",
      "0                   1.462180                0.504892   \n",
      "1                  -0.315186               -0.528311   \n",
      "2                  -1.500097                0.504892   \n",
      "3                  -0.907642               -1.217113   \n",
      "4                   1.462180                0.504892   \n",
      "\n",
      "   financial_literacy_assessment  debt_accumulation_metric  \\\n",
      "0                      -0.527394                 -0.126062   \n",
      "1                       0.145302                  0.796560   \n",
      "2                       1.154347                  1.244101   \n",
      "3                      -0.191046                  0.369675   \n",
      "4                      -0.527394                 -0.112291   \n",
      "\n",
      "   return_dispute_incidents  demographic_risk_factor  bnpl_debt_ratio  \\\n",
      "0                  1.267548                 1.350875         1.516483   \n",
      "1                  1.267548                -0.742423        -1.584960   \n",
      "2                  1.267548                -0.044657         0.833114   \n",
      "3                 -0.484419                 0.653109        -0.638757   \n",
      "4                 -1.360402                -0.044657        -1.094336   \n",
      "\n",
      "   stress_usage_interaction  \n",
      "0                 -0.160885  \n",
      "1                 -2.254071  \n",
      "2                  0.269703  \n",
      "3                  0.255471  \n",
      "4                 -0.024957  \n",
      "y_test shape: (199,) 0    0\n",
      "1    0\n",
      "2    0\n",
      "3    0\n",
      "4    0\n",
      "Name: default_flag, dtype: int64\n",
      "X_val shape: (199, 13)    external_repayment_loans  credit_card_interest_incidence  \\\n",
      "0                         0                               1   \n",
      "1                         0                               0   \n",
      "2                         0                               0   \n",
      "3                         1                               0   \n",
      "4                         0                               1   \n",
      "\n",
      "   bnpl_usage_frequency  financial_stress_score  credit_limit_utilisation  \\\n",
      "0             -0.502550                1.239697                  0.272259   \n",
      "1              0.408279               -0.535864                 -1.670546   \n",
      "2              0.635987               -0.890977                  0.043694   \n",
      "3             -0.730258                0.884585                 -0.108683   \n",
      "4              0.635987                0.529472                 -0.337248   \n",
      "\n",
      "   payment_delinquency_count  impulsive_buying_score  \\\n",
      "0                  -0.907642                0.160491   \n",
      "1                   1.462180               -0.183910   \n",
      "2                  -0.907642               -1.217113   \n",
      "3                   0.277269                1.193694   \n",
      "4                  -1.500097                0.160491   \n",
      "\n",
      "   financial_literacy_assessment  debt_accumulation_metric  \\\n",
      "0                       0.817999                  0.906724   \n",
      "1                      -1.200091                 -1.275897   \n",
      "2                      -1.200091                  0.183774   \n",
      "3                       1.154347                 -1.571962   \n",
      "4                      -1.200091                  0.803445   \n",
      "\n",
      "   return_dispute_incidents  demographic_risk_factor  bnpl_debt_ratio  \\\n",
      "0                 -1.360402                 1.350875        -0.288312   \n",
      "1                  1.267548                 1.350875         0.500191   \n",
      "2                 -0.484419                 1.350875        -1.549916   \n",
      "3                 -0.484419                -0.742423        -0.183178   \n",
      "4                 -0.484419                -0.044657         0.920726   \n",
      "\n",
      "   stress_usage_interaction  \n",
      "0                 -0.623010  \n",
      "1                 -0.218782  \n",
      "2                 -0.566649  \n",
      "3                 -0.645975  \n",
      "4                  0.336737  \n",
      "y_val shape: (199,) 0    0\n",
      "1    0\n",
      "2    0\n",
      "3    0\n",
      "4    0\n",
      "Name: default_flag, dtype: int64\n"
     ]
    }
   ],
   "source": [
    "X_train = train_df.drop(columns=[target_col])\n",
    "y_train = train_df[target_col]\n",
    "print(\"X_train shape:\", X_train.shape, X_train.head())\n",
    "print(\"y_train shape:\", y_train.shape, y_train.head())\n",
    "X_test = test_df.drop(columns=[target_col])\n",
    "y_test = test_df[target_col]\n",
    "print(\"X_test shape:\", X_test.shape, X_test.head())\n",
    "print(\"y_test shape:\", y_test.shape, y_test.head())\n",
    "X_val = val_df.drop(columns=[target_col])\n",
    "y_val = val_df[target_col]\n",
    "print(\"X_val shape:\", X_val.shape, X_val.head())\n",
    "print(\"y_val shape:\", y_val.shape, y_val.head())"
   ]
  },
  {
   "cell_type": "code",
   "execution_count": 23,
   "metadata": {},
   "outputs": [
    {
     "name": "stdout",
     "output_type": "stream",
     "text": [
      "     k      inertia  silhouette         CH        DB\n",
      "0    2  6290.553294    0.070645  45.835056  3.548528\n",
      "1    3  5872.181746    0.084116  45.597839  2.892671\n",
      "2    4  5485.651994    0.097166  46.366539  2.544913\n",
      "3    5  5254.740466    0.086082  42.723269  2.481692\n",
      "4    6  5072.438114    0.079441  39.580683  2.390039\n",
      "5    7  4915.715464    0.078621  37.102141  2.266018\n",
      "6    8  4784.019710    0.077845  34.930152  2.236719\n",
      "7    9  4671.524077    0.078978  33.010518  2.227642\n",
      "8   10  4545.151502    0.083193  31.914305  2.174339\n",
      "9   11  4448.804034    0.080424  30.559527  2.129047\n",
      "10  12  4378.951624    0.081840  29.021671  2.168859\n"
     ]
    }
   ],
   "source": [
    "k_values = range(2, 13)\n",
    "results = []\n",
    "\n",
    "for k in k_values:\n",
    "    kmeans = KMeans(n_clusters=k, random_state=42, n_init=50, max_iter=500)\n",
    "    kmeans.fit(X_train)\n",
    "    labels = kmeans.labels_\n",
    "    \n",
    "    inertia = kmeans.inertia_\n",
    "    sil = silhouette_score(X_train, labels)\n",
    "    ch = calinski_harabasz_score(X_train, labels)\n",
    "    db = davies_bouldin_score(X_train, labels)\n",
    "    \n",
    "    results.append({\"k\": k, \"inertia\": inertia, \"silhouette\": sil, \"CH\": ch, \"DB\": db})\n",
    "\n",
    "results_df = pd.DataFrame(results)\n",
    "print(results_df)"
   ]
  },
  {
   "cell_type": "code",
   "execution_count": 25,
   "metadata": {},
   "outputs": [
    {
     "data": {
      "image/png": "[encoded data removed]",
      "text/plain": [
       "<Figure size 1200x500 with 2 Axes>"
      ]
     },
     "metadata": {},
     "output_type": "display_data"
    }
   ],
   "source": [
    "\n",
    "\n",
    "plt.figure(figsize=(12,5))\n",
    "plt.subplot(1,2,1)\n",
    "plt.plot(results_df[\"k\"], results_df[\"inertia\"], marker='o')\n",
    "plt.title(\"Elbow Method (Inertia)\")\n",
    "plt.xlabel(\"Number of clusters (k)\")\n",
    "plt.ylabel(\"Inertia\")\n",
    "\n",
    "plt.subplot(1,2,2)\n",
    "plt.plot(results_df[\"k\"], results_df[\"silhouette\"], marker='o', color='orange')\n",
    "plt.title(\"Silhouette Score\")\n",
    "plt.xlabel(\"Number of clusters (k)\")\n",
    "plt.ylabel(\"Score\")\n",
    "plt.savefig('Plots/Kmeans_Silhouette.png')\n",
    "plt.show()"
   ]
  },
  {
   "cell_type": "code",
   "execution_count": 26,
   "metadata": {},
   "outputs": [
    {
     "name": "stderr",
     "output_type": "stream",
     "text": [
      "C:\\Users\\ismai\\AppData\\Local\\Packages\\PythonSoftwareFoundation.Python.3.11_qbz5n2kfra8p0\\LocalCache\\local-packages\\Python311\\site-packages\\sklearn\\utils\\validation.py:2742: UserWarning: X has feature names, but KMeans was fitted without feature names\n",
      "  warnings.warn(\n",
      "C:\\Users\\ismai\\AppData\\Local\\Packages\\PythonSoftwareFoundation.Python.3.11_qbz5n2kfra8p0\\LocalCache\\local-packages\\Python311\\site-packages\\sklearn\\utils\\validation.py:2742: UserWarning: X has feature names, but KMeans was fitted without feature names\n",
      "  warnings.warn(\n",
      "C:\\Users\\ismai\\AppData\\Local\\Packages\\PythonSoftwareFoundation.Python.3.11_qbz5n2kfra8p0\\LocalCache\\local-packages\\Python311\\site-packages\\sklearn\\utils\\validation.py:2742: UserWarning: X has feature names, but KMeans was fitted without feature names\n",
      "  warnings.warn(\n"
     ]
    }
   ],
   "source": [
    "# Step 3.1 — Combine train + validation features for final training\n",
    "X_trainval = np.vstack([X_train, X_val])\n",
    "\n",
    "# Step 3.2 — Fit final k-means model\n",
    "final_kmeans = KMeans(\n",
    "    n_clusters=2, init=\"k-means++\", n_init=50, max_iter=500, random_state=42\n",
    ")\n",
    "final_kmeans.fit(X_trainval)\n",
    "\n",
    "# Step 3.3 — Assign clusters to each split\n",
    "train_clusters = final_kmeans.predict(X_train)\n",
    "val_clusters   = final_kmeans.predict(X_val)\n",
    "test_clusters  = final_kmeans.predict(X_test)"
   ]
  },
  {
   "cell_type": "code",
   "execution_count": 27,
   "metadata": {},
   "outputs": [],
   "source": [
    "K_train=train_df.copy()\n",
    "K_train['cluster'] = train_clusters\n",
    "K_val=val_df.copy()\n",
    "K_val['cluster'] = val_clusters\n",
    "K_test=test_df.copy()\n",
    "K_test['cluster'] = test_clusters"
   ]
  },
  {
   "cell_type": "code",
   "execution_count": 28,
   "metadata": {},
   "outputs": [
    {
     "name": "stdout",
     "output_type": "stream",
     "text": [
      "Train Cluster Default Rates:\n",
      "          cluster_size  default_rate\n",
      "cluster                            \n",
      "1                 292      0.082192\n",
      "0                 303      0.072607\n",
      "\n",
      "Validation Cluster Default Rates:\n",
      "          cluster_size  default_rate\n",
      "cluster                            \n",
      "1                  98      0.081633\n",
      "0                 101      0.079208\n",
      "\n",
      "Test Cluster Default Rates:\n",
      "          cluster_size  default_rate\n",
      "cluster                            \n",
      "1                 110       0.10000\n",
      "0                  89       0.05618\n"
     ]
    }
   ],
   "source": [
    "def cluster_default_rates(df):\n",
    "    return df.groupby(\"cluster\")[\"default_flag\"].agg(\n",
    "        cluster_size=\"count\",\n",
    "        default_rate=\"mean\"\n",
    "    ).sort_values(\"default_rate\", ascending=False)\n",
    "\n",
    "train_cluster_stats = cluster_default_rates(K_train)\n",
    "val_cluster_stats   = cluster_default_rates(K_val)\n",
    "test_cluster_stats  = cluster_default_rates(K_test)\n",
    "\n",
    "print(\"Train Cluster Default Rates:\\n\", train_cluster_stats)\n",
    "print(\"\\nValidation Cluster Default Rates:\\n\", val_cluster_stats)\n",
    "print(\"\\nTest Cluster Default Rates:\\n\", test_cluster_stats)\n"
   ]
  },
  {
   "cell_type": "code",
   "execution_count": 29,
   "metadata": {},
   "outputs": [
    {
     "name": "stdout",
     "output_type": "stream",
     "text": [
      "X_train shape: (595, 13)    external_repayment_loans  credit_card_interest_incidence  \\\n",
      "0                         1                               0   \n",
      "1                         0                               0   \n",
      "2                         0                               0   \n",
      "3                         0                               1   \n",
      "4                         1                               1   \n",
      "\n",
      "   bnpl_usage_frequency  financial_stress_score  credit_limit_utilisation  \\\n",
      "0             -0.730258               -1.246089                 -1.746734   \n",
      "1              1.319109                0.529472                 -0.222965   \n",
      "2              0.408279                1.239697                  0.805578   \n",
      "3             -1.641088                1.594809                 -0.184871   \n",
      "4              0.408279                0.529472                 -1.556263   \n",
      "\n",
      "   payment_delinquency_count  impulsive_buying_score  \\\n",
      "0                  -1.500097               -0.528311   \n",
      "1                  -1.500097               -0.528311   \n",
      "2                   1.462180                0.160491   \n",
      "3                  -0.907642               -0.872712   \n",
      "4                  -0.907642               -0.872712   \n",
      "\n",
      "   financial_literacy_assessment  debt_accumulation_metric  \\\n",
      "0                       1.490696                  0.734593   \n",
      "1                       1.154347                 -0.311963   \n",
      "2                      -0.527394                 -1.757863   \n",
      "3                       0.481651                 -1.117536   \n",
      "4                      -0.527394                 -0.601143   \n",
      "\n",
      "   return_dispute_incidents  demographic_risk_factor  bnpl_debt_ratio  \\\n",
      "0                 -0.484419                -0.044657         1.691706   \n",
      "1                 -0.484419                 0.653109         1.604095   \n",
      "2                  1.267548                 1.350875        -0.726369   \n",
      "3                  1.267548                -1.440189        -1.357171   \n",
      "4                  0.391565                 0.653109        -1.760183   \n",
      "\n",
      "   stress_usage_interaction  \n",
      "0                  0.909966  \n",
      "1                  0.698432  \n",
      "2                  0.506143  \n",
      "3                 -2.617221  \n",
      "4                  0.216173  \n",
      "y_train shape: (595,) 0    0\n",
      "1    0\n",
      "2    0\n",
      "3    0\n",
      "4    0\n",
      "Name: default_flag, dtype: int64\n",
      "X_test shape: (199, 13)    external_repayment_loans  credit_card_interest_incidence  \\\n",
      "0                         0                               0   \n",
      "1                         0                               1   \n",
      "2                         1                               0   \n",
      "3                         0                               0   \n",
      "4                         0                               0   \n",
      "\n",
      "   bnpl_usage_frequency  financial_stress_score  credit_limit_utilisation  \\\n",
      "0              0.180572               -0.890977                  0.005600   \n",
      "1             -1.413380                1.594809                  1.643651   \n",
      "2              1.546817                0.174360                 -1.670546   \n",
      "3             -1.413380               -0.180752                 -1.327698   \n",
      "4             -0.047135                0.529472                  1.567463   \n",
      "\n",
      "   payment_delinquency_count  impulsive_buying_score  \\\n",
      "0                   1.462180                0.504892   \n",
      "1                  -0.315186               -0.528311   \n",
      "2                  -1.500097                0.504892   \n",
      "3                  -0.907642               -1.217113   \n",
      "4                   1.462180                0.504892   \n",
      "\n",
      "   financial_literacy_assessment  debt_accumulation_metric  \\\n",
      "0                      -0.527394                 -0.126062   \n",
      "1                       0.145302                  0.796560   \n",
      "2                       1.154347                  1.244101   \n",
      "3                      -0.191046                  0.369675   \n",
      "4                      -0.527394                 -0.112291   \n",
      "\n",
      "   return_dispute_incidents  demographic_risk_factor  bnpl_debt_ratio  \\\n",
      "0                  1.267548                 1.350875         1.516483   \n",
      "1                  1.267548                -0.742423        -1.584960   \n",
      "2                  1.267548                -0.044657         0.833114   \n",
      "3                 -0.484419                 0.653109        -0.638757   \n",
      "4                 -1.360402                -0.044657        -1.094336   \n",
      "\n",
      "   stress_usage_interaction  \n",
      "0                 -0.160885  \n",
      "1                 -2.254071  \n",
      "2                  0.269703  \n",
      "3                  0.255471  \n",
      "4                 -0.024957  \n",
      "y_test shape: (199,) 0    0\n",
      "1    0\n",
      "2    0\n",
      "3    0\n",
      "4    0\n",
      "Name: default_flag, dtype: int64\n",
      "X_val shape: (199, 13)    external_repayment_loans  credit_card_interest_incidence  \\\n",
      "0                         0                               1   \n",
      "1                         0                               0   \n",
      "2                         0                               0   \n",
      "3                         1                               0   \n",
      "4                         0                               1   \n",
      "\n",
      "   bnpl_usage_frequency  financial_stress_score  credit_limit_utilisation  \\\n",
      "0             -0.502550                1.239697                  0.272259   \n",
      "1              0.408279               -0.535864                 -1.670546   \n",
      "2              0.635987               -0.890977                  0.043694   \n",
      "3             -0.730258                0.884585                 -0.108683   \n",
      "4              0.635987                0.529472                 -0.337248   \n",
      "\n",
      "   payment_delinquency_count  impulsive_buying_score  \\\n",
      "0                  -0.907642                0.160491   \n",
      "1                   1.462180               -0.183910   \n",
      "2                  -0.907642               -1.217113   \n",
      "3                   0.277269                1.193694   \n",
      "4                  -1.500097                0.160491   \n",
      "\n",
      "   financial_literacy_assessment  debt_accumulation_metric  \\\n",
      "0                       0.817999                  0.906724   \n",
      "1                      -1.200091                 -1.275897   \n",
      "2                      -1.200091                  0.183774   \n",
      "3                       1.154347                 -1.571962   \n",
      "4                      -1.200091                  0.803445   \n",
      "\n",
      "   return_dispute_incidents  demographic_risk_factor  bnpl_debt_ratio  \\\n",
      "0                 -1.360402                 1.350875        -0.288312   \n",
      "1                  1.267548                 1.350875         0.500191   \n",
      "2                 -0.484419                 1.350875        -1.549916   \n",
      "3                 -0.484419                -0.742423        -0.183178   \n",
      "4                 -0.484419                -0.044657         0.920726   \n",
      "\n",
      "   stress_usage_interaction  \n",
      "0                 -0.623010  \n",
      "1                 -0.218782  \n",
      "2                 -0.566649  \n",
      "3                 -0.645975  \n",
      "4                  0.336737  \n",
      "y_val shape: (199,) 0    0\n",
      "1    0\n",
      "2    0\n",
      "3    0\n",
      "4    0\n",
      "Name: default_flag, dtype: int64\n"
     ]
    }
   ],
   "source": [
    "X_train = train_df.drop(columns=[target_col])\n",
    "y_train = train_df[target_col]\n",
    "print(\"X_train shape:\", X_train.shape, X_train.head())\n",
    "print(\"y_train shape:\", y_train.shape, y_train.head())\n",
    "X_test = test_df.drop(columns=[target_col])\n",
    "y_test = test_df[target_col]\n",
    "print(\"X_test shape:\", X_test.shape, X_test.head())\n",
    "print(\"y_test shape:\", y_test.shape, y_test.head())\n",
    "X_val = val_df.drop(columns=[target_col])\n",
    "y_val = val_df[target_col]\n",
    "print(\"X_val shape:\", X_val.shape, X_val.head())\n",
    "print(\"y_val shape:\", y_val.shape, y_val.head())"
   ]
  },
  {
   "cell_type": "code",
   "execution_count": 30,
   "metadata": {},
   "outputs": [],
   "source": [
    "x_k_train=K_train.drop(columns=[target_col])\n",
    "x_k_val=K_val.drop(columns=[target_col])\n",
    "x_k_test=K_test.drop(columns=[target_col])\n",
    "y_k_train=K_train[target_col]\n",
    "y_k_val=K_val[target_col]\n",
    "y_k_test=K_test[target_col]"
   ]
  },
  {
   "cell_type": "code",
   "execution_count": null,
   "metadata": {},
   "outputs": [
    {
     "name": "stdout",
     "output_type": "stream",
     "text": [
      "Confusion Matrix:\n",
      " [[183   0]\n",
      " [  4  12]]\n",
      "ROC AUC Score: 0.9996584699453552\n",
      "F1 Score: 0.8571428571428571\n",
      "Recall Score: 0.75\n",
      "Precision Score: 1.0\n"
     ]
    }
   ],
   "source": [
    "# Random Forest model\n",
    "rf_model = RandomForestClassifier(\n",
    "    n_estimators=300,\n",
    "    max_depth=None,      # Let it grow until pure leaves or min_samples constraints\n",
    "    min_samples_split=2,\n",
    "    min_samples_leaf=1,\n",
    "    random_state=42,\n",
    "    n_jobs=-1\n",
    ")\n",
    "\n",
    "rf_model.fit(x_k_train, y_k_train)\n",
    "\n",
    "# Predictions\n",
    "rf_preds = rf_model.predict(x_k_val)\n",
    "rf_probs = rf_model.predict_proba(x_k_val)[:, 1]\n",
    "\n",
    "# Evaluation\n",
    "print(\"Confusion Matrix:\\n\", confusion_matrix(y_k_val, rf_preds))\n",
    "print(\"ROC AUC Score:\", roc_auc_score(y_k_val, rf_probs))\n",
    "print(\"F1 Score:\", f1_score(y_k_val, rf_preds))\n",
    "print(\"Recall Score:\", recall_score(y_k_val, rf_preds))\n",
    "print(\"Precision Score:\", precision_score(y_k_val, rf_preds))\n"
   ]
  },
  {
   "cell_type": "code",
   "execution_count": 48,
   "metadata": {},
   "outputs": [
    {
     "name": "stdout",
     "output_type": "stream",
     "text": [
      "Best F1 Score Threshold: 0.2966666666666667\n",
      "Final Random Forest Classification Report with Best F1 Threshold:\n",
      "               precision    recall  f1-score   support\n",
      "\n",
      "           0       1.00      0.99      1.00       183\n",
      "           1       0.94      1.00      0.97        16\n",
      "\n",
      "    accuracy                           0.99       199\n",
      "   macro avg       0.97      1.00      0.98       199\n",
      "weighted avg       1.00      0.99      1.00       199\n",
      "\n"
     ]
    }
   ],
   "source": [
    "#get the threshold for the best f1 score\n",
    "precision, recall, thresholds = precision_recall_curve(y_k_val, rf_probs)\n",
    "f1_scores = 2 * (precision * recall) / (precision + recall)\n",
    "best_f1_index = np.argmax(f1_scores)\n",
    "best_f1_threshold = thresholds[best_f1_index]\n",
    "print(\"Best F1 Score Threshold:\", best_f1_threshold)\n",
    "# Apply the best threshold to get final predictions\n",
    "rf_final_preds = (rf_probs >= best_f1_threshold).astype(int)\n",
    "# Final evaluation with the best threshold\n",
    "print(\"Final Random Forest Classification Report with Best F1 Threshold:\\n\", classification_report(y_k_val, rf_final_preds))\n"
   ]
  },
  {
   "cell_type": "code",
   "execution_count": 61,
   "metadata": {},
   "outputs": [],
   "source": [
    "rf_f_probs = rf_model.predict_proba(x_k_test)[:, 1]\n",
    "rf_f_preds = (rf_f_probs >= best_f1_threshold).astype(int)"
   ]
  },
  {
   "cell_type": "code",
   "execution_count": 62,
   "metadata": {},
   "outputs": [
    {
     "name": "stdout",
     "output_type": "stream",
     "text": [
      "[[183   0]\n",
      " [  3  13]]\n"
     ]
    }
   ],
   "source": [
    "print(confusion_matrix(y_k_test, rf_f_preds))"
   ]
  },
  {
   "cell_type": "code",
   "execution_count": 63,
   "metadata": {},
   "outputs": [
    {
     "name": "stdout",
     "output_type": "stream",
     "text": [
      "{'threshold': 0.2966666666666667, 'confusion_matrix': [[183, 0], [3, 13]], 'accuracy': 0.9849246231155779, 'precision': 1.0, 'recall': 0.8125, 'f1_score': 0.896551724137931, 'roc_auc': 0.90625, 'fpr': [0.0, 0.0, 0.0, 0.0, 0.0, 0.00546448087431694, 0.00546448087431694, 0.01092896174863388, 0.02185792349726776, 0.04918032786885246, 0.060109289617486336, 0.07650273224043716, 0.09289617486338798, 0.11475409836065574, 0.12568306010928962, 0.14754098360655737, 0.14754098360655737, 0.16393442622950818, 0.17486338797814208, 0.20765027322404372, 0.21311475409836064, 0.2568306010928962, 0.2896174863387978, 0.32786885245901637, 0.3825136612021858, 0.4098360655737705, 0.4207650273224044, 0.4426229508196721, 0.46994535519125685, 0.5081967213114754, 0.5355191256830601, 0.6120218579234973, 0.6939890710382514, 0.819672131147541, 1.0], 'tpr': [0.0, 0.125, 0.25, 0.5, 0.875, 0.875, 0.9375, 0.9375, 0.9375, 0.9375, 0.9375, 0.9375, 0.9375, 0.9375, 0.9375, 0.9375, 1.0, 1.0, 1.0, 1.0, 1.0, 1.0, 1.0, 1.0, 1.0, 1.0, 1.0, 1.0, 1.0, 1.0, 1.0, 1.0, 1.0, 1.0, 1.0], 'roc_thresholds': [inf, 0.7933333333333333, 0.72, 0.6533333333333333, 0.29, 0.25, 0.23333333333333334, 0.22, 0.20666666666666667, 0.14666666666666667, 0.14333333333333334, 0.12, 0.10666666666666667, 0.10333333333333333, 0.1, 0.07666666666666666, 0.07, 0.06666666666666667, 0.06333333333333334, 0.056666666666666664, 0.05333333333333334, 0.04666666666666667, 0.04, 0.03666666666666667, 0.03333333333333333, 0.03, 0.02666666666666667, 0.023333333333333334, 0.02, 0.016666666666666666, 0.013333333333333334, 0.01, 0.006666666666666667, 0.0033333333333333335, 0.0]}\n"
     ]
    }
   ],
   "source": [
    "fpr, tpr, thresholds = roc_curve(y_k_test, rf_f_probs)\n",
    "results = {\n",
    "    \"threshold\": float(best_f1_threshold),\n",
    "    \"confusion_matrix\": confusion_matrix(y_k_test, rf_f_preds).tolist(),\n",
    "    \"accuracy\": accuracy_score(y_k_test, rf_f_preds),\n",
    "    \"precision\": precision_score(y_k_test, rf_f_preds),\n",
    "    \"recall\": recall_score(y_k_test, rf_f_preds),\n",
    "    \"f1_score\": f1_score(y_k_test, rf_f_preds),\n",
    "    \"roc_auc\": roc_auc_score(y_k_test, rf_f_preds),\n",
    "    \"fpr\": fpr.tolist(),\n",
    "    \"tpr\": tpr.tolist(),\n",
    "    \"roc_thresholds\": thresholds.tolist(),    \n",
    "}\n",
    "print (results)\n",
    "with open(\"Results\\K-Means_RF_model_results.json\", \"w\") as f:\n",
    "    json.dump(results, f)"
   ]
  },
  {
   "cell_type": "code",
   "execution_count": 68,
   "metadata": {},
   "outputs": [
    {
     "name": "stdout",
     "output_type": "stream",
     "text": [
      "Validation ROC AUC: 1.0000\n"
     ]
    },
    {
     "name": "stderr",
     "output_type": "stream",
     "text": [
      "C:\\Users\\ismai\\AppData\\Local\\Packages\\PythonSoftwareFoundation.Python.3.11_qbz5n2kfra8p0\\LocalCache\\local-packages\\Python311\\site-packages\\xgboost\\training.py:183: UserWarning: [20:36:36] WARNING: C:\\actions-runner\\_work\\xgboost\\xgboost\\src\\learner.cc:738: \n",
      "Parameters: { \"use_label_encoder\" } are not used.\n",
      "\n",
      "  bst.update(dtrain, iteration=i, fobj=obj)\n"
     ]
    }
   ],
   "source": [
    "# Fit without early stopping:\n",
    "XG_model = XGBClassifier(random_state=SEED,\n",
    "                      use_label_encoder=False,\n",
    "                      eval_metric=\"logloss\")  \n",
    "\n",
    "XG_model.fit(x_k_train, y_k_train)\n",
    "\n",
    "# Predict & evaluate:\n",
    "y_valid_proba = XG_model.predict_proba(x_k_val)[:, 1]\n",
    "auc = roc_auc_score(y_val, y_valid_proba)\n",
    "print(f\"Validation ROC AUC: {auc:.4f}\")\n"
   ]
  },
  {
   "cell_type": "code",
   "execution_count": 73,
   "metadata": {},
   "outputs": [
    {
     "name": "stdout",
     "output_type": "stream",
     "text": [
      "Fitting 3 folds for each of 50 candidates, totalling 150 fits\n"
     ]
    },
    {
     "name": "stderr",
     "output_type": "stream",
     "text": [
      "C:\\Users\\ismai\\AppData\\Local\\Packages\\PythonSoftwareFoundation.Python.3.11_qbz5n2kfra8p0\\LocalCache\\local-packages\\Python311\\site-packages\\xgboost\\training.py:183: UserWarning: [20:38:27] WARNING: C:\\actions-runner\\_work\\xgboost\\xgboost\\src\\learner.cc:738: \n",
      "Parameters: { \"use_label_encoder\" } are not used.\n",
      "\n",
      "  bst.update(dtrain, iteration=i, fobj=obj)\n"
     ]
    }
   ],
   "source": [
    "\n",
    "param_dist = {\n",
    "    'n_estimators': [100, 200, 300],\n",
    "    'max_depth': [3, 5, 7],\n",
    "    'learning_rate': [0.01, 0.1, 0.2],\n",
    "    'subsample': [0.8, 1.0],\n",
    "    'colsample_bytree': [0.8, 1.0],\n",
    "    'gamma': [0, 0.1, 0.2],\n",
    "    'reg_alpha': [0, 0.1, 1],\n",
    "    'reg_lambda': [1, 1.5, 2]\n",
    "}\n",
    "\n",
    "rs = RandomizedSearchCV(\n",
    "    estimator=XGBClassifier(\n",
    "        use_label_encoder=False,\n",
    "        eval_metric=\"logloss\",\n",
    "        random_state=SEED,\n",
    "        n_jobs=1,               # avoid nested process pools in XGBoost\n",
    "    ),\n",
    "    param_distributions=param_dist,\n",
    "    n_iter=50,\n",
    "    scoring=\"roc_auc\",\n",
    "    cv=3,\n",
    "    verbose=1,\n",
    "    n_jobs=-1,                 # we’ll turn this into threads below\n",
    "    random_state=SEED\n",
    ")\n",
    "\n",
    "with parallel_backend(\"threading\"):    # <- uses threads, no subprocess spawn\n",
    "    rs.fit(x_k_train, y_k_train)\n"
   ]
  },
  {
   "cell_type": "code",
   "execution_count": null,
   "metadata": {},
   "outputs": [],
   "source": []
  },
  {
   "cell_type": "code",
   "execution_count": 74,
   "metadata": {},
   "outputs": [
    {
     "name": "stderr",
     "output_type": "stream",
     "text": [
      "C:\\Users\\ismai\\AppData\\Local\\Packages\\PythonSoftwareFoundation.Python.3.11_qbz5n2kfra8p0\\LocalCache\\local-packages\\Python311\\site-packages\\xgboost\\training.py:183: UserWarning: [20:39:32] WARNING: C:\\actions-runner\\_work\\xgboost\\xgboost\\src\\learner.cc:738: \n",
      "Parameters: { \"use_label_encoder\" } are not used.\n",
      "\n",
      "  bst.update(dtrain, iteration=i, fobj=obj)\n"
     ]
    },
    {
     "name": "stdout",
     "output_type": "stream",
     "text": [
      "Tuned model ROC AUC on valid:  1.0\n"
     ]
    }
   ],
   "source": [
    "best_params = rs.best_params_\n",
    "\n",
    "# Re-instantiate with best params\n",
    "best_model = XGBClassifier(\n",
    "    **best_params,\n",
    "    use_label_encoder=False,\n",
    "    eval_metric=\"logloss\",\n",
    "    random_state=SEED\n",
    ")\n",
    "\n",
    "# Fit on train + valid (optional) or just train\n",
    "best_model.fit(\n",
    "    x_k_train,\n",
    "    y_k_train,\n",
    "    # if your version supports it:\n",
    "    #early_stopping_rounds=10,\n",
    "    eval_set=[(x_k_val, y_k_val)],\n",
    "    verbose=False\n",
    ")\n",
    "\n",
    "# Final AUC on the validation set:\n",
    "y_valid_proba = best_model.predict_proba(x_k_val)[:, 1]\n",
    "print(\"Tuned model ROC AUC on valid: \",\n",
    "      roc_auc_score(y_k_val, y_valid_proba))\n"
   ]
  },
  {
   "cell_type": "code",
   "execution_count": 75,
   "metadata": {},
   "outputs": [
    {
     "name": "stdout",
     "output_type": "stream",
     "text": [
      "Best CV AUC (3-fold on train): 0.9991955069823922\n",
      "Best hyperparameters: {'subsample': 1.0, 'reg_lambda': 1.5, 'reg_alpha': 0, 'n_estimators': 200, 'max_depth': 3, 'learning_rate': 0.2, 'gamma': 0.2, 'colsample_bytree': 0.8}\n"
     ]
    }
   ],
   "source": [
    "print(\"Best CV AUC (3-fold on train):\", rs.best_score_)\n",
    "print(\"Best hyperparameters:\", rs.best_params_)\n"
   ]
  },
  {
   "cell_type": "code",
   "execution_count": 80,
   "metadata": {},
   "outputs": [
    {
     "name": "stdout",
     "output_type": "stream",
     "text": [
      "Best threshold=0.0947, F1=1.0000 (P=1.0000, R=1.0000)\n"
     ]
    }
   ],
   "source": [
    "\n",
    "def best_threshold_by_f1(y_true, p):\n",
    "    # p = predicted probability of the positive class\n",
    "    prec, rec, thr = precision_recall_curve(y_true, p)\n",
    "    f1 = (2 * prec * rec) / (prec + rec + 1e-12)\n",
    "    i = np.nanargmax(f1)\n",
    "    # precision_recall_curve returns thresholds of length n-1\n",
    "    best_thr = thr[i-1] if i > 0 else 1.0\n",
    "    return float(best_thr), float(f1[i]), float(prec[i]), float(rec[i])\n",
    "\n",
    "# ---- use on VALIDATION ----\n",
    "p_val = best_model.predict_proba(x_k_val)[:, 1]\n",
    "thr, f1, prec, rec = best_threshold_by_f1(y_k_val, p_val)\n",
    "print(f\"Best threshold={thr:.4f}, F1={f1:.4f} (P={prec:.4f}, R={rec:.4f})\")\n"
   ]
  },
  {
   "cell_type": "code",
   "execution_count": 83,
   "metadata": {},
   "outputs": [
    {
     "data": {
      "text/plain": [
       "0.09474921226501465"
      ]
     },
     "execution_count": 83,
     "metadata": {},
     "output_type": "execute_result"
    }
   ],
   "source": [
    "thr"
   ]
  },
  {
   "cell_type": "code",
   "execution_count": 84,
   "metadata": {},
   "outputs": [
    {
     "name": "stdout",
     "output_type": "stream",
     "text": [
      "Evaluating on the test set...\n"
     ]
    }
   ],
   "source": [
    "print(\"Evaluating on the test set...\")\n",
    "y_proba_pos = best_model.predict_proba(x_k_test)[:, 1]\n",
    "y_pred      = (y_proba_pos >= thr).astype(int)"
   ]
  },
  {
   "cell_type": "code",
   "execution_count": 85,
   "metadata": {},
   "outputs": [
    {
     "name": "stdout",
     "output_type": "stream",
     "text": [
      "Confusion matrix:\n",
      " [[183   0]\n",
      " [  1  15]]\n",
      "Precision, Recall, F1-score, AUC:\n",
      "Precision: 1.0\n",
      "Recall: 0.9375\n",
      "F1-score: 0.967741935483871\n",
      "AUC: 1.0\n"
     ]
    }
   ],
   "source": [
    "print(\"Confusion matrix:\\n\", confusion_matrix(y_k_test, y_pred))\n",
    "print(\"Precision, Recall, F1-score, AUC:\")\n",
    "print(\"Precision:\", precision_score(y_k_test, y_pred))\n",
    "print(\"Recall:\", recall_score(y_k_test, y_pred))\n",
    "print(\"F1-score:\", f1_score(y_k_test, y_pred))\n",
    "print(\"AUC:\", roc_auc_score(y_k_test, y_proba_pos))"
   ]
  },
  {
   "cell_type": "code",
   "execution_count": 86,
   "metadata": {},
   "outputs": [
    {
     "name": "stdout",
     "output_type": "stream",
     "text": [
      "{'threshold': 0.5, 'confusion_matrix': [[183, 0], [1, 15]], 'accuracy': 0.9949748743718593, 'precision': 1.0, 'recall': 0.9375, 'f1_score': 0.967741935483871, 'roc_auc': 1.0, 'fpr': [0.0, 0.0, 1.0], 'tpr': [0.0, 0.9375, 1.0], 'roc_thresholds': [inf, 1.0, 0.0]}\n"
     ]
    }
   ],
   "source": [
    "fpr, tpr, thresholds = roc_curve(y_k_test, y_pred)\n",
    "# Calculate metrics\n",
    "results = {\n",
    "    \"threshold\": 0.5,  # Default threshold, can be adjusted based on validation set\n",
    "    \"confusion_matrix\": confusion_matrix(y_k_test, y_pred).tolist(),  # Convert to list for JSON compatibility\n",
    "    \"accuracy\": accuracy_score(y_k_test, y_pred),\n",
    "    \"precision\": precision_score(y_k_test, y_pred),\n",
    "    \"recall\": recall_score(y_k_test, y_pred),\n",
    "    \"f1_score\": f1_score(y_k_test, y_pred),\n",
    "    \"roc_auc\": roc_auc_score(y_k_test, y_proba_pos),\n",
    "    \"fpr\": fpr.tolist(),\n",
    "    \"tpr\": tpr.tolist(),\n",
    "    \"roc_thresholds\": thresholds.tolist(),\n",
    "}\n",
    "print(results)\n",
    "# Save results to a JSON file\n",
    "with open(\"Results\\K-Means_XGB_model_results.json\", \"w\") as json_file:\n",
    "    json.dump(results, json_file, indent=4)\n"
   ]
  },
  {
   "cell_type": "code",
   "execution_count": 88,
   "metadata": {},
   "outputs": [
    {
     "data": {
      "image/png": "[encoded data removed]",
      "text/plain": [
       "<Figure size 1200x500 with 2 Axes>"
      ]
     },
     "metadata": {},
     "output_type": "display_data"
    }
   ],
   "source": [
    "\n",
    "# Compute confusion matrices\n",
    "cm_rf = confusion_matrix(y_k_test, rf_f_preds, labels=[0, 1])\n",
    "cm_xgb = confusion_matrix(y_k_test, y_pred, labels=[0, 1])\n",
    "\n",
    "# Create a figure with 2 subplots (side by side)\n",
    "fig, axes = plt.subplots(1, 2, figsize=(12, 5))\n",
    "\n",
    "# Function to apply custom style\n",
    "def plot_cm(cm, ax, title):\n",
    "    disp = ConfusionMatrixDisplay(confusion_matrix=cm, display_labels=['No default', 'Default'])\n",
    "    disp.plot(values_format='d', cmap='tab20_r', ax=ax, colorbar=False)\n",
    "\n",
    "    # Make the numbers bigger and black\n",
    "    for text in disp.text_.ravel():\n",
    "        text.set_fontsize(15)\n",
    "        text.set_color('black')\n",
    "\n",
    "    # Add white grid lines\n",
    "    n_classes = cm.shape[0]\n",
    "    for i in range(1, n_classes):\n",
    "        ax.axhline(i - 0.5, color='white', linewidth=3)\n",
    "        ax.axvline(i - 0.5, color='white', linewidth=3)\n",
    "\n",
    "    # Remove outer border\n",
    "    for spine in ax.spines.values():\n",
    "        spine.set_visible(False)\n",
    "\n",
    "    # Set title\n",
    "    ax.set_title(title, fontsize=13)\n",
    "\n",
    "# Plot both matrices\n",
    "plot_cm(cm_rf, axes[0], \"Hybrid K-Means + Random Forest\")\n",
    "plot_cm(cm_xgb, axes[1], \"Hybrid K-Means + XGBoost\")\n",
    "\n",
    "plt.tight_layout()\n",
    "plt.savefig(\"Plots/Confusion Matricies/K-Means_cm.png\")\n",
    "plt.show()\n"
   ]
  },
  {
   "cell_type": "code",
   "execution_count": 89,
   "metadata": {},
   "outputs": [
    {
     "name": "stdout",
     "output_type": "stream",
     "text": [
      "RF Feature Importance:\n",
      "                      Feature  Importance\n",
      "0       bnpl_usage_frequency    0.163474\n",
      "1            bnpl_debt_ratio    0.162226\n",
      "2   stress_usage_interaction    0.134855\n",
      "3     financial_stress_score    0.129335\n",
      "4  payment_delinquency_count    0.117098\n",
      "5   credit_limit_utilisation    0.094124\n"
     ]
    }
   ],
   "source": [
    "#get the top features for both models\n",
    "# Feature importance for Random Forest\n",
    "importances = rf_model.feature_importances_\n",
    "feature_names = x_k_train.columns\n",
    "feature_importance = pd.DataFrame({\n",
    "    'Feature': feature_names,\n",
    "    'Importance': importances\n",
    "    }).sort_values(by='Importance', ascending=False).reset_index(drop=True)\n",
    "feature_importance_clean = feature_importance[feature_importance['Feature'] != 'cluster']\n",
    "print(\"RF Feature Importance:\\n\", feature_importance_clean.head(6))\n",
    "feature_importance_clean.head(6).to_csv(\"Results/kmeans_rf_feature_importance.csv\", index=False)\n"
   ]
  },
  {
   "cell_type": "code",
   "execution_count": 90,
   "metadata": {},
   "outputs": [
    {
     "data": {
      "image/png": "[encoded data removed]",
      "text/plain": [
       "<Figure size 1000x600 with 1 Axes>"
      ]
     },
     "metadata": {},
     "output_type": "display_data"
    }
   ],
   "source": [
    "# Plot feature importance\n",
    "plt.figure(figsize=(10, 6))\n",
    "importances = xgb_model.feature_importances_\n",
    "feature_names = x_k_train.columns\n",
    "plt.barh(feature_names, importances, color='skyblue')\n",
    "plt.xlabel(\"Importance\")\n",
    "plt.title(\"Random Forest + KMeans Feature Importance\")\n",
    "plt.tight_layout()\n"
   ]
  },
  {
   "cell_type": "code",
   "execution_count": 91,
   "metadata": {},
   "outputs": [
    {
     "data": {
      "application/vnd.microsoft.datawrangler.viewer.v0+json": {
       "columns": [
        {
         "name": "index",
         "rawType": "int64",
         "type": "integer"
        },
        {
         "name": "Feature",
         "rawType": "object",
         "type": "string"
        },
        {
         "name": "Importance",
         "rawType": "float32",
         "type": "float"
        }
       ],
       "ref": "87d2b9a5-e97c-4272-8c85-2b893f02dea2",
       "rows": [
        [
         "0",
         "bnpl_usage_frequency",
         "0.279583"
        ],
        [
         "1",
         "payment_delinquency_count",
         "0.25408876"
        ],
        [
         "2",
         "financial_stress_score",
         "0.11189375"
        ],
        [
         "3",
         "bnpl_debt_ratio",
         "0.10919713"
        ],
        [
         "4",
         "credit_limit_utilisation",
         "0.07420185"
        ],
        [
         "5",
         "stress_usage_interaction",
         "0.0647929"
        ],
        [
         "6",
         "impulsive_buying_score",
         "0.019107603"
        ]
       ],
       "shape": {
        "columns": 2,
        "rows": 7
       }
      },
      "text/html": [
       "<div>\n",
       "<style scoped>\n",
       "    .dataframe tbody tr th:only-of-type {\n",
       "        vertical-align: middle;\n",
       "    }\n",
       "\n",
       "    .dataframe tbody tr th {\n",
       "        vertical-align: top;\n",
       "    }\n",
       "\n",
       "    .dataframe thead th {\n",
       "        text-align: right;\n",
       "    }\n",
       "</style>\n",
       "<table border=\"1\" class=\"dataframe\">\n",
       "  <thead>\n",
       "    <tr style=\"text-align: right;\">\n",
       "      <th></th>\n",
       "      <th>Feature</th>\n",
       "      <th>Importance</th>\n",
       "    </tr>\n",
       "  </thead>\n",
       "  <tbody>\n",
       "    <tr>\n",
       "      <th>0</th>\n",
       "      <td>bnpl_usage_frequency</td>\n",
       "      <td>0.279583</td>\n",
       "    </tr>\n",
       "    <tr>\n",
       "      <th>1</th>\n",
       "      <td>payment_delinquency_count</td>\n",
       "      <td>0.254089</td>\n",
       "    </tr>\n",
       "    <tr>\n",
       "      <th>2</th>\n",
       "      <td>financial_stress_score</td>\n",
       "      <td>0.111894</td>\n",
       "    </tr>\n",
       "    <tr>\n",
       "      <th>3</th>\n",
       "      <td>bnpl_debt_ratio</td>\n",
       "      <td>0.109197</td>\n",
       "    </tr>\n",
       "    <tr>\n",
       "      <th>4</th>\n",
       "      <td>credit_limit_utilisation</td>\n",
       "      <td>0.074202</td>\n",
       "    </tr>\n",
       "    <tr>\n",
       "      <th>5</th>\n",
       "      <td>stress_usage_interaction</td>\n",
       "      <td>0.064793</td>\n",
       "    </tr>\n",
       "    <tr>\n",
       "      <th>6</th>\n",
       "      <td>impulsive_buying_score</td>\n",
       "      <td>0.019108</td>\n",
       "    </tr>\n",
       "  </tbody>\n",
       "</table>\n",
       "</div>"
      ],
      "text/plain": [
       "                     Feature  Importance\n",
       "0       bnpl_usage_frequency    0.279583\n",
       "1  payment_delinquency_count    0.254089\n",
       "2     financial_stress_score    0.111894\n",
       "3            bnpl_debt_ratio    0.109197\n",
       "4   credit_limit_utilisation    0.074202\n",
       "5   stress_usage_interaction    0.064793\n",
       "6     impulsive_buying_score    0.019108"
      ]
     },
     "metadata": {},
     "output_type": "display_data"
    }
   ],
   "source": [
    "# Feature importance for XGBoost\n",
    "importances = xgb_model.feature_importances_\n",
    "feature_names = x_k_train.columns\n",
    "feature_importance = pd.DataFrame({\n",
    "    'Feature': feature_names,\n",
    "    'Importance': importances\n",
    "}).sort_values(by='Importance', ascending=False).reset_index(drop=True)\n",
    "display(feature_importance.head(7))\n",
    "# i want to remove the cluster feature from the importance list\n"
   ]
  },
  {
   "cell_type": "code",
   "execution_count": 92,
   "metadata": {},
   "outputs": [
    {
     "name": "stdout",
     "output_type": "stream",
     "text": [
      "XGBoost Feature Importance:\n",
      "                      Feature  Importance\n",
      "0       bnpl_usage_frequency    0.279583\n",
      "1  payment_delinquency_count    0.254089\n",
      "2     financial_stress_score    0.111894\n",
      "3            bnpl_debt_ratio    0.109197\n",
      "4   credit_limit_utilisation    0.074202\n",
      "5   stress_usage_interaction    0.064793\n"
     ]
    }
   ],
   "source": [
    "feature_importance_clean = feature_importance[feature_importance['Feature'] != 'cluster']\n",
    "print(\"XGBoost Feature Importance:\\n\", feature_importance_clean.head(6))\n",
    "feature_importance_clean.head(6).to_csv(\"Results/kmeans_xgb_feature_importance.csv\", index=False)"
   ]
  },
  {
   "cell_type": "code",
   "execution_count": 93,
   "metadata": {},
   "outputs": [
    {
     "data": {
      "image/png": "[encoded data removed]",
      "text/plain": [
       "<Figure size 1000x600 with 1 Axes>"
      ]
     },
     "metadata": {},
     "output_type": "display_data"
    }
   ],
   "source": [
    "# Plot feature importance\n",
    "plt.figure(figsize=(10, 6))\n",
    "importances = xgb_model.feature_importances_\n",
    "feature_names = x_k_train.columns\n",
    "plt.barh(feature_names, importances, color='skyblue')\n",
    "plt.xlabel(\"Importance\")\n",
    "plt.title(\"XGBoost Feature Importance\")\n",
    "plt.tight_layout()"
   ]
  }
 ],
 "metadata": {
  "kernelspec": {
   "display_name": "Python 3",
   "language": "python",
   "name": "python3"
  },
  "language_info": {
   "codemirror_mode": {
    "name": "ipython",
    "version": 3
   },
   "file_extension": ".py",
   "mimetype": "text/x-python",
   "name": "python",
   "nbconvert_exporter": "python",
   "pygments_lexer": "ipython3",
   "version": "3.11.9"
  }
 },
 "nbformat": 4,
 "nbformat_minor": 2
}
