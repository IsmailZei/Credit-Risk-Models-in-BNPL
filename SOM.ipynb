{
 "cells": [
  {
   "cell_type": "code",
   "execution_count": 88,
   "metadata": {},
   "outputs": [],
   "source": [
    "import numpy as np\n",
    "import pandas as pd\n",
    "import matplotlib.pyplot as plt\n",
    "import json\n",
    "from minisom import MiniSom\n",
    "from xgboost import XGBClassifier\n",
    "from sklearn.compose import ColumnTransformer\n",
    "from sklearn.preprocessing import StandardScaler, OneHotEncoder\n",
    "from sklearn.linear_model import LogisticRegression\n",
    "from sklearn.ensemble import RandomForestClassifier\n",
    "from sklearn.metrics import (\n",
    "    accuracy_score,\n",
    "    precision_score,\n",
    "    recall_score,\n",
    "    f1_score,\n",
    "    roc_auc_score,\n",
    "    confusion_matrix,\n",
    "    classification_report,\n",
    "    roc_curve,\n",
    "    precision_recall_curve,\n",
    "    ConfusionMatrixDisplay\n",
    ")\n",
    "\n",
    "rng = np.random.RandomState(42)"
   ]
  },
  {
   "cell_type": "code",
   "execution_count": 89,
   "metadata": {},
   "outputs": [],
   "source": [
    "train_df = pd.read_csv(\"Tables/bnpl_train.csv\")\n",
    "test_df = pd.read_csv(\"Tables/bnpl_test.csv\")\n",
    "val_df = pd.read_csv(\"Tables/bnpl_val.csv\")\n",
    "target_col = \"default_flag\""
   ]
  },
  {
   "cell_type": "code",
   "execution_count": 90,
   "metadata": {},
   "outputs": [
    {
     "name": "stdout",
     "output_type": "stream",
     "text": [
      "(595, 14) (199, 14) (199, 14)\n",
      "   external_repayment_loans  credit_card_interest_incidence  default_flag  \\\n",
      "0                         1                               0             0   \n",
      "1                         0                               0             0   \n",
      "2                         0                               0             0   \n",
      "3                         0                               1             0   \n",
      "4                         1                               1             0   \n",
      "\n",
      "   bnpl_usage_frequency  financial_stress_score  credit_limit_utilisation  \\\n",
      "0             -0.730258               -1.246089                 -1.746734   \n",
      "1              1.319109                0.529472                 -0.222965   \n",
      "2              0.408279                1.239697                  0.805578   \n",
      "3             -1.641088                1.594809                 -0.184871   \n",
      "4              0.408279                0.529472                 -1.556263   \n",
      "\n",
      "   payment_delinquency_count  impulsive_buying_score  \\\n",
      "0                  -1.500097               -0.528311   \n",
      "1                  -1.500097               -0.528311   \n",
      "2                   1.462180                0.160491   \n",
      "3                  -0.907642               -0.872712   \n",
      "4                  -0.907642               -0.872712   \n",
      "\n",
      "   financial_literacy_assessment  debt_accumulation_metric  \\\n",
      "0                       1.490696                  0.734593   \n",
      "1                       1.154347                 -0.311963   \n",
      "2                      -0.527394                 -1.757863   \n",
      "3                       0.481651                 -1.117536   \n",
      "4                      -0.527394                 -0.601143   \n",
      "\n",
      "   return_dispute_incidents  demographic_risk_factor  bnpl_debt_ratio  \\\n",
      "0                 -0.484419                -0.044657         1.691706   \n",
      "1                 -0.484419                 0.653109         1.604095   \n",
      "2                  1.267548                 1.350875        -0.726369   \n",
      "3                  1.267548                -1.440189        -1.357171   \n",
      "4                  0.391565                 0.653109        -1.760183   \n",
      "\n",
      "   stress_usage_interaction  \n",
      "0                  0.909966  \n",
      "1                  0.698432  \n",
      "2                  0.506143  \n",
      "3                 -2.617221  \n",
      "4                  0.216173      external_repayment_loans  credit_card_interest_incidence  default_flag  \\\n",
      "0                         0                               0             0   \n",
      "1                         0                               1             0   \n",
      "2                         1                               0             0   \n",
      "3                         0                               0             0   \n",
      "4                         0                               0             0   \n",
      "\n",
      "   bnpl_usage_frequency  financial_stress_score  credit_limit_utilisation  \\\n",
      "0              0.180572               -0.890977                  0.005600   \n",
      "1             -1.413380                1.594809                  1.643651   \n",
      "2              1.546817                0.174360                 -1.670546   \n",
      "3             -1.413380               -0.180752                 -1.327698   \n",
      "4             -0.047135                0.529472                  1.567463   \n",
      "\n",
      "   payment_delinquency_count  impulsive_buying_score  \\\n",
      "0                   1.462180                0.504892   \n",
      "1                  -0.315186               -0.528311   \n",
      "2                  -1.500097                0.504892   \n",
      "3                  -0.907642               -1.217113   \n",
      "4                   1.462180                0.504892   \n",
      "\n",
      "   financial_literacy_assessment  debt_accumulation_metric  \\\n",
      "0                      -0.527394                 -0.126062   \n",
      "1                       0.145302                  0.796560   \n",
      "2                       1.154347                  1.244101   \n",
      "3                      -0.191046                  0.369675   \n",
      "4                      -0.527394                 -0.112291   \n",
      "\n",
      "   return_dispute_incidents  demographic_risk_factor  bnpl_debt_ratio  \\\n",
      "0                  1.267548                 1.350875         1.516483   \n",
      "1                  1.267548                -0.742423        -1.584960   \n",
      "2                  1.267548                -0.044657         0.833114   \n",
      "3                 -0.484419                 0.653109        -0.638757   \n",
      "4                 -1.360402                -0.044657        -1.094336   \n",
      "\n",
      "   stress_usage_interaction  \n",
      "0                 -0.160885  \n",
      "1                 -2.254071  \n",
      "2                  0.269703  \n",
      "3                  0.255471  \n",
      "4                 -0.024957      external_repayment_loans  credit_card_interest_incidence  default_flag  \\\n",
      "0                         0                               1             0   \n",
      "1                         0                               0             0   \n",
      "2                         0                               0             0   \n",
      "3                         1                               0             0   \n",
      "4                         0                               1             0   \n",
      "\n",
      "   bnpl_usage_frequency  financial_stress_score  credit_limit_utilisation  \\\n",
      "0             -0.502550                1.239697                  0.272259   \n",
      "1              0.408279               -0.535864                 -1.670546   \n",
      "2              0.635987               -0.890977                  0.043694   \n",
      "3             -0.730258                0.884585                 -0.108683   \n",
      "4              0.635987                0.529472                 -0.337248   \n",
      "\n",
      "   payment_delinquency_count  impulsive_buying_score  \\\n",
      "0                  -0.907642                0.160491   \n",
      "1                   1.462180               -0.183910   \n",
      "2                  -0.907642               -1.217113   \n",
      "3                   0.277269                1.193694   \n",
      "4                  -1.500097                0.160491   \n",
      "\n",
      "   financial_literacy_assessment  debt_accumulation_metric  \\\n",
      "0                       0.817999                  0.906724   \n",
      "1                      -1.200091                 -1.275897   \n",
      "2                      -1.200091                  0.183774   \n",
      "3                       1.154347                 -1.571962   \n",
      "4                      -1.200091                  0.803445   \n",
      "\n",
      "   return_dispute_incidents  demographic_risk_factor  bnpl_debt_ratio  \\\n",
      "0                 -1.360402                 1.350875        -0.288312   \n",
      "1                  1.267548                 1.350875         0.500191   \n",
      "2                 -0.484419                 1.350875        -1.549916   \n",
      "3                 -0.484419                -0.742423        -0.183178   \n",
      "4                 -0.484419                -0.044657         0.920726   \n",
      "\n",
      "   stress_usage_interaction  \n",
      "0                 -0.623010  \n",
      "1                 -0.218782  \n",
      "2                 -0.566649  \n",
      "3                 -0.645975  \n",
      "4                  0.336737  \n",
      "Train nulls in target: 0\n",
      "Train class distribution:\n",
      " default_flag\n",
      "0    0.922689\n",
      "1    0.077311\n",
      "Name: proportion, dtype: float64\n"
     ]
    }
   ],
   "source": [
    "print(train_df.shape, test_df.shape, val_df.shape)\n",
    "print(train_df.head(),test_df.head(), val_df.head())\n",
    "print(\"Train nulls in target:\", train_df[\"default_flag\"].isna().sum())\n",
    "print(\"Train class distribution:\\n\", train_df[\"default_flag\"].value_counts(normalize=True))"
   ]
  },
  {
   "cell_type": "code",
   "execution_count": 91,
   "metadata": {},
   "outputs": [
    {
     "name": "stdout",
     "output_type": "stream",
     "text": [
      "X_train shape: (595, 13)    external_repayment_loans  credit_card_interest_incidence  \\\n",
      "0                         1                               0   \n",
      "1                         0                               0   \n",
      "2                         0                               0   \n",
      "3                         0                               1   \n",
      "4                         1                               1   \n",
      "\n",
      "   bnpl_usage_frequency  financial_stress_score  credit_limit_utilisation  \\\n",
      "0             -0.730258               -1.246089                 -1.746734   \n",
      "1              1.319109                0.529472                 -0.222965   \n",
      "2              0.408279                1.239697                  0.805578   \n",
      "3             -1.641088                1.594809                 -0.184871   \n",
      "4              0.408279                0.529472                 -1.556263   \n",
      "\n",
      "   payment_delinquency_count  impulsive_buying_score  \\\n",
      "0                  -1.500097               -0.528311   \n",
      "1                  -1.500097               -0.528311   \n",
      "2                   1.462180                0.160491   \n",
      "3                  -0.907642               -0.872712   \n",
      "4                  -0.907642               -0.872712   \n",
      "\n",
      "   financial_literacy_assessment  debt_accumulation_metric  \\\n",
      "0                       1.490696                  0.734593   \n",
      "1                       1.154347                 -0.311963   \n",
      "2                      -0.527394                 -1.757863   \n",
      "3                       0.481651                 -1.117536   \n",
      "4                      -0.527394                 -0.601143   \n",
      "\n",
      "   return_dispute_incidents  demographic_risk_factor  bnpl_debt_ratio  \\\n",
      "0                 -0.484419                -0.044657         1.691706   \n",
      "1                 -0.484419                 0.653109         1.604095   \n",
      "2                  1.267548                 1.350875        -0.726369   \n",
      "3                  1.267548                -1.440189        -1.357171   \n",
      "4                  0.391565                 0.653109        -1.760183   \n",
      "\n",
      "   stress_usage_interaction  \n",
      "0                  0.909966  \n",
      "1                  0.698432  \n",
      "2                  0.506143  \n",
      "3                 -2.617221  \n",
      "4                  0.216173  \n",
      "y_train shape: (595,) 0    0\n",
      "1    0\n",
      "2    0\n",
      "3    0\n",
      "4    0\n",
      "Name: default_flag, dtype: int64\n",
      "X_test shape: (199, 13)    external_repayment_loans  credit_card_interest_incidence  \\\n",
      "0                         0                               0   \n",
      "1                         0                               1   \n",
      "2                         1                               0   \n",
      "3                         0                               0   \n",
      "4                         0                               0   \n",
      "\n",
      "   bnpl_usage_frequency  financial_stress_score  credit_limit_utilisation  \\\n",
      "0              0.180572               -0.890977                  0.005600   \n",
      "1             -1.413380                1.594809                  1.643651   \n",
      "2              1.546817                0.174360                 -1.670546   \n",
      "3             -1.413380               -0.180752                 -1.327698   \n",
      "4             -0.047135                0.529472                  1.567463   \n",
      "\n",
      "   payment_delinquency_count  impulsive_buying_score  \\\n",
      "0                   1.462180                0.504892   \n",
      "1                  -0.315186               -0.528311   \n",
      "2                  -1.500097                0.504892   \n",
      "3                  -0.907642               -1.217113   \n",
      "4                   1.462180                0.504892   \n",
      "\n",
      "   financial_literacy_assessment  debt_accumulation_metric  \\\n",
      "0                      -0.527394                 -0.126062   \n",
      "1                       0.145302                  0.796560   \n",
      "2                       1.154347                  1.244101   \n",
      "3                      -0.191046                  0.369675   \n",
      "4                      -0.527394                 -0.112291   \n",
      "\n",
      "   return_dispute_incidents  demographic_risk_factor  bnpl_debt_ratio  \\\n",
      "0                  1.267548                 1.350875         1.516483   \n",
      "1                  1.267548                -0.742423        -1.584960   \n",
      "2                  1.267548                -0.044657         0.833114   \n",
      "3                 -0.484419                 0.653109        -0.638757   \n",
      "4                 -1.360402                -0.044657        -1.094336   \n",
      "\n",
      "   stress_usage_interaction  \n",
      "0                 -0.160885  \n",
      "1                 -2.254071  \n",
      "2                  0.269703  \n",
      "3                  0.255471  \n",
      "4                 -0.024957  \n",
      "y_test shape: (199,) 0    0\n",
      "1    0\n",
      "2    0\n",
      "3    0\n",
      "4    0\n",
      "Name: default_flag, dtype: int64\n",
      "X_val shape: (199, 13)    external_repayment_loans  credit_card_interest_incidence  \\\n",
      "0                         0                               1   \n",
      "1                         0                               0   \n",
      "2                         0                               0   \n",
      "3                         1                               0   \n",
      "4                         0                               1   \n",
      "\n",
      "   bnpl_usage_frequency  financial_stress_score  credit_limit_utilisation  \\\n",
      "0             -0.502550                1.239697                  0.272259   \n",
      "1              0.408279               -0.535864                 -1.670546   \n",
      "2              0.635987               -0.890977                  0.043694   \n",
      "3             -0.730258                0.884585                 -0.108683   \n",
      "4              0.635987                0.529472                 -0.337248   \n",
      "\n",
      "   payment_delinquency_count  impulsive_buying_score  \\\n",
      "0                  -0.907642                0.160491   \n",
      "1                   1.462180               -0.183910   \n",
      "2                  -0.907642               -1.217113   \n",
      "3                   0.277269                1.193694   \n",
      "4                  -1.500097                0.160491   \n",
      "\n",
      "   financial_literacy_assessment  debt_accumulation_metric  \\\n",
      "0                       0.817999                  0.906724   \n",
      "1                      -1.200091                 -1.275897   \n",
      "2                      -1.200091                  0.183774   \n",
      "3                       1.154347                 -1.571962   \n",
      "4                      -1.200091                  0.803445   \n",
      "\n",
      "   return_dispute_incidents  demographic_risk_factor  bnpl_debt_ratio  \\\n",
      "0                 -1.360402                 1.350875        -0.288312   \n",
      "1                  1.267548                 1.350875         0.500191   \n",
      "2                 -0.484419                 1.350875        -1.549916   \n",
      "3                 -0.484419                -0.742423        -0.183178   \n",
      "4                 -0.484419                -0.044657         0.920726   \n",
      "\n",
      "   stress_usage_interaction  \n",
      "0                 -0.623010  \n",
      "1                 -0.218782  \n",
      "2                 -0.566649  \n",
      "3                 -0.645975  \n",
      "4                  0.336737  \n",
      "y_val shape: (199,) 0    0\n",
      "1    0\n",
      "2    0\n",
      "3    0\n",
      "4    0\n",
      "Name: default_flag, dtype: int64\n"
     ]
    }
   ],
   "source": [
    "X_train = train_df.drop(columns=[target_col])\n",
    "y_train = train_df[target_col]\n",
    "print(\"X_train shape:\", X_train.shape, X_train.head())\n",
    "print(\"y_train shape:\", y_train.shape, y_train.head())\n",
    "X_test = test_df.drop(columns=[target_col])\n",
    "y_test = test_df[target_col]\n",
    "print(\"X_test shape:\", X_test.shape, X_test.head())\n",
    "print(\"y_test shape:\", y_test.shape, y_test.head())\n",
    "X_val = val_df.drop(columns=[target_col])\n",
    "y_val = val_df[target_col]\n",
    "print(\"X_val shape:\", X_val.shape, X_val.head())\n",
    "print(\"y_val shape:\", y_val.shape, y_val.head())"
   ]
  },
  {
   "cell_type": "code",
   "execution_count": 92,
   "metadata": {},
   "outputs": [],
   "source": [
    "def som_size_heuristic(n_samples: int):\n",
    "    \"\"\"Pick a roughly square grid; total units ≈ 5 * sqrt(N_train).\"\"\"\n",
    "    tu = int(max(4, round(5 * np.sqrt(max(1, n_samples)))))\n",
    "    m = int(round(np.sqrt(tu)))\n",
    "    n = max(2, int(round(tu / m)))\n",
    "    return m, n"
   ]
  },
  {
   "cell_type": "code",
   "execution_count": 93,
   "metadata": {},
   "outputs": [],
   "source": [
    "def fit_som(X_train, m=None, n=None, total_units=None, sigma='auto',\n",
    "            learning_rate=0.5, neighborhood_function='gaussian',\n",
    "            num_iteration='auto', random_state=42):\n",
    "    \"\"\"\n",
    "    Fit a MiniSom on TRAIN ONLY.\n",
    "    - Grid size: choose via (m, n) or total_units, else use heuristic.\n",
    "    - sigma='auto' -> neighborhood radius starts at ~half the largest grid dim.\n",
    "    - num_iteration='auto' -> ~10 * n_train updates (tweak if big).\n",
    "    \"\"\"\n",
    "    X = np.asarray(X_train, dtype=float)\n",
    "    n_samples, n_features = X.shape\n",
    "\n",
    "    # decide grid shape\n",
    "    if m is None or n is None:\n",
    "        if total_units is not None:\n",
    "            m = int(round(np.sqrt(total_units)))\n",
    "            n = max(2, int(round(total_units / m)))\n",
    "        else:\n",
    "            m, n = som_size_heuristic(n_samples)\n",
    "\n",
    "    if sigma == 'auto':\n",
    "        sigma = max(m, n) / 2.0\n",
    "    if num_iteration == 'auto':\n",
    "        num_iteration = 10 * n_samples  # lower if dataset is large\n",
    "\n",
    "    som = MiniSom(x=m, y=n, input_len=n_features, sigma=sigma,\n",
    "                  learning_rate=learning_rate,\n",
    "                  neighborhood_function=neighborhood_function,\n",
    "                  random_seed=random_state)\n",
    "    som.random_weights_init(X)\n",
    "    som.train_random(X, num_iteration)\n",
    "    return som, (m, n)"
   ]
  },
  {
   "cell_type": "code",
   "execution_count": 94,
   "metadata": {},
   "outputs": [],
   "source": [
    "def som_transform(som, grid_shape, X, one_hot=True, topk=3):\n",
    "    \"\"\"\n",
    "    Turn any X into SOM features:\n",
    "      - bmu_id, bmu_row, bmu_col\n",
    "      - distances to the top-k closest units (d1..dk)\n",
    "      - optional one-hot for bmu_id (adds m*n columns)\n",
    "    \"\"\"\n",
    "    X = np.asarray(X, dtype=float)\n",
    "    m, n = grid_shape\n",
    "    num_units = m * n\n",
    "    W = som.get_weights()  # (m, n, input_len)\n",
    "    feats = []\n",
    "\n",
    "    for x in X:\n",
    "        r, c = som.winner(x)\n",
    "        bmu_id = r * n + c\n",
    "\n",
    "        diffs = W - x.reshape(1, 1, -1)\n",
    "        dists = np.linalg.norm(diffs, axis=2).reshape(-1)  # (m*n,)\n",
    "        order = np.argsort(dists)\n",
    "        d_list = [dists[order[i]] for i in range(min(topk, len(order)))]\n",
    "\n",
    "        row = [bmu_id, r, c] + d_list\n",
    "\n",
    "        if one_hot:\n",
    "            oh = np.zeros(num_units, dtype=float)\n",
    "            oh[bmu_id] = 1.0\n",
    "            row.extend(oh)\n",
    "\n",
    "        feats.append(row)\n",
    "\n",
    "    return np.asarray(feats, dtype=float)\n"
   ]
  },
  {
   "cell_type": "code",
   "execution_count": 95,
   "metadata": {},
   "outputs": [],
   "source": [
    "def hstack_features(X, som_feats):\n",
    "    \"\"\"Concatenate original features with SOM features.\"\"\"\n",
    "    X_arr = np.asarray(X, dtype=float)\n",
    "    return np.hstack([X_arr, som_feats])"
   ]
  },
  {
   "cell_type": "code",
   "execution_count": 96,
   "metadata": {},
   "outputs": [],
   "source": [
    "# Fit\n",
    "som, grid_shape = fit_som(\n",
    "    X_train,\n",
    "    m=None, n=None, total_units=None,     # or set total_units=100 for a 10x10-ish map\n",
    "    sigma='auto',\n",
    "    learning_rate=0.5,\n",
    "    neighborhood_function='gaussian',\n",
    "    num_iteration='auto',                 # ~10 * len(X_train). Lower if slow.\n",
    "    random_state=42\n",
    ")\n",
    "\n"
   ]
  },
  {
   "cell_type": "code",
   "execution_count": 97,
   "metadata": {},
   "outputs": [],
   "source": [
    "# Transform\n",
    "som_train = som_transform(som, grid_shape, X_train, one_hot=True, topk=3)\n",
    "som_val   = som_transform(som, grid_shape, X_val,   one_hot=True, topk=3)\n",
    "som_test  = som_transform(som, grid_shape, X_test,  one_hot=True, topk=3)"
   ]
  },
  {
   "cell_type": "code",
   "execution_count": 98,
   "metadata": {},
   "outputs": [
    {
     "data": {
      "text/plain": [
       "((595, 140), (199, 140), (199, 140))"
      ]
     },
     "execution_count": 98,
     "metadata": {},
     "output_type": "execute_result"
    }
   ],
   "source": [
    "# Stack original + SOM features\n",
    "X_train_aug = hstack_features(X_train, som_train)\n",
    "X_val_aug   = hstack_features(X_val,   som_val)\n",
    "X_test_aug  = hstack_features(X_test,  som_test)\n",
    "\n",
    "X_train_aug.shape, X_val_aug.shape, X_test_aug.shape"
   ]
  },
  {
   "cell_type": "code",
   "execution_count": 99,
   "metadata": {},
   "outputs": [
    {
     "name": "stdout",
     "output_type": "stream",
     "text": [
      "{'grid_shape': (11, 11), 'quantization_error': 2.713349673684394, 'topographic_error': 0.03361344537815126, 'min_hits': 0, 'max_hits': 27, 'empty_units': 5}\n"
     ]
    }
   ],
   "source": [
    "# --- Cell 5A: SOM diagnostic metrics ---\n",
    "m, n = grid_shape\n",
    "\n",
    "qe = som.quantization_error(np.asarray(X_train, dtype=float))\n",
    "try:\n",
    "    te = som.topographic_error(np.asarray(X_train, dtype=float))\n",
    "except AttributeError:\n",
    "    te = None  # older MiniSom versions might not have this\n",
    "\n",
    "hits = som.activation_response(np.asarray(X_train, dtype=float))  # shape (m, n)\n",
    "\n",
    "print({\n",
    "    \"grid_shape\": (m, n),\n",
    "    \"quantization_error\": float(qe),\n",
    "    \"topographic_error\": (float(te) if te is not None else \"n/a\"),\n",
    "    \"min_hits\": int(hits.min()),\n",
    "    \"max_hits\": int(hits.max()),\n",
    "    \"empty_units\": int((hits == 0).sum()),\n",
    "})\n"
   ]
  },
  {
   "cell_type": "code",
   "execution_count": 100,
   "metadata": {},
   "outputs": [
    {
     "data": {
      "image/png": "[encoded data removed]",
      "text/plain": [
       "<Figure size 600x500 with 2 Axes>"
      ]
     },
     "metadata": {},
     "output_type": "display_data"
    }
   ],
   "source": [
    "\n",
    "plt.figure(figsize=(6,5))\n",
    "plt.title(\"SOM Hit Map (train set)\")\n",
    "plt.imshow(hits, interpolation=\"nearest\")\n",
    "plt.colorbar(label=\"count\")\n",
    "plt.xlabel(\"column\"); plt.ylabel(\"row\")\n",
    "plt.show()"
   ]
  },
  {
   "cell_type": "code",
   "execution_count": 101,
   "metadata": {},
   "outputs": [
    {
     "data": {
      "image/png": "[encoded data removed]",
      "text/plain": [
       "<Figure size 600x500 with 2 Axes>"
      ]
     },
     "metadata": {},
     "output_type": "display_data"
    }
   ],
   "source": [
    "umatrix = som.distance_map()  # shape (m, n), average neighbor distances\n",
    "\n",
    "plt.figure(figsize=(6,5))\n",
    "plt.title(\"SOM U‑Matrix (average neighbor distances)\")\n",
    "plt.imshow(umatrix, interpolation=\"nearest\")\n",
    "plt.colorbar(label=\"avg neighbor distance\")\n",
    "plt.xlabel(\"column\"); plt.ylabel(\"row\")\n",
    "plt.show()"
   ]
  },
  {
   "cell_type": "code",
   "execution_count": 102,
   "metadata": {},
   "outputs": [
    {
     "data": {
      "text/plain": [
       "{'roc_auc_val': 0.9935109289617486,\n",
       " 'f1_val@0.5': 0.0,\n",
       " 'roc_auc_test': 0.9832650273224044,\n",
       " 'f1_test@0.5': 0.4,\n",
       " 'confusion_matrix_test': array([[183,   0],\n",
       "        [ 12,   4]]),\n",
       " 'precision_test': 1.0,\n",
       " 'recall_test': 0.25,\n",
       " 'classification_report_test': '              precision    recall  f1-score   support\\n\\n  No Default       0.94      1.00      0.97       183\\n     Default       1.00      0.25      0.40        16\\n\\n    accuracy                           0.94       199\\n   macro avg       0.97      0.62      0.68       199\\nweighted avg       0.94      0.94      0.92       199\\n'}"
      ]
     },
     "execution_count": 102,
     "metadata": {},
     "output_type": "execute_result"
    }
   ],
   "source": [
    "\n",
    "# 1) Initialize the model\n",
    "rf = RandomForestClassifier(\n",
    "    n_estimators=400,          # number of trees\n",
    "    max_depth=None,            # let trees grow until pure or min_samples_leaf reached\n",
    "    min_samples_split=2,\n",
    "    min_samples_leaf=1,\n",
    "    n_jobs=-1,                  # use all CPU cores\n",
    "    random_state=42\n",
    ")\n",
    "\n",
    "# 2) Fit on the augmented training set\n",
    "rf.fit(X_train_aug, y_train)\n",
    "\n",
    "# 3) Predict probabilities\n",
    "rf_val_proba = rf.predict_proba(X_val_aug)[:, 1]\n",
    "rf_test_proba = rf.predict_proba(X_test_aug)[:, 1]\n",
    "\n",
    "# 4) Evaluate performance\n",
    "rf_metrics = {\n",
    "    \"roc_auc_val\": roc_auc_score(y_val, rf_val_proba),\n",
    "    \"f1_val@0.5\": f1_score(y_test, (rf_val_proba >= 0.5).astype(int)),\n",
    "    \"roc_auc_test\": roc_auc_score(y_test, rf_test_proba),\n",
    "    \"f1_test@0.5\": f1_score(y_test, (rf_test_proba >= 0.5).astype(int)),\n",
    "    \"confusion_matrix_test\": confusion_matrix(y_test, (rf_test_proba >= 0.5).astype(int)),\n",
    "    \"precision_test\": precision_score(y_test, (rf_test_proba >= 0.5).astype(int)),\n",
    "    \"recall_test\": recall_score(y_test, (rf_test_proba >= 0.5).astype(int)),\n",
    "    \"classification_report_test\": classification_report(y_test, (rf_test_proba >= 0.5).astype(int), target_names=[\"No Default\", \"Default\"]),\n",
    "}\n",
    "rf_metrics\n"
   ]
  },
  {
   "cell_type": "code",
   "execution_count": 103,
   "metadata": {},
   "outputs": [
    {
     "name": "stdout",
     "output_type": "stream",
     "text": [
      "Best threshold: 0.29000000000000004\n"
     ]
    },
    {
     "data": {
      "text/plain": [
       "{'roc_auc_test_opt': 0.9832650273224044,\n",
       " 'f1_test_opt@best_t': 0.8666666666666667,\n",
       " 'confusion_matrix_test_opt': array([[182,   1],\n",
       "        [  3,  13]]),\n",
       " 'precision_test_opt': 0.9285714285714286,\n",
       " 'recall_test_opt': 0.8125,\n",
       " 'classification_report_test_opt': '              precision    recall  f1-score   support\\n\\n  No Default       0.98      0.99      0.99       183\\n     Default       0.93      0.81      0.87        16\\n\\n    accuracy                           0.98       199\\n   macro avg       0.96      0.90      0.93       199\\nweighted avg       0.98      0.98      0.98       199\\n'}"
      ]
     },
     "execution_count": 103,
     "metadata": {},
     "output_type": "execute_result"
    }
   ],
   "source": [
    "thresholds = np.linspace(0.01, 0.99, 99)\n",
    "scores = [f1_score(y_val, (rf_val_proba >= t).astype(int)) for t in thresholds]\n",
    "best_t = thresholds[np.argmax(scores)]\n",
    "print(\"Best threshold:\", best_t)\n",
    "\n",
    "rf_test_pred_opt = (rf_test_proba >= best_t).astype(int)\n",
    "rf_test_metrics_opt = {\n",
    "    \"roc_auc_test_opt\": roc_auc_score(y_test, rf_test_proba),\n",
    "    \"f1_test_opt@best_t\": f1_score(y_test, rf_test_pred_opt),\n",
    "    \"confusion_matrix_test_opt\": confusion_matrix(y_test, rf_test_pred_opt),\n",
    "    \"precision_test_opt\": precision_score(y_test, rf_test_pred_opt),\n",
    "    \"recall_test_opt\": recall_score(y_test, rf_test_pred_opt),\n",
    "    \"classification_report_test_opt\": classification_report(y_test, rf_test_pred_opt, target_names=[\"No Default\", \"Default\"]),\n",
    "}\n",
    "rf_test_metrics_opt"
   ]
  },
  {
   "cell_type": "code",
   "execution_count": 104,
   "metadata": {},
   "outputs": [],
   "source": [
    "fpr, tpr, thresholds = roc_curve(y_test, rf_test_pred_opt)\n",
    "results = {\n",
    "    \"threshold\": float(best_t),\n",
    "    \"confusion_matrix\": confusion_matrix(y_test, rf_test_pred_opt).tolist(),\n",
    "    \"accuracy\": accuracy_score(y_test, rf_test_pred_opt),\n",
    "    \"precision\": precision_score(y_test, rf_test_pred_opt),\n",
    "    \"recall\": recall_score(y_test, rf_test_pred_opt),\n",
    "    \"f1_score\": f1_score(y_test, rf_test_pred_opt),\n",
    "    \"roc_auc\": roc_auc_score(y_test, rf_test_pred_opt),\n",
    "    \"fpr\": fpr.tolist(),\n",
    "    \"tpr\": tpr.tolist(),\n",
    "    \"roc_thresholds\": thresholds.tolist(),    \n",
    "}\n",
    "with open(\"Results/SOM_RF_model_results.json\", \"w\") as f:\n",
    "    json.dump(results, f)"
   ]
  },
  {
   "cell_type": "code",
   "execution_count": 105,
   "metadata": {},
   "outputs": [
    {
     "data": {
      "image/png": "[encoded data removed]",
      "text/plain": [
       "<Figure size 600x500 with 1 Axes>"
      ]
     },
     "metadata": {},
     "output_type": "display_data"
    }
   ],
   "source": [
    "\n",
    "# Raw counts\n",
    "cm = confusion_matrix(y_val, rf_test_pred_opt, labels=[0, 1])\n",
    "disp = ConfusionMatrixDisplay(confusion_matrix=cm, display_labels=['No default', 'Default'])\n",
    "# Plot with custom settings\n",
    "fig, ax = plt.subplots(figsize=(6, 5))\n",
    "disp.plot(values_format='d', cmap='tab20_r', ax=ax, colorbar=0)\n",
    "\n",
    "# Make the numbers bigger\n",
    "for text in disp.text_.ravel():   # text_ stores the annotation objects\n",
    "    text.set_fontsize(15)\n",
    "    text.set_color('black')  # Set text color to black for better visibility\n",
    "n_classes = cm.shape[0]\n",
    "for i in range(1, n_classes):  \n",
    "    ax.axhline(i - 0.5, color='white', linewidth=3)  # horizontal line\n",
    "    ax.axvline(i - 0.5, color='white', linewidth=3)  # vertical line\n",
    "for spine in ax.spines.values():\n",
    "    spine.set_visible(False)\n",
    "\n",
    "plt.title('Hybrid SOM and Random Forest Confusion Matrix')\n",
    "plt.tight_layout()\n",
    "plt.savefig(\"Plots/Confusion Matricies/SOM+RF_cm.png\")\n",
    "plt.show()"
   ]
  },
  {
   "cell_type": "code",
   "execution_count": 106,
   "metadata": {},
   "outputs": [
    {
     "data": {
      "text/plain": [
       "{'best_iteration': None,\n",
       " 'roc_auc_val': 1.0,\n",
       " 'f1_val@0.5': 0.9333333333333333,\n",
       " 'roc_auc_test': 0.9996584699453552,\n",
       " 'f1_test@0.5': 0.8571428571428571,\n",
       " 'confusion_matrix_test': array([[183,   0],\n",
       "        [  4,  12]]),\n",
       " 'precision_test': 1.0,\n",
       " 'recall_test': 0.75}"
      ]
     },
     "execution_count": 106,
     "metadata": {},
     "output_type": "execute_result"
    }
   ],
   "source": [
    "\n",
    "# 1) Initialize XGBoost\n",
    "xgb = XGBClassifier(\n",
    "    n_estimators=1000,           # large enough, early stopping will cut it\n",
    "    learning_rate=0.05,          # small step size for smoother learning\n",
    "    max_depth=6,                 # tree depth\n",
    "    subsample=0.9,                # row sampling\n",
    "    colsample_bytree=0.9,         # feature sampling\n",
    "    reg_lambda=1.0,               # L2 regularization\n",
    "    objective=\"binary:logistic\",\n",
    "    n_jobs=-1,\n",
    "    tree_method=\"hist\",           # \"gpu_hist\" if you have GPU\n",
    "    random_state=42,\n",
    "    eval_metric=\"auc\"\n",
    ")\n",
    "\n",
    "# 2) Train with early stopping on validation set\n",
    "xgb.fit(\n",
    "    X_train_aug, y_train,\n",
    "    eval_set=[(X_val_aug, y_val)],\n",
    "    verbose=False\n",
    ")\n",
    "\n",
    "# 3) Predict probabilities\n",
    "xgb_val_proba = xgb.predict_proba(X_val_aug)[:, 1]\n",
    "xgb_test_proba = xgb.predict_proba(X_test_aug)[:, 1]\n",
    "\n",
    "# 4) Evaluate at 0.5 threshold\n",
    "xgb_test_pred = (xgb_test_proba >= 0.5).astype(int)\n",
    "\n",
    "xgb_metrics = {\n",
    "    \"best_iteration\": int(xgb.best_iteration) if hasattr(xgb, \"best_iteration\") else None,\n",
    "    \"roc_auc_val\": roc_auc_score(y_val, xgb_val_proba),\n",
    "    \"f1_val@0.5\": f1_score(y_val, (xgb_val_proba >= 0.5).astype(int)),\n",
    "    \"roc_auc_test\": roc_auc_score(y_test, xgb_test_proba),\n",
    "    \"f1_test@0.5\": f1_score(y_test, xgb_test_pred),\n",
    "    \"confusion_matrix_test\": confusion_matrix(y_test, xgb_test_pred),\n",
    "    \"precision_test\": precision_score(y_test, xgb_test_pred),\n",
    "    \"recall_test\": recall_score(y_test, xgb_test_pred)\n",
    "}\n",
    "\n",
    "xgb_metrics\n"
   ]
  },
  {
   "cell_type": "code",
   "execution_count": 107,
   "metadata": {},
   "outputs": [
    {
     "name": "stdout",
     "output_type": "stream",
     "text": [
      "{'xgb_best_threshold': 0.09999999999999999, 'xgb_val_f1': 1.0}\n"
     ]
    }
   ],
   "source": [
    "# --- Cell 7A: pick optimal threshold on validation (default: maximize F1) ---\n",
    "\n",
    "\n",
    "def choose_threshold(y_true, y_proba, metric=\"f1\", target_recall=None):\n",
    "    \"\"\"\n",
    "    If metric='f1' -> pick t that maximizes F1 on validation.\n",
    "    If metric='recall' with target_recall -> pick smallest t achieving that recall.\n",
    "    \"\"\"\n",
    "    thresholds = np.linspace(0.01, 0.99, 99)\n",
    "\n",
    "    if metric == \"f1\":\n",
    "        scores = [f1_score(y_true, (y_proba >= t).astype(int)) for t in thresholds]\n",
    "        i = int(np.argmax(scores))\n",
    "        return float(thresholds[i]), float(scores[i])\n",
    "\n",
    "    if metric == \"recall\" and target_recall is not None:\n",
    "        pairs = []\n",
    "        for t in thresholds:\n",
    "            pred = (y_proba >= t).astype(int)\n",
    "            r = recall_score(y_true, pred)\n",
    "            p = precision_score(y_true, pred, zero_division=0)\n",
    "            f = f1_score(y_true, pred)\n",
    "            pairs.append((t, r, p, f))\n",
    "        # choose the smallest threshold that meets/ exceeds target recall\n",
    "        viable = [p for p in pairs if p[1] >= target_recall]\n",
    "        if not viable:\n",
    "            # fallback to the max recall achieved\n",
    "            t, r, p, f = max(pairs, key=lambda x: x[1])\n",
    "            return float(t), float(f)\n",
    "        t, r, p, f = sorted(viable, key=lambda x: x[0])[0]\n",
    "        return float(t), float(f)\n",
    "\n",
    "    raise ValueError(\"Unsupported option\")\n",
    "\n",
    "# choose best threshold on validation for XGB\n",
    "xgb_best_t, xgb_val_f1 = choose_threshold(y_val, xgb_val_proba, metric=\"f1\")\n",
    "print({\"xgb_best_threshold\": xgb_best_t, \"xgb_val_f1\": xgb_val_f1})\n"
   ]
  },
  {
   "cell_type": "code",
   "execution_count": 108,
   "metadata": {},
   "outputs": [
    {
     "data": {
      "text/plain": [
       "{'threshold': 0.09999999999999999,\n",
       " 'roc_auc_test': 0.9996584699453552,\n",
       " 'precision_test': 0.9411764705882353,\n",
       " 'recall_test': 1.0,\n",
       " 'f1_test': 0.9696969696969697,\n",
       " 'confusion_matrix_test': array([[182,   1],\n",
       "        [  0,  16]])}"
      ]
     },
     "execution_count": 108,
     "metadata": {},
     "output_type": "execute_result"
    }
   ],
   "source": [
    "# --- Cell 7B: evaluate XGBoost on TEST at the chosen threshold ---\n",
    "\n",
    "xgb_test_pred_opt = (xgb_test_proba >= xgb_best_t).astype(int)\n",
    "\n",
    "xgb_opt_metrics = {\n",
    "    \"threshold\": xgb_best_t,\n",
    "    \"roc_auc_test\": roc_auc_score(y_test, xgb_test_proba),         # unaffected by threshold\n",
    "    \"precision_test\": precision_score(y_test, xgb_test_pred_opt, zero_division=0),\n",
    "    \"recall_test\": recall_score(y_test, xgb_test_pred_opt),\n",
    "    \"f1_test\": f1_score(y_test, xgb_test_pred_opt),\n",
    "    \"confusion_matrix_test\": confusion_matrix(y_test, xgb_test_pred_opt)\n",
    "}\n",
    "xgb_opt_metrics\n"
   ]
  },
  {
   "cell_type": "code",
   "execution_count": 109,
   "metadata": {},
   "outputs": [],
   "source": [
    "fpr, tpr, thresholds = roc_curve(y_val, xgb_test_proba)\n",
    "results = {\n",
    "    \"threshold\": xgb_best_t,\n",
    "    \"confusion_matrix\": confusion_matrix(y_test, xgb_test_pred_opt).tolist(),\n",
    "    \"accuracy\": accuracy_score(y_test, xgb_test_pred_opt),\n",
    "    \"precision\": precision_score(y_test, xgb_test_pred_opt),\n",
    "    \"recall\": recall_score(y_test, xgb_test_pred_opt),\n",
    "    \"f1_score\": f1_score(y_test, xgb_test_pred_opt),\n",
    "    \"roc_auc\": roc_auc_score(y_test, xgb_test_pred_opt),\n",
    "    \"fpr\": fpr.tolist(),\n",
    "    \"tpr\": tpr.tolist(),\n",
    "    \"roc_thresholds\": thresholds.tolist(),    \n",
    "}\n",
    "with open(\"Results/SOM_XGB_model_results.json\", \"w\") as f:\n",
    "    json.dump(results, f)"
   ]
  },
  {
   "cell_type": "code",
   "execution_count": 110,
   "metadata": {},
   "outputs": [
    {
     "data": {
      "image/png": "[encoded data removed]",
      "text/plain": [
       "<Figure size 600x500 with 1 Axes>"
      ]
     },
     "metadata": {},
     "output_type": "display_data"
    }
   ],
   "source": [
    "\n",
    "\n",
    "# Raw counts\n",
    "cm = confusion_matrix(y_test, xgb_test_pred_opt, labels=[0, 1])\n",
    "disp = ConfusionMatrixDisplay(confusion_matrix=cm, display_labels=['No default', 'Default'])\n",
    "\n",
    "# Plot with custom settings\n",
    "fig, ax = plt.subplots(figsize=(6, 5))\n",
    "disp.plot(values_format='d', cmap='tab20_r', ax=ax, colorbar=0)\n",
    "\n",
    "# Make the numbers bigger\n",
    "for text in disp.text_.ravel():   # text_ stores the annotation objects\n",
    "    text.set_fontsize(15)\n",
    "    text.set_color('black')  # Set text color to black for better visibility\n",
    "n_classes = cm.shape[0]\n",
    "for i in range(1, n_classes):  \n",
    "    ax.axhline(i - 0.5, color='white', linewidth=3)  # horizontal line\n",
    "    ax.axvline(i - 0.5, color='white', linewidth=3)  # vertical line\n",
    "for spine in ax.spines.values():\n",
    "    spine.set_visible(False)\n",
    "plt.title('Hybrid SOM and XGBoost Confusion Matrix')\n",
    "plt.savefig(\"Plots/Confusion Matricies/SOM+XGB_cm.png\")\n",
    "plt.tight_layout()\n",
    "plt.show()"
   ]
  },
  {
   "cell_type": "code",
   "execution_count": null,
   "metadata": {},
   "outputs": [],
   "source": []
  }
 ],
 "metadata": {
  "kernelspec": {
   "display_name": "Python 3",
   "language": "python",
   "name": "python3"
  },
  "language_info": {
   "codemirror_mode": {
    "name": "ipython",
    "version": 3
   },
   "file_extension": ".py",
   "mimetype": "text/x-python",
   "name": "python",
   "nbconvert_exporter": "python",
   "pygments_lexer": "ipython3",
   "version": "3.13.7"
  }
 },
 "nbformat": 4,
 "nbformat_minor": 2
}
