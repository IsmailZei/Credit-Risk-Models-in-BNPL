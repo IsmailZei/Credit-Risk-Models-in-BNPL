{
 "cells": [
  {
   "cell_type": "code",
   "execution_count": 16,
   "metadata": {},
   "outputs": [],
   "source": [
    "from sklearn.preprocessing import StandardScaler\n",
    "import pandas as pd\n",
    "import numpy as np"
   ]
  },
  {
   "cell_type": "code",
   "execution_count": 17,
   "metadata": {},
   "outputs": [],
   "source": [
    "data= pd.read_csv('bnpl_scaled_cleaned.csv')"
   ]
  },
  {
   "cell_type": "code",
   "execution_count": 18,
   "metadata": {},
   "outputs": [],
   "source": [
    "def binary_col(data):\n",
    "    #return the binary columns\n",
    "    binary_cols=[col for col in data.columns if data[col].nunique() == 2]\n",
    "    return binary_cols"
   ]
  },
  {
   "cell_type": "code",
   "execution_count": 19,
   "metadata": {},
   "outputs": [],
   "source": [
    "def continuous_col(data):\n",
    "    #return the continuous columns\n",
    "    continuous_cols=[col for col in data.columns if data[col].nunique() > 2]\n",
    "    return continuous_cols\n",
    "    "
   ]
  },
  {
   "cell_type": "code",
   "execution_count": 20,
   "metadata": {},
   "outputs": [],
   "source": [
    "def Scaler(data):\n",
    "    binary_cols = binary_col(data)\n",
    "    continuous_cols = continuous_col(data)\n",
    "    scaler = StandardScaler()\n",
    "   # Scale the continuous columns\n",
    "    scaled_continuous = scaler.fit_transform(data[continuous_cols])\n",
    "    scaled_continuous_df = pd.DataFrame(scaled_continuous, columns=continuous_cols)\n",
    "    # Combine the scaled continuous columns with the binary columns\n",
    "    result = pd.concat([data[binary_cols].reset_index(drop=True), scaled_continuous_df.reset_index(drop=True)], axis=1)\n",
    "    return result"
   ]
  },
  {
   "cell_type": "code",
   "execution_count": 21,
   "metadata": {},
   "outputs": [],
   "source": [
    "data_scaled = Scaler(data)"
   ]
  },
  {
   "cell_type": "code",
   "execution_count": 24,
   "metadata": {},
   "outputs": [],
   "source": [
    "data_scaled_cleaned = pd.read_csv('bnpl_scaled_cleaned.csv')"
   ]
  },
  {
   "cell_type": "code",
   "execution_count": null,
   "metadata": {},
   "outputs": [],
   "source": [
    "# concat the following stress_usage_interaction = financial_stress_score × bnpl_usage_frequency\n",
    "data_scaled_cleaned['stress_usage_interaction'] = (\n",
    "    data_scaled_cleaned['financial_stress_score'] * data_scaled_cleaned['bnpl_usage_frequency']\n",
    ")\n",
    "# debt_per_delinquency = bnpl_debt_ratio / (payment_delinquency_count + 1)  \n",
    "data_scaled_cleaned['debt_per_delinquency'] = (\n",
    "    data_scaled_cleaned['bnpl_debt_ratio'] / (data_scaled_cleaned['payment_delinquency_count'] + 1)\n",
    ")\n",
    "#avg_debt_per_txn = bnpl_debt_ratio / (bnpl_usage_frequency + 1)\n",
    "data_scaled_cleaned['avg_debt_per_txn'] = (\n",
    "    data_scaled_cleaned['bnpl_debt_ratio'] / (data_scaled_cleaned['bnpl_usage_frequency'] + 1)\n",
    ")\n",
    "\n",
    "#adjusted_debt_interaction = bnpl_debt_ratio * financial_stress_score\n",
    "data_scaled_cleaned['adjusted_debt_interaction'] = (\n",
    "    data_scaled_cleaned['bnpl_debt_ratio'] + data_scaled_cleaned['financial_stress_score']\n",
    ")\n",
    "data_scaled_cleaned"
   ]
  },
  {
   "cell_type": "code",
   "execution_count": null,
   "metadata": {},
   "outputs": [],
   "source": [
    "#scale the new features\n",
    "new_features = ['stress_usage_interaction', 'debt_per_delinquency', 'avg_debt_per_txn', 'adjusted_debt_interaction']\n",
    "data_scaled_cleaned[new_features] = Scaler(data_scaled_cleaned[new_features])\n",
    "data_scaled_cleaned"
   ]
  }
 ],
 "metadata": {
  "kernelspec": {
   "display_name": "Python 3",
   "language": "python",
   "name": "python3"
  },
  "language_info": {
   "codemirror_mode": {
    "name": "ipython",
    "version": 3
   },
   "file_extension": ".py",
   "mimetype": "text/x-python",
   "name": "python",
   "nbconvert_exporter": "python",
   "pygments_lexer": "ipython3",
   "version": "3.11.9"
  }
 },
 "nbformat": 4,
 "nbformat_minor": 2
}
