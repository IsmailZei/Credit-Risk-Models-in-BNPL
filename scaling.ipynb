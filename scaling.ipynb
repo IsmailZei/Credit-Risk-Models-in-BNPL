{
 "cells": [
  {
   "cell_type": "code",
   "execution_count": null,
   "metadata": {},
   "outputs": [],
   "source": [
    "from sklearn.preprocessing import StandardScaler\n",
    "import pandas as pd"
   ]
  },
  {
   "cell_type": "code",
   "execution_count": 30,
   "metadata": {},
   "outputs": [
    {
     "name": "stdout",
     "output_type": "stream",
     "text": [
      "Standard deviation of each feature: failed_traditional_credit          0.452831\n",
      "bnpl_usage_frequency               4.391600\n",
      "over_indebtedness_flag             0.480865\n",
      "financial_stress_score             2.816011\n",
      "external_repayment_loans           0.490302\n",
      "credit_card_interest_incidence     0.475041\n",
      "credit_limit_utilisation          26.250703\n",
      "payment_delinquency_count          1.687891\n",
      "impulsive_buying_score             2.903592\n",
      "financial_literacy_assessment      2.973109\n",
      "debt_accumulation_metric           1.452383\n",
      "return_dispute_incidents           1.141574\n",
      "demographic_risk_factor            1.433145\n",
      "bnpl_debt_ratio                    0.570702\n",
      "default_flag                       0.278882\n",
      "dtype: float64\n"
     ]
    }
   ],
   "source": [
    "#get the data from the csv file\n",
    "df=pd.read_csv('bnpl_cleaned.csv')\n",
    "print(\"Standard deviation of each feature:\", np.std(df, axis=0))"
   ]
  },
  {
   "cell_type": "code",
   "execution_count": 27,
   "metadata": {},
   "outputs": [
    {
     "name": "stdout",
     "output_type": "stream",
     "text": [
      "Numeric columns: ['failed_traditional_credit', 'bnpl_usage_frequency', 'over_indebtedness_flag', 'financial_stress_score', 'external_repayment_loans', 'credit_card_interest_incidence', 'credit_limit_utilisation', 'payment_delinquency_count', 'impulsive_buying_score', 'financial_literacy_assessment', 'debt_accumulation_metric', 'return_dispute_incidents', 'demographic_risk_factor', 'bnpl_debt_ratio', 'default_flag']\n",
      "Binary columns: ['failed_traditional_credit', 'over_indebtedness_flag', 'external_repayment_loans', 'credit_card_interest_incidence', 'default_flag']\n",
      "Continuous columns (excluding binary): ['bnpl_usage_frequency', 'financial_stress_score', 'credit_limit_utilisation', 'payment_delinquency_count', 'impulsive_buying_score', 'financial_literacy_assessment', 'debt_accumulation_metric', 'return_dispute_incidents', 'demographic_risk_factor', 'bnpl_debt_ratio']\n"
     ]
    }
   ],
   "source": [
    "#Identify numeric columns\n",
    "numeric_columns = df.select_dtypes(include=['float64', 'int64']).columns.tolist()\n",
    "\n",
    "# Separate binary and continuous columns\n",
    "binary_columns = [col for col in numeric_columns if df[col].nunique() == 2]\n",
    "continuous_columns = [col for col in numeric_columns if df[col].nunique() > 2]\n",
    "\n",
    "# Step 4: Print the results\n",
    "print(\"Numeric columns:\", numeric_columns)\n",
    "print(\"Binary columns:\", binary_columns)\n",
    "print(\"Continuous columns (excluding binary):\", continuous_columns)"
   ]
  },
  {
   "cell_type": "code",
   "execution_count": 32,
   "metadata": {},
   "outputs": [
    {
     "name": "stdout",
     "output_type": "stream",
     "text": [
      "   bnpl_usage_frequency  financial_stress_score  credit_limit_utilisation  \\\n",
      "0              1.546817                0.884585                 -0.299154   \n",
      "1              0.863694                1.594809                 -1.632452   \n",
      "2              1.319109               -0.535864                 -0.642002   \n",
      "3             -0.047135               -1.246089                 -0.642002   \n",
      "4             -1.185673               -1.246089                 -0.946756   \n",
      "\n",
      "   payment_delinquency_count  impulsive_buying_score  \\\n",
      "0                  -0.315186                1.193694   \n",
      "1                   1.462180                0.160491   \n",
      "2                   1.462180               -0.872712   \n",
      "3                   0.869724                0.160491   \n",
      "4                  -0.315186                1.538095   \n",
      "\n",
      "   financial_literacy_assessment  debt_accumulation_metric  \\\n",
      "0                       0.817999                 -0.656225   \n",
      "1                      -1.536439                 -0.249996   \n",
      "2                       0.145302                  1.106396   \n",
      "3                      -1.200091                  1.436887   \n",
      "4                      -1.200091                  0.397216   \n",
      "\n",
      "   return_dispute_incidents  demographic_risk_factor  bnpl_debt_ratio  \n",
      "0                  0.391565                -0.044657        -1.725138  \n",
      "1                  1.267548                -0.742423        -1.234515  \n",
      "2                  1.267548                 0.653109        -0.305834  \n",
      "3                  1.267548                 1.350875        -1.532393  \n",
      "4                 -0.484419                -1.440189         0.009567  \n",
      "Mean of each feature: failed_traditional_credit         2.880000e-01\n",
      "bnpl_usage_frequency              3.730349e-17\n",
      "over_indebtedness_flag            3.630000e-01\n",
      "financial_stress_score           -2.131628e-17\n",
      "external_repayment_loans          4.020000e-01\n",
      "credit_card_interest_incidence    3.440000e-01\n",
      "credit_limit_utilisation         -3.552714e-17\n",
      "payment_delinquency_count        -1.065814e-17\n",
      "impulsive_buying_score            4.618528e-17\n",
      "financial_literacy_assessment     4.973799e-17\n",
      "debt_accumulation_metric          3.552714e-18\n",
      "return_dispute_incidents          4.263256e-17\n",
      "demographic_risk_factor          -2.398082e-17\n",
      "bnpl_debt_ratio                   3.552714e-18\n",
      "default_flag                      8.500000e-02\n",
      "dtype: float64\n",
      "Standard deviation of each feature: failed_traditional_credit         0.452831\n",
      "bnpl_usage_frequency              1.000000\n",
      "over_indebtedness_flag            0.480865\n",
      "financial_stress_score            1.000000\n",
      "external_repayment_loans          0.490302\n",
      "credit_card_interest_incidence    0.475041\n",
      "credit_limit_utilisation          1.000000\n",
      "payment_delinquency_count         1.000000\n",
      "impulsive_buying_score            1.000000\n",
      "financial_literacy_assessment     1.000000\n",
      "debt_accumulation_metric          1.000000\n",
      "return_dispute_incidents          1.000000\n",
      "demographic_risk_factor           1.000000\n",
      "bnpl_debt_ratio                   1.000000\n",
      "default_flag                      0.278882\n",
      "dtype: float64\n"
     ]
    }
   ],
   "source": [
    "# Step 1: Initialize the scaler\n",
    "scaler = StandardScaler()\n",
    "\n",
    "# Step 2: Standardize the continuous columns\n",
    "df[continuous_columns] = scaler.fit_transform(df[continuous_columns])\n",
    "\n",
    "# Step 3: Verify the standardization\n",
    "print(df[continuous_columns].head())\n",
    "#print the mean\n",
    "\n",
    "import numpy as np\n",
    "\n",
    "#print the mean\n",
    "print(\"Mean of each feature:\", np.mean(df, axis=0))\n",
    "print(\"Standard deviation of each feature:\", np.std(df, axis=0))\n"
   ]
  },
  {
   "cell_type": "code",
   "execution_count": 34,
   "metadata": {},
   "outputs": [],
   "source": [
    "#save the standardized dataframe to a new csv file\n",
    "df.to_csv('bnpl_standardized.csv', index=False)"
   ]
  }
 ],
 "metadata": {
  "kernelspec": {
   "display_name": "Python 3",
   "language": "python",
   "name": "python3"
  },
  "language_info": {
   "codemirror_mode": {
    "name": "ipython",
    "version": 3
   },
   "file_extension": ".py",
   "mimetype": "text/x-python",
   "name": "python",
   "nbconvert_exporter": "python",
   "pygments_lexer": "ipython3",
   "version": "3.11.9"
  }
 },
 "nbformat": 4,
 "nbformat_minor": 2
}
