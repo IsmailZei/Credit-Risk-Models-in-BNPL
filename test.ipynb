{
 "cells": [
  {
   "cell_type": "code",
   "execution_count": 8,
   "metadata": {},
   "outputs": [
    {
     "name": "stdout",
     "output_type": "stream",
     "text": [
      "Hello, World!\n"
     ]
    }
   ],
   "source": [
    "#print hello world\n",
    "print(\"Hello, World!\")"
   ]
  },
  {
   "cell_type": "code",
   "execution_count": 9,
   "metadata": {},
   "outputs": [],
   "source": [
    "import  pandas as pd\n",
    "#open file bnpl\n",
    "df = pd.read_csv('bnpl.csv')"
   ]
  },
  {
   "cell_type": "code",
   "execution_count": 10,
   "metadata": {},
   "outputs": [],
   "source": [
    "# Function to find outliers using IQR method\n",
    "def find_iqr_outliers(series):\n",
    "    q1 = series.quantile(0.25)\n",
    "    q3 = series.quantile(0.75)\n",
    "    iqr = q3 - q1\n",
    "    lower, upper = q1 - 1.5*iqr, q3 + 1.5*iqr\n",
    "    return series[(series < lower) | (series > upper)]"
   ]
  },
  {
   "cell_type": "code",
   "execution_count": 11,
   "metadata": {},
   "outputs": [
    {
     "name": "stdout",
     "output_type": "stream",
     "text": [
      "<class 'pandas.core.frame.DataFrame'>\n",
      "RangeIndex: 1000 entries, 0 to 999\n",
      "Data columns (total 15 columns):\n",
      " #   Column                          Non-Null Count  Dtype  \n",
      "---  ------                          --------------  -----  \n",
      " 0   CustomerID                      1000 non-null   object \n",
      " 1   failed_traditional_credit       1000 non-null   int64  \n",
      " 2   bnpl_usage_frequency            1000 non-null   int64  \n",
      " 3   over_indebtedness_flag          1000 non-null   int64  \n",
      " 4   financial_stress_score          1000 non-null   int64  \n",
      " 5   external_repayment_loans        1000 non-null   int64  \n",
      " 6   credit_card_interest_incidence  1000 non-null   int64  \n",
      " 7   credit_limit_utilisation        1000 non-null   int64  \n",
      " 8   payment_delinquency_count       1000 non-null   int64  \n",
      " 9   impulsive_buying_score          1000 non-null   int64  \n",
      " 10  financial_literacy_assessment   1000 non-null   int64  \n",
      " 11  debt_accumulation_metric        1000 non-null   float64\n",
      " 12  return_dispute_incidents        1000 non-null   int64  \n",
      " 13  demographic_risk_factor         1000 non-null   int64  \n",
      " 14  bnpl_debt_ratio                 1000 non-null   float64\n",
      "dtypes: float64(2), int64(12), object(1)\n",
      "memory usage: 117.3+ KB\n",
      "Outliers in failed_traditional_credit:\n",
      " Series([], Name: failed_traditional_credit, dtype: int64)\n",
      "Outliers in bnpl_usage_frequency:\n",
      " Series([], Name: bnpl_usage_frequency, dtype: int64)\n",
      "Outliers in over_indebtedness_flag:\n",
      " Series([], Name: over_indebtedness_flag, dtype: int64)\n",
      "Outliers in financial_stress_score:\n",
      " Series([], Name: financial_stress_score, dtype: int64)\n",
      "Outliers in external_repayment_loans:\n",
      " Series([], Name: external_repayment_loans, dtype: int64)\n",
      "Outliers in credit_card_interest_incidence:\n",
      " Series([], Name: credit_card_interest_incidence, dtype: int64)\n",
      "Outliers in credit_limit_utilisation:\n",
      " Series([], Name: credit_limit_utilisation, dtype: int64)\n",
      "Outliers in payment_delinquency_count:\n",
      " Series([], Name: payment_delinquency_count, dtype: int64)\n",
      "Outliers in impulsive_buying_score:\n",
      " Series([], Name: impulsive_buying_score, dtype: int64)\n",
      "Outliers in financial_literacy_assessment:\n",
      " Series([], Name: financial_literacy_assessment, dtype: int64)\n",
      "Outliers in debt_accumulation_metric:\n",
      " Series([], Name: debt_accumulation_metric, dtype: float64)\n",
      "Outliers in return_dispute_incidents:\n",
      " Series([], Name: return_dispute_incidents, dtype: int64)\n",
      "Outliers in demographic_risk_factor:\n",
      " Series([], Name: demographic_risk_factor, dtype: int64)\n",
      "Outliers in bnpl_debt_ratio:\n",
      " Series([], Name: bnpl_debt_ratio, dtype: float64)\n"
     ]
    }
   ],
   "source": [
    "df.info()\n",
    "#check for outliers in each column\n",
    "for column in df.select_dtypes(include=['float64', 'int64']).columns:\n",
    "    outliers = find_iqr_outliers(df[column])\n",
    "    print(f\"Outliers in {column}:\\n\", outliers)\n"
   ]
  },
  {
   "cell_type": "code",
   "execution_count": 12,
   "metadata": {},
   "outputs": [],
   "source": [
    "# Create a default flag based on the conditions\n",
    "default_flag = (\n",
    "    (df['payment_delinquency_count'] >= 3).astype(int) +\n",
    "    (df['over_indebtedness_flag'] == 1).astype(int) +\n",
    "    (df['financial_stress_score'] >= 9).astype(int) +\n",
    "    (df['bnpl_debt_ratio'] >= 1.8).astype(int) +\n",
    "    (df['credit_limit_utilisation'] >= 95).astype(int)\n",
    ") >= 3  # Must meet at least 3 of the 5 conditions\n",
    "#save the df as a csv file\n",
    "df['default_flag'] = default_flag.astype(int)\n",
    "df.to_csv('bnpl_with_default_flag.csv', index=False)\n",
    "#drop customer_id column\n",
    "df = df.drop(columns=['CustomerID'])\n",
    "#save the df as a csv file\n",
    "df.to_csv('bnpl_cleaned.csv', index=False)"
   ]
  },
  {
   "cell_type": "code",
   "execution_count": 13,
   "metadata": {},
   "outputs": [],
   "source": [
    "\n"
   ]
  },
  {
   "cell_type": "code",
   "execution_count": 15,
   "metadata": {},
   "outputs": [
    {
     "name": "stdout",
     "output_type": "stream",
     "text": [
      "Numeric columns: ['failed_traditional_credit', 'bnpl_usage_frequency', 'over_indebtedness_flag', 'financial_stress_score', 'external_repayment_loans', 'credit_card_interest_incidence', 'credit_limit_utilisation', 'payment_delinquency_count', 'impulsive_buying_score', 'financial_literacy_assessment', 'debt_accumulation_metric', 'return_dispute_incidents', 'demographic_risk_factor', 'bnpl_debt_ratio', 'default_flag']\n",
      "Binary columns: ['failed_traditional_credit', 'over_indebtedness_flag', 'external_repayment_loans', 'credit_card_interest_incidence', 'default_flag']\n",
      "Continuous columns (excluding binary): ['bnpl_usage_frequency', 'financial_stress_score', 'credit_limit_utilisation', 'payment_delinquency_count', 'impulsive_buying_score', 'financial_literacy_assessment', 'debt_accumulation_metric', 'return_dispute_incidents', 'demographic_risk_factor', 'bnpl_debt_ratio']\n"
     ]
    }
   ],
   "source": [
    "# Step 2: Identify numeric columns\n",
    "numeric_columns = df.select_dtypes(include=['float64', 'int64']).columns.tolist()\n",
    "\n",
    "# Step 3: Separate binary and continuous columns\n",
    "binary_columns = [col for col in numeric_columns if df[col].nunique() == 2]\n",
    "continuous_columns = [col for col in numeric_columns if df[col].nunique() > 2]\n",
    "\n",
    "# Step 4: Print the results\n",
    "print(\"Numeric columns:\", numeric_columns)\n",
    "print(\"Binary columns:\", binary_columns)\n",
    "print(\"Continuous columns (excluding binary):\", continuous_columns)"
   ]
  }
 ],
 "metadata": {
  "kernelspec": {
   "display_name": "Python 3",
   "language": "python",
   "name": "python3"
  },
  "language_info": {
   "codemirror_mode": {
    "name": "ipython",
    "version": 3
   },
   "file_extension": ".py",
   "mimetype": "text/x-python",
   "name": "python",
   "nbconvert_exporter": "python",
   "pygments_lexer": "ipython3",
   "version": "3.11.9"
  }
 },
 "nbformat": 4,
 "nbformat_minor": 2
}
