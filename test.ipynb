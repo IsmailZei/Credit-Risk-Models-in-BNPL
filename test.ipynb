{
 "cells": [
  {
   "cell_type": "code",
   "execution_count": null,
   "metadata": {},
   "outputs": [],
   "source": [
    "#print hello world\n",
    "print(\"Hello, World!\")"
   ]
  },
  {
   "cell_type": "code",
   "execution_count": 3,
   "metadata": {},
   "outputs": [],
   "source": [
    "import  pandas as pd\n",
    "#open file bnpl\n",
    "df = pd.read_csv('bnpl.csv')"
   ]
  },
  {
   "cell_type": "code",
   "execution_count": 4,
   "metadata": {},
   "outputs": [],
   "source": [
    "# Function to find outliers using IQR method\n",
    "def find_iqr_outliers(series):\n",
    "    q1 = series.quantile(0.25)\n",
    "    q3 = series.quantile(0.75)\n",
    "    iqr = q3 - q1\n",
    "    lower, upper = q1 - 1.5*iqr, q3 + 1.5*iqr\n",
    "    return series[(series < lower) | (series > upper)]"
   ]
  },
  {
   "cell_type": "code",
   "execution_count": null,
   "metadata": {},
   "outputs": [],
   "source": [
    "df.info()\n",
    "#check for outliers in each column\n",
    "for column in df.select_dtypes(include=['float64', 'int64']).columns:\n",
    "    outliers = find_iqr_outliers(df[column])\n",
    "    print(f\"Outliers in {column}:\\n\", outliers)\n"
   ]
  },
  {
   "cell_type": "code",
   "execution_count": null,
   "metadata": {},
   "outputs": [],
   "source": [
    "# Create a default flag based on the conditions\n",
    "default_flag = (\n",
    "    (df['payment_delinquency_count'] >= 3).astype(int) +\n",
    "    (df['over_indebtedness_flag'] == 1).astype(int) +\n",
    "    (df['financial_stress_score'] >= 9).astype(int) +\n",
    "    (df['bnpl_debt_ratio'] >= 1.8).astype(int) +\n",
    "    (df['credit_limit_utilisation'] >= 95).astype(int)\n",
    ") >= 3  # Must meet at least 3 of the 5 conditions\n",
    "#save the df as a csv file\n",
    "df['default_flag'] = default_flag.astype(int)\n",
    "df.to_csv('bnpl_with_default_flag.csv', index=False)\n",
    "#drop customer_id column\n",
    "df = df.drop(columns=['CustomerID'])"
   ]
  },
  {
   "cell_type": "code",
   "execution_count": 12,
   "metadata": {},
   "outputs": [
    {
     "name": "stdout",
     "output_type": "stream",
     "text": [
      "testing Github\n"
     ]
    }
   ],
   "source": [
    "print('testing Github')"
   ]
  }
 ],
 "metadata": {
  "kernelspec": {
   "display_name": "Python 3",
   "language": "python",
   "name": "python3"
  },
  "language_info": {
   "codemirror_mode": {
    "name": "ipython",
    "version": 3
   },
   "file_extension": ".py",
   "mimetype": "text/x-python",
   "name": "python",
   "nbconvert_exporter": "python",
   "pygments_lexer": "ipython3",
   "version": "3.11.9"
  }
 },
 "nbformat": 4,
 "nbformat_minor": 2
}
