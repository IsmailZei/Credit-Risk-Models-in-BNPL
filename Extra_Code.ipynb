{
 "cells": [
  {
   "cell_type": "code",
   "execution_count": 1,
   "id": "bab59c03",
   "metadata": {},
   "outputs": [],
   "source": [
    "import pandas as pd\n",
    "import numpy as np"
   ]
  },
  {
   "cell_type": "code",
   "execution_count": 2,
   "id": "d3337e39",
   "metadata": {},
   "outputs": [],
   "source": [
    "df=pd.read_csv('BNPL.csv')"
   ]
  },
  {
   "cell_type": "code",
   "execution_count": 3,
   "id": "c21fba14",
   "metadata": {},
   "outputs": [
    {
     "name": "stdout",
     "output_type": "stream",
     "text": [
      "Index(['CustomerID', 'failed_traditional_credit', 'bnpl_usage_frequency',\n",
      "       'over_indebtedness_flag', 'financial_stress_score',\n",
      "       'external_repayment_loans', 'credit_card_interest_incidence',\n",
      "       'credit_limit_utilisation', 'payment_delinquency_count',\n",
      "       'impulsive_buying_score', 'financial_literacy_assessment',\n",
      "       'debt_accumulation_metric', 'return_dispute_incidents',\n",
      "       'demographic_risk_factor', 'bnpl_debt_ratio'],\n",
      "      dtype='object')\n"
     ]
    }
   ],
   "source": [
    "#print the columns\n",
    "print(df.columns)"
   ]
  }
 ],
 "metadata": {
  "kernelspec": {
   "display_name": "Python 3",
   "language": "python",
   "name": "python3"
  },
  "language_info": {
   "codemirror_mode": {
    "name": "ipython",
    "version": 3
   },
   "file_extension": ".py",
   "mimetype": "text/x-python",
   "name": "python",
   "nbconvert_exporter": "python",
   "pygments_lexer": "ipython3",
   "version": "3.11.9"
  }
 },
 "nbformat": 4,
 "nbformat_minor": 5
}
