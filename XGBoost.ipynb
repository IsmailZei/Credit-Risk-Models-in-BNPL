{
 "cells": [
  {
   "cell_type": "code",
   "execution_count": 2,
   "metadata": {},
   "outputs": [],
   "source": [
    "import matplotlib.pyplot as plt\n",
    "import pandas as pd\n",
    "import numpy as np\n",
    "import json\n",
    "from xgboost import XGBClassifier\n",
    "from sklearn.compose import ColumnTransformer\n",
    "from sklearn.preprocessing import StandardScaler, OneHotEncoder\n",
    "from sklearn.linear_model import LogisticRegression\n",
    "from sklearn.ensemble import RandomForestClassifier\n",
    "from joblib import parallel_backend\n",
    "from sklearn.model_selection import RandomizedSearchCV\n",
    "from sklearn.metrics import (\n",
    "    accuracy_score,\n",
    "    precision_score,\n",
    "    recall_score,\n",
    "    f1_score,\n",
    "    roc_auc_score,\n",
    "    confusion_matrix,\n",
    "    classification_report,\n",
    "    roc_curve,\n",
    "    precision_recall_curve,\n",
    "    ConfusionMatrixDisplay\n",
    ")"
   ]
  },
  {
   "cell_type": "code",
   "execution_count": 3,
   "metadata": {},
   "outputs": [],
   "source": [
    "train_df = pd.read_csv(\"Tables/bnpl_train.csv\")\n",
    "test_df = pd.read_csv(\"Tables/bnpl_test.csv\")\n",
    "val_df = pd.read_csv(\"Tables/bnpl_val.csv\")\n",
    "target_col = \"default_flag\"\n",
    "SEED = 42"
   ]
  },
  {
   "cell_type": "code",
   "execution_count": 4,
   "metadata": {},
   "outputs": [
    {
     "name": "stdout",
     "output_type": "stream",
     "text": [
      "(595, 14) (199, 14) (199, 14)\n",
      "   external_repayment_loans  credit_card_interest_incidence  default_flag  \\\n",
      "0                         1                               0             0   \n",
      "1                         0                               0             0   \n",
      "2                         0                               0             0   \n",
      "3                         0                               1             0   \n",
      "4                         1                               1             0   \n",
      "\n",
      "   bnpl_usage_frequency  financial_stress_score  credit_limit_utilisation  \\\n",
      "0             -0.730258               -1.246089                 -1.746734   \n",
      "1              1.319109                0.529472                 -0.222965   \n",
      "2              0.408279                1.239697                  0.805578   \n",
      "3             -1.641088                1.594809                 -0.184871   \n",
      "4              0.408279                0.529472                 -1.556263   \n",
      "\n",
      "   payment_delinquency_count  impulsive_buying_score  \\\n",
      "0                  -1.500097               -0.528311   \n",
      "1                  -1.500097               -0.528311   \n",
      "2                   1.462180                0.160491   \n",
      "3                  -0.907642               -0.872712   \n",
      "4                  -0.907642               -0.872712   \n",
      "\n",
      "   financial_literacy_assessment  debt_accumulation_metric  \\\n",
      "0                       1.490696                  0.734593   \n",
      "1                       1.154347                 -0.311963   \n",
      "2                      -0.527394                 -1.757863   \n",
      "3                       0.481651                 -1.117536   \n",
      "4                      -0.527394                 -0.601143   \n",
      "\n",
      "   return_dispute_incidents  demographic_risk_factor  bnpl_debt_ratio  \\\n",
      "0                 -0.484419                -0.044657         1.691706   \n",
      "1                 -0.484419                 0.653109         1.604095   \n",
      "2                  1.267548                 1.350875        -0.726369   \n",
      "3                  1.267548                -1.440189        -1.357171   \n",
      "4                  0.391565                 0.653109        -1.760183   \n",
      "\n",
      "   stress_usage_interaction  \n",
      "0                  0.909966  \n",
      "1                  0.698432  \n",
      "2                  0.506143  \n",
      "3                 -2.617221  \n",
      "4                  0.216173      external_repayment_loans  credit_card_interest_incidence  default_flag  \\\n",
      "0                         0                               0             0   \n",
      "1                         0                               1             0   \n",
      "2                         1                               0             0   \n",
      "3                         0                               0             0   \n",
      "4                         0                               0             0   \n",
      "\n",
      "   bnpl_usage_frequency  financial_stress_score  credit_limit_utilisation  \\\n",
      "0              0.180572               -0.890977                  0.005600   \n",
      "1             -1.413380                1.594809                  1.643651   \n",
      "2              1.546817                0.174360                 -1.670546   \n",
      "3             -1.413380               -0.180752                 -1.327698   \n",
      "4             -0.047135                0.529472                  1.567463   \n",
      "\n",
      "   payment_delinquency_count  impulsive_buying_score  \\\n",
      "0                   1.462180                0.504892   \n",
      "1                  -0.315186               -0.528311   \n",
      "2                  -1.500097                0.504892   \n",
      "3                  -0.907642               -1.217113   \n",
      "4                   1.462180                0.504892   \n",
      "\n",
      "   financial_literacy_assessment  debt_accumulation_metric  \\\n",
      "0                      -0.527394                 -0.126062   \n",
      "1                       0.145302                  0.796560   \n",
      "2                       1.154347                  1.244101   \n",
      "3                      -0.191046                  0.369675   \n",
      "4                      -0.527394                 -0.112291   \n",
      "\n",
      "   return_dispute_incidents  demographic_risk_factor  bnpl_debt_ratio  \\\n",
      "0                  1.267548                 1.350875         1.516483   \n",
      "1                  1.267548                -0.742423        -1.584960   \n",
      "2                  1.267548                -0.044657         0.833114   \n",
      "3                 -0.484419                 0.653109        -0.638757   \n",
      "4                 -1.360402                -0.044657        -1.094336   \n",
      "\n",
      "   stress_usage_interaction  \n",
      "0                 -0.160885  \n",
      "1                 -2.254071  \n",
      "2                  0.269703  \n",
      "3                  0.255471  \n",
      "4                 -0.024957      external_repayment_loans  credit_card_interest_incidence  default_flag  \\\n",
      "0                         0                               1             0   \n",
      "1                         0                               0             0   \n",
      "2                         0                               0             0   \n",
      "3                         1                               0             0   \n",
      "4                         0                               1             0   \n",
      "\n",
      "   bnpl_usage_frequency  financial_stress_score  credit_limit_utilisation  \\\n",
      "0             -0.502550                1.239697                  0.272259   \n",
      "1              0.408279               -0.535864                 -1.670546   \n",
      "2              0.635987               -0.890977                  0.043694   \n",
      "3             -0.730258                0.884585                 -0.108683   \n",
      "4              0.635987                0.529472                 -0.337248   \n",
      "\n",
      "   payment_delinquency_count  impulsive_buying_score  \\\n",
      "0                  -0.907642                0.160491   \n",
      "1                   1.462180               -0.183910   \n",
      "2                  -0.907642               -1.217113   \n",
      "3                   0.277269                1.193694   \n",
      "4                  -1.500097                0.160491   \n",
      "\n",
      "   financial_literacy_assessment  debt_accumulation_metric  \\\n",
      "0                       0.817999                  0.906724   \n",
      "1                      -1.200091                 -1.275897   \n",
      "2                      -1.200091                  0.183774   \n",
      "3                       1.154347                 -1.571962   \n",
      "4                      -1.200091                  0.803445   \n",
      "\n",
      "   return_dispute_incidents  demographic_risk_factor  bnpl_debt_ratio  \\\n",
      "0                 -1.360402                 1.350875        -0.288312   \n",
      "1                  1.267548                 1.350875         0.500191   \n",
      "2                 -0.484419                 1.350875        -1.549916   \n",
      "3                 -0.484419                -0.742423        -0.183178   \n",
      "4                 -0.484419                -0.044657         0.920726   \n",
      "\n",
      "   stress_usage_interaction  \n",
      "0                 -0.623010  \n",
      "1                 -0.218782  \n",
      "2                 -0.566649  \n",
      "3                 -0.645975  \n",
      "4                  0.336737  \n",
      "Train nulls in target: 0\n",
      "Train class distribution:\n",
      " default_flag\n",
      "0    0.922689\n",
      "1    0.077311\n",
      "Name: proportion, dtype: float64\n"
     ]
    }
   ],
   "source": [
    "print(train_df.shape, test_df.shape, val_df.shape)\n",
    "print(train_df.head(), test_df.head(), val_df.head())\n",
    "print(\"Train nulls in target:\", train_df[\"default_flag\"].isna().sum())\n",
    "print(\"Train class distribution:\\n\", train_df[\"default_flag\"].value_counts(normalize=True))"
   ]
  },
  {
   "cell_type": "code",
   "execution_count": 5,
   "metadata": {},
   "outputs": [
    {
     "name": "stdout",
     "output_type": "stream",
     "text": [
      "X_train shape: (595, 13)    external_repayment_loans  credit_card_interest_incidence  \\\n",
      "0                         1                               0   \n",
      "1                         0                               0   \n",
      "2                         0                               0   \n",
      "3                         0                               1   \n",
      "4                         1                               1   \n",
      "\n",
      "   bnpl_usage_frequency  financial_stress_score  credit_limit_utilisation  \\\n",
      "0             -0.730258               -1.246089                 -1.746734   \n",
      "1              1.319109                0.529472                 -0.222965   \n",
      "2              0.408279                1.239697                  0.805578   \n",
      "3             -1.641088                1.594809                 -0.184871   \n",
      "4              0.408279                0.529472                 -1.556263   \n",
      "\n",
      "   payment_delinquency_count  impulsive_buying_score  \\\n",
      "0                  -1.500097               -0.528311   \n",
      "1                  -1.500097               -0.528311   \n",
      "2                   1.462180                0.160491   \n",
      "3                  -0.907642               -0.872712   \n",
      "4                  -0.907642               -0.872712   \n",
      "\n",
      "   financial_literacy_assessment  debt_accumulation_metric  \\\n",
      "0                       1.490696                  0.734593   \n",
      "1                       1.154347                 -0.311963   \n",
      "2                      -0.527394                 -1.757863   \n",
      "3                       0.481651                 -1.117536   \n",
      "4                      -0.527394                 -0.601143   \n",
      "\n",
      "   return_dispute_incidents  demographic_risk_factor  bnpl_debt_ratio  \\\n",
      "0                 -0.484419                -0.044657         1.691706   \n",
      "1                 -0.484419                 0.653109         1.604095   \n",
      "2                  1.267548                 1.350875        -0.726369   \n",
      "3                  1.267548                -1.440189        -1.357171   \n",
      "4                  0.391565                 0.653109        -1.760183   \n",
      "\n",
      "   stress_usage_interaction  \n",
      "0                  0.909966  \n",
      "1                  0.698432  \n",
      "2                  0.506143  \n",
      "3                 -2.617221  \n",
      "4                  0.216173  \n",
      "y_train shape: (595,) 0    0\n",
      "1    0\n",
      "2    0\n",
      "3    0\n",
      "4    0\n",
      "Name: default_flag, dtype: int64\n"
     ]
    }
   ],
   "source": [
    "X_train = train_df.drop(columns=[target_col])\n",
    "y_train = train_df[target_col]\n",
    "print(\"X_train shape:\", X_train.shape, X_train.head())\n",
    "print(\"y_train shape:\", y_train.shape, y_train.head())\n",
    "\n"
   ]
  },
  {
   "cell_type": "code",
   "execution_count": 6,
   "metadata": {},
   "outputs": [
    {
     "name": "stdout",
     "output_type": "stream",
     "text": [
      "X_test shape: (199, 13)    external_repayment_loans  credit_card_interest_incidence  \\\n",
      "0                         0                               0   \n",
      "1                         0                               1   \n",
      "2                         1                               0   \n",
      "3                         0                               0   \n",
      "4                         0                               0   \n",
      "\n",
      "   bnpl_usage_frequency  financial_stress_score  credit_limit_utilisation  \\\n",
      "0              0.180572               -0.890977                  0.005600   \n",
      "1             -1.413380                1.594809                  1.643651   \n",
      "2              1.546817                0.174360                 -1.670546   \n",
      "3             -1.413380               -0.180752                 -1.327698   \n",
      "4             -0.047135                0.529472                  1.567463   \n",
      "\n",
      "   payment_delinquency_count  impulsive_buying_score  \\\n",
      "0                   1.462180                0.504892   \n",
      "1                  -0.315186               -0.528311   \n",
      "2                  -1.500097                0.504892   \n",
      "3                  -0.907642               -1.217113   \n",
      "4                   1.462180                0.504892   \n",
      "\n",
      "   financial_literacy_assessment  debt_accumulation_metric  \\\n",
      "0                      -0.527394                 -0.126062   \n",
      "1                       0.145302                  0.796560   \n",
      "2                       1.154347                  1.244101   \n",
      "3                      -0.191046                  0.369675   \n",
      "4                      -0.527394                 -0.112291   \n",
      "\n",
      "   return_dispute_incidents  demographic_risk_factor  bnpl_debt_ratio  \\\n",
      "0                  1.267548                 1.350875         1.516483   \n",
      "1                  1.267548                -0.742423        -1.584960   \n",
      "2                  1.267548                -0.044657         0.833114   \n",
      "3                 -0.484419                 0.653109        -0.638757   \n",
      "4                 -1.360402                -0.044657        -1.094336   \n",
      "\n",
      "   stress_usage_interaction  \n",
      "0                 -0.160885  \n",
      "1                 -2.254071  \n",
      "2                  0.269703  \n",
      "3                  0.255471  \n",
      "4                 -0.024957  \n",
      "y_test shape: (199,) 0    0\n",
      "1    0\n",
      "2    0\n",
      "3    0\n",
      "4    0\n",
      "Name: default_flag, dtype: int64\n"
     ]
    }
   ],
   "source": [
    "X_test = test_df.drop(columns=[target_col])\n",
    "y_test = test_df[target_col]\n",
    "print(\"X_test shape:\", X_test.shape, X_test.head())\n",
    "print(\"y_test shape:\", y_test.shape, y_test.head())"
   ]
  },
  {
   "cell_type": "code",
   "execution_count": 7,
   "metadata": {},
   "outputs": [
    {
     "name": "stdout",
     "output_type": "stream",
     "text": [
      "X_val shape: (199, 13)    external_repayment_loans  credit_card_interest_incidence  \\\n",
      "0                         0                               1   \n",
      "1                         0                               0   \n",
      "2                         0                               0   \n",
      "3                         1                               0   \n",
      "4                         0                               1   \n",
      "\n",
      "   bnpl_usage_frequency  financial_stress_score  credit_limit_utilisation  \\\n",
      "0             -0.502550                1.239697                  0.272259   \n",
      "1              0.408279               -0.535864                 -1.670546   \n",
      "2              0.635987               -0.890977                  0.043694   \n",
      "3             -0.730258                0.884585                 -0.108683   \n",
      "4              0.635987                0.529472                 -0.337248   \n",
      "\n",
      "   payment_delinquency_count  impulsive_buying_score  \\\n",
      "0                  -0.907642                0.160491   \n",
      "1                   1.462180               -0.183910   \n",
      "2                  -0.907642               -1.217113   \n",
      "3                   0.277269                1.193694   \n",
      "4                  -1.500097                0.160491   \n",
      "\n",
      "   financial_literacy_assessment  debt_accumulation_metric  \\\n",
      "0                       0.817999                  0.906724   \n",
      "1                      -1.200091                 -1.275897   \n",
      "2                      -1.200091                  0.183774   \n",
      "3                       1.154347                 -1.571962   \n",
      "4                      -1.200091                  0.803445   \n",
      "\n",
      "   return_dispute_incidents  demographic_risk_factor  bnpl_debt_ratio  \\\n",
      "0                 -1.360402                 1.350875        -0.288312   \n",
      "1                  1.267548                 1.350875         0.500191   \n",
      "2                 -0.484419                 1.350875        -1.549916   \n",
      "3                 -0.484419                -0.742423        -0.183178   \n",
      "4                 -0.484419                -0.044657         0.920726   \n",
      "\n",
      "   stress_usage_interaction  \n",
      "0                 -0.623010  \n",
      "1                 -0.218782  \n",
      "2                 -0.566649  \n",
      "3                 -0.645975  \n",
      "4                  0.336737  \n",
      "y_val shape: (199,) 0    0\n",
      "1    0\n",
      "2    0\n",
      "3    0\n",
      "4    0\n",
      "Name: default_flag, dtype: int64\n"
     ]
    }
   ],
   "source": [
    "X_val = val_df.drop(columns=[target_col])\n",
    "y_val = val_df[target_col]\n",
    "print(\"X_val shape:\", X_val.shape, X_val.head())\n",
    "print(\"y_val shape:\", y_val.shape, y_val.head())"
   ]
  },
  {
   "cell_type": "code",
   "execution_count": 8,
   "metadata": {},
   "outputs": [
    {
     "name": "stdout",
     "output_type": "stream",
     "text": [
      "default_flag\n",
      "0    0.922689\n",
      "1    0.077311\n",
      "Name: proportion, dtype: float64\n",
      "default_flag\n",
      "0    0.919598\n",
      "1    0.080402\n",
      "Name: proportion, dtype: float64\n",
      "default_flag\n",
      "0    0.919598\n",
      "1    0.080402\n",
      "Name: proportion, dtype: float64\n"
     ]
    }
   ],
   "source": [
    "print(y_train.value_counts(normalize=True))\n",
    "print(y_val.value_counts(normalize=True))\n",
    "print(y_test.value_counts(normalize=True))\n"
   ]
  },
  {
   "cell_type": "markdown",
   "metadata": {},
   "source": [
    "Model"
   ]
  },
  {
   "cell_type": "code",
   "execution_count": 9,
   "metadata": {},
   "outputs": [
    {
     "name": "stdout",
     "output_type": "stream",
     "text": [
      "Validation ROC AUC: 1.0000\n"
     ]
    },
    {
     "name": "stderr",
     "output_type": "stream",
     "text": [
      "C:\\Program Files\\WindowsApps\\PythonSoftwareFoundation.Python.3.13_3.13.2032.0_x64__qbz5n2kfra8p0\\Lib\\site-packages\\xgboost\\training.py:183: UserWarning: [18:51:11] WARNING: C:\\actions-runner\\_work\\xgboost\\xgboost\\src\\learner.cc:738: \n",
      "Parameters: { \"use_label_encoder\" } are not used.\n",
      "\n",
      "  bst.update(dtrain, iteration=i, fobj=obj)\n"
     ]
    }
   ],
   "source": [
    "# Fit without early stopping:\n",
    "XG_model = XGBClassifier(random_state=SEED,\n",
    "                      use_label_encoder=False,\n",
    "                      eval_metric=\"logloss\")  \n",
    "\n",
    "XG_model.fit(X_train, y_train)\n",
    "\n",
    "# Predict & evaluate:\n",
    "y_valid_proba = XG_model.predict_proba(X_val)[:, 1]\n",
    "from sklearn.metrics import roc_auc_score\n",
    "auc = roc_auc_score(y_val, y_valid_proba)\n",
    "print(f\"Validation ROC AUC: {auc:.4f}\")\n"
   ]
  },
  {
   "cell_type": "code",
   "execution_count": 10,
   "metadata": {},
   "outputs": [
    {
     "name": "stdout",
     "output_type": "stream",
     "text": [
      "Fitting 3 folds for each of 50 candidates, totalling 150 fits\n"
     ]
    },
    {
     "name": "stderr",
     "output_type": "stream",
     "text": [
      "C:\\Program Files\\WindowsApps\\PythonSoftwareFoundation.Python.3.13_3.13.2032.0_x64__qbz5n2kfra8p0\\Lib\\site-packages\\xgboost\\training.py:183: UserWarning: [18:51:16] WARNING: C:\\actions-runner\\_work\\xgboost\\xgboost\\src\\learner.cc:738: \n",
      "Parameters: { \"use_label_encoder\" } are not used.\n",
      "\n",
      "  bst.update(dtrain, iteration=i, fobj=obj)\n"
     ]
    }
   ],
   "source": [
    "\n",
    "param_dist = {\n",
    "    'n_estimators': [100, 200, 300],\n",
    "    'max_depth': [3, 5, 7],\n",
    "    'learning_rate': [0.01, 0.1, 0.2],\n",
    "    'subsample': [0.8, 1.0],\n",
    "    'colsample_bytree': [0.8, 1.0],\n",
    "    'gamma': [0, 0.1, 0.2],\n",
    "    'reg_alpha': [0, 0.1, 1],\n",
    "    'reg_lambda': [1, 1.5, 2]\n",
    "}\n",
    "\n",
    "rs = RandomizedSearchCV(\n",
    "    estimator=XGBClassifier(\n",
    "        use_label_encoder=False,\n",
    "        eval_metric=\"logloss\",\n",
    "        random_state=SEED,\n",
    "        n_jobs=1,               # avoid nested process pools in XGBoost\n",
    "    ),\n",
    "    param_distributions=param_dist,\n",
    "    n_iter=50,\n",
    "    scoring=\"roc_auc\",\n",
    "    cv=3,\n",
    "    verbose=1,\n",
    "    n_jobs=-1,                 # we’ll turn this into threads below\n",
    "    random_state=SEED\n",
    ")\n",
    "\n",
    "with parallel_backend(\"threading\"):    # <- uses threads, no subprocess spawn\n",
    "    rs.fit(X_train, y_train)\n"
   ]
  },
  {
   "cell_type": "code",
   "execution_count": 11,
   "metadata": {},
   "outputs": [
    {
     "name": "stdout",
     "output_type": "stream",
     "text": [
      "Tuned model ROC AUC on valid:  1.0\n"
     ]
    },
    {
     "name": "stderr",
     "output_type": "stream",
     "text": [
      "C:\\Program Files\\WindowsApps\\PythonSoftwareFoundation.Python.3.13_3.13.2032.0_x64__qbz5n2kfra8p0\\Lib\\site-packages\\xgboost\\training.py:183: UserWarning: [18:51:16] WARNING: C:\\actions-runner\\_work\\xgboost\\xgboost\\src\\learner.cc:738: \n",
      "Parameters: { \"use_label_encoder\" } are not used.\n",
      "\n",
      "  bst.update(dtrain, iteration=i, fobj=obj)\n"
     ]
    }
   ],
   "source": [
    "best_params = rs.best_params_\n",
    "\n",
    "# Re-instantiate with best params\n",
    "best_model = XGBClassifier(\n",
    "    **best_params,\n",
    "    use_label_encoder=False,\n",
    "    eval_metric=\"logloss\",\n",
    "    random_state=SEED\n",
    ")\n",
    "\n",
    "# Fit on train + valid (optional) or just train\n",
    "best_model.fit(\n",
    "    X_train,\n",
    "    y_train,\n",
    "    # if your version supports it:\n",
    "    #early_stopping_rounds=10,\n",
    "    eval_set=[(X_val, y_val)],\n",
    "    verbose=False\n",
    ")\n",
    "\n",
    "# Final AUC on the validation set:\n",
    "y_valid_proba = best_model.predict_proba(X_val)[:, 1]\n",
    "print(\"Tuned model ROC AUC on valid: \",\n",
    "      roc_auc_score(y_val, y_valid_proba))\n"
   ]
  },
  {
   "cell_type": "code",
   "execution_count": 12,
   "metadata": {},
   "outputs": [
    {
     "name": "stdout",
     "output_type": "stream",
     "text": [
      "Best CV AUC (3-fold on train): 0.9990588949605343\n",
      "Best hyperparameters: {'subsample': 1.0, 'reg_lambda': 2, 'reg_alpha': 0, 'n_estimators': 100, 'max_depth': 7, 'learning_rate': 0.2, 'gamma': 0.1, 'colsample_bytree': 1.0}\n"
     ]
    }
   ],
   "source": [
    "print(\"Best CV AUC (3-fold on train):\", rs.best_score_)\n",
    "print(\"Best hyperparameters:\", rs.best_params_)\n"
   ]
  },
  {
   "cell_type": "code",
   "execution_count": 13,
   "metadata": {},
   "outputs": [
    {
     "name": "stdout",
     "output_type": "stream",
     "text": [
      "Confusion matrix:\n",
      " [[183   0]\n",
      " [  3  13]]\n",
      "Precision: 1.000\n",
      "Recall:    0.812\n",
      "F1-score:  0.897\n",
      "ROC AUC:   1.000\n",
      "\n",
      "Classification report:\n",
      "              precision    recall  f1-score   support\n",
      "\n",
      "           0      0.984     1.000     0.992       183\n",
      "           1      1.000     0.812     0.897        16\n",
      "\n",
      "    accuracy                          0.985       199\n",
      "   macro avg      0.992     0.906     0.944       199\n",
      "weighted avg      0.985     0.985     0.984       199\n",
      "\n"
     ]
    }
   ],
   "source": [
    "# 1. Predict class labels and probabilities\n",
    "y_pred      = best_model.predict(X_test)\n",
    "y_proba_pos = best_model.predict_proba(X_test)[:, 1]\n",
    "\n",
    "# 2. Confusion matrix\n",
    "cm = confusion_matrix(y_test, y_pred)\n",
    "print(\"Confusion matrix:\\n\", cm)\n",
    "# Optionally, label rows/cols if you want prettier output:\n",
    "#   tn, fp, fn, tp = cm.ravel()\n",
    "\n",
    "# 3. Precision, Recall, F1 (binary)\n",
    "prec = precision_score(y_test, y_pred)\n",
    "rec  = recall_score(y_test, y_pred)\n",
    "f1   = f1_score(y_test, y_pred)\n",
    "print(f\"Precision: {prec:.3f}\")\n",
    "print(f\"Recall:    {rec:.3f}\")\n",
    "print(f\"F1-score:  {f1:.3f}\")\n",
    "\n",
    "# 4. AUC (just to confirm)\n",
    "auc = roc_auc_score(y_test, y_proba_pos)\n",
    "print(f\"ROC AUC:   {auc:.3f}\")\n",
    "\n",
    "# 5. Full classification report\n",
    "print(\"\\nClassification report:\")\n",
    "print(classification_report(y_test, y_pred, digits=3))"
   ]
  },
  {
   "cell_type": "code",
   "execution_count": 14,
   "metadata": {},
   "outputs": [
    {
     "data": {
      "image/png": "[encoded data removed]",
      "text/plain": [
       "<Figure size 640x480 with 1 Axes>"
      ]
     },
     "metadata": {},
     "output_type": "display_data"
    }
   ],
   "source": [
    "precisions, recalls, thresholds = precision_recall_curve(y_test, y_proba_pos)\n",
    "\n",
    "plt.figure()\n",
    "plt.plot(recalls, precisions)      # no specific colors\n",
    "plt.xlabel(\"Recall\")\n",
    "plt.ylabel(\"Precision\")\n",
    "plt.title(\"Precision–Recall Curve on Test Set\")\n",
    "plt.grid(True)\n",
    "plt.show()\n"
   ]
  },
  {
   "cell_type": "code",
   "execution_count": 15,
   "metadata": {},
   "outputs": [
    {
     "name": "stdout",
     "output_type": "stream",
     "text": [
      "Threshold = 0.20\n",
      "  Confusion matrix: [[183, 0], [2, 14]]\n",
      "  Precision: 1.000   Recall: 0.875   F1: 0.933\n",
      "\n",
      "Threshold = 0.30\n",
      "  Confusion matrix: [[183, 0], [2, 14]]\n",
      "  Precision: 1.000   Recall: 0.875   F1: 0.933\n",
      "\n",
      "Threshold = 0.40\n",
      "  Confusion matrix: [[183, 0], [2, 14]]\n",
      "  Precision: 1.000   Recall: 0.875   F1: 0.933\n",
      "\n",
      "Threshold = 0.50\n",
      "  Confusion matrix: [[183, 0], [3, 13]]\n",
      "  Precision: 1.000   Recall: 0.812   F1: 0.897\n",
      "\n",
      "Threshold = 0.60\n",
      "  Confusion matrix: [[183, 0], [4, 12]]\n",
      "  Precision: 1.000   Recall: 0.750   F1: 0.857\n",
      "\n"
     ]
    }
   ],
   "source": [
    "\n",
    "def eval_at_thresh(thresh):\n",
    "    y_pred_thresh = (y_proba_pos >= thresh).astype(int)\n",
    "    tn, fp, fn, tp = confusion_matrix(y_test, y_pred_thresh).ravel()\n",
    "    prec = precision_score(y_test, y_pred_thresh)\n",
    "    rec  = recall_score(y_test, y_pred_thresh)\n",
    "    f1   = f1_score(y_test, y_pred_thresh)\n",
    "    print(f\"Threshold = {thresh:.2f}\")\n",
    "    print(f\"  Confusion matrix: [[{tn}, {fp}], [{fn}, {tp}]]\")\n",
    "    print(f\"  Precision: {prec:.3f}   Recall: {rec:.3f}   F1: {f1:.3f}\\n\")\n",
    "\n",
    "# Example thresholds\n",
    "for t in [0.2, 0.3, 0.4, 0.5, 0.6]:\n",
    "    eval_at_thresh(t)\n"
   ]
  },
  {
   "cell_type": "code",
   "execution_count": 16,
   "metadata": {},
   "outputs": [
    {
     "name": "stdout",
     "output_type": "stream",
     "text": [
      "Best F1: 1.0 at thresh = 0.07568469\n"
     ]
    }
   ],
   "source": [
    "precisions, recalls, thresholds = precision_recall_curve(y_test, y_proba_pos)\n",
    "f1s = 2 * (precisions * recalls) / (precisions + recalls)\n",
    "best_idx = f1s.argmax()\n",
    "print(\"Best F1:\", f1s[best_idx], \"at thresh =\", thresholds[best_idx])\n"
   ]
  },
  {
   "cell_type": "code",
   "execution_count": 19,
   "metadata": {},
   "outputs": [],
   "source": [
    "fpr, tpr, threshold = roc_curve(y_test, y_pred)\n",
    "results = {\n",
    "    \"threshold\": float (thresholds[best_idx]),\n",
    "    \"confusion_matrix\": confusion_matrix(y_test, y_pred).tolist(),\n",
    "    \"accuracy\": accuracy_score(y_test, y_pred),\n",
    "    \"precision\": precisions[best_idx],\n",
    "    \"recall\": recalls[best_idx],\n",
    "    \"f1_score\": f1s[best_idx],\n",
    "    \"roc_auc\": roc_auc_score(y_test, y_proba_pos),\n",
    "    \"fpr\": fpr.tolist(),\n",
    "    \"tpr\": tpr.tolist(),\n",
    "    \"roc_thresholds\": threshold.tolist(),\n",
    "    \n",
    "}\n",
    "with open(\"Results/XGB_model_results.json\", \"w\") as f:\n",
    "    json.dump(results, f)"
   ]
  },
  {
   "cell_type": "code",
   "execution_count": 18,
   "metadata": {},
   "outputs": [
    {
     "data": {
      "image/png": "[encoded data removed]",
      "text/plain": [
       "<Figure size 600x500 with 1 Axes>"
      ]
     },
     "metadata": {},
     "output_type": "display_data"
    }
   ],
   "source": [
    "\n",
    "# Raw counts\n",
    "cm = confusion_matrix(y_test, y_pred, labels=[0, 1])\n",
    "disp = ConfusionMatrixDisplay(confusion_matrix=cm, display_labels=['No default', 'Default'])\n",
    "\n",
    "# Plot with custom settings\n",
    "fig, ax = plt.subplots(figsize=(6, 5))\n",
    "disp.plot(values_format='d', cmap='tab20_r', ax=ax, colorbar=0)\n",
    "\n",
    "# Make the numbers bigger\n",
    "for text in disp.text_.ravel():   # text_ stores the annotation objects\n",
    "    text.set_fontsize(15)\n",
    "    text.set_color('black')  # Set text color to black for better visibility\n",
    "n_classes = cm.shape[0]\n",
    "for i in range(1, n_classes):  \n",
    "    ax.axhline(i - 0.5, color='white', linewidth=3)  # horizontal line\n",
    "    ax.axvline(i - 0.5, color='white', linewidth=3)  # vertical line\n",
    "for spine in ax.spines.values():\n",
    "    spine.set_visible(False)\n",
    "plt.title('XGBoost Confusion Matrix')\n",
    "plt.savefig(\"Plots/Confusion Matricies/XGBoost_cm.png\")\n",
    "plt.tight_layout()\n",
    "plt.show()"
   ]
  }
 ],
 "metadata": {
  "kernelspec": {
   "display_name": "Python 3",
   "language": "python",
   "name": "python3"
  },
  "language_info": {
   "codemirror_mode": {
    "name": "ipython",
    "version": 3
   },
   "file_extension": ".py",
   "mimetype": "text/x-python",
   "name": "python",
   "nbconvert_exporter": "python",
   "pygments_lexer": "ipython3",
   "version": "3.13.7"
  }
 },
 "nbformat": 4,
 "nbformat_minor": 2
}
